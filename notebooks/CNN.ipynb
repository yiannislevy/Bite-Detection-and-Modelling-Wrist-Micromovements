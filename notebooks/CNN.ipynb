{
 "cells": [
  {
   "cell_type": "code",
   "execution_count": 1,
   "outputs": [],
   "source": [
    "from tensorflow.keras.models import Sequential\n",
    "from tensorflow.keras.layers import Conv1D, MaxPooling1D, Flatten, Dense, Dropout\n",
    "from tensorflow.keras.utils import to_categorical\n",
    "from sklearn.model_selection import train_test_split\n",
    "import numpy as np\n",
    "import pickle as pkl\n",
    "from src.utils.data_transform import *"
   ],
   "metadata": {
    "collapsed": false,
    "ExecuteTime": {
     "end_time": "2024-01-03T16:46:56.010817Z",
     "start_time": "2024-01-03T16:46:53.880157Z"
    }
   },
   "id": "147c54d3dcb5df3f"
  },
  {
   "cell_type": "code",
   "execution_count": 2,
   "outputs": [],
   "source": [
    "with open('../data/FIC.pkl', 'rb') as fh:\n",
    "    dataset = pkl.load(fh)\n",
    "\n",
    "data = dataset['signals_proc']\n",
    "mm_gt = dataset['mm_gt']\n",
    "bite_gt = dataset['bite_gt']"
   ],
   "metadata": {
    "collapsed": false,
    "ExecuteTime": {
     "end_time": "2024-01-03T16:46:56.658348Z",
     "start_time": "2024-01-03T16:46:56.615967Z"
    }
   },
   "id": "662df9347f17ab6a"
  },
  {
   "cell_type": "code",
   "execution_count": 3,
   "outputs": [],
   "source": [
    "# Helper function to create windows from the sensor data\n",
    "def create_windows(sensor_data, window_size, step_size):\n",
    "    num_windows = (len(sensor_data) - window_size) // step_size + 1\n",
    "    return np.array([sensor_data[i:i+window_size] for i in range(0, num_windows * step_size, step_size)])\n",
    "\n",
    "# Helper function to label the windows based on the micromovements\n",
    "def label_windows(windows, mm_gt, window_size, step_size):\n",
    "    labels = np.zeros((len(windows),))\n",
    "    for start_time, end_time, movement in mm_gt:\n",
    "        # Find the window index range for the current micromovement\n",
    "        start_index = int(np.floor(start_time / step_size))\n",
    "        end_index = int(np.floor(end_time / step_size))\n",
    "        # Label the windows that overlap with the current micromovement\n",
    "        labels[start_index:end_index+1] = movement\n",
    "    return labels\n",
    "\n",
    "# Parameters for windowing\n",
    "window_size = 20  # 20 samples per window\n",
    "step_size = 10    # 10 samples step size\n",
    "num_classes = 7   # Including the 'other movement' class\n",
    "\n",
    "# Apply windowing to each meal's sensor data and label the windows\n",
    "windowed_data = []\n",
    "windowed_labels = []\n",
    "for meal_data, meal_mm_gt in zip(data, mm_gt):\n",
    "    # Extract just the sensor readings, assuming the first column is the timestamp\n",
    "    sensor_readings = meal_data[:, 1:]\n",
    "    # Create the windows\n",
    "    windows = create_windows(sensor_readings, window_size, step_size)\n",
    "    windowed_data.append(windows)\n",
    "    # Label the windows\n",
    "    labels = label_windows(windows, meal_mm_gt, window_size, step_size)\n",
    "    windowed_labels.append(labels)\n",
    "\n",
    "# Concatenate all windowed data and labels from all meals\n",
    "all_windowed_data = np.concatenate(windowed_data, axis=0)\n",
    "all_windowed_labels = np.concatenate(windowed_labels, axis=0)\n",
    "\n",
    "# One-hot encode the labels\n",
    "encoded_labels = to_categorical(all_windowed_labels, num_classes=num_classes)\n"
   ],
   "metadata": {
    "collapsed": false,
    "ExecuteTime": {
     "end_time": "2024-01-03T16:46:58.431912Z",
     "start_time": "2024-01-03T16:46:58.312474Z"
    }
   },
   "id": "2b63048a3188219f"
  },
  {
   "cell_type": "code",
   "execution_count": null,
   "outputs": [],
   "source": [
    "# # Parameters\n",
    "# window_length = 20  # Number of samples in each window (0.2 seconds at 100Hz)\n",
    "# step_size = 10      # Step size for the sliding window (0.1 seconds at 100Hz)\n",
    "# \n",
    "# # Initialize lists to store windowed data and labels\n",
    "# windowed_data = []\n",
    "# windowed_labels = []"
   ],
   "metadata": {
    "collapsed": false
   },
   "id": "a4cf4a311095df72"
  },
  {
   "cell_type": "code",
   "execution_count": null,
   "outputs": [],
   "source": [
    "# def label_window(start, end, meal_mm_gt):\n",
    "#     # Count the occurrences of each micromovement type within the window\n",
    "#     counts = {}\n",
    "#     for mm in meal_mm_gt:\n",
    "#         mm_start, mm_end, mm_type = mm\n",
    "#         if mm_start >= end:\n",
    "#             break\n",
    "#         if mm_end <= start:\n",
    "#             continue\n",
    "#         counts[mm_type] = counts.get(mm_type, 0) + 1\n",
    "# \n",
    "#     # Return the most frequent micromovement type, or 0 if the window is empty\n",
    "#     return max(counts, key=counts.get) if counts else 0\n"
   ],
   "metadata": {
    "collapsed": false
   },
   "id": "4c4614aebc810a7f"
  },
  {
   "cell_type": "code",
   "execution_count": null,
   "outputs": [],
   "source": [
    "# for meal_data, meal_mm_gt in zip(data, mm_gt):\n",
    "#     # Remove the timestamp column (assuming it's the first column)\n",
    "#     meal_data_no_timestamp = meal_data[:, 1:]\n",
    "# \n",
    "#     # Apply the sliding window\n",
    "#     for start in range(0, len(meal_data_no_timestamp) - window_length + 1, step_size):\n",
    "#         end = start + window_length\n",
    "#         window = meal_data_no_timestamp[start:end]\n",
    "# \n",
    "#         # Label the window\n",
    "#         label = label_window(start, end, meal_mm_gt)\n",
    "#         windowed_data.append(window)\n",
    "#         windowed_labels.append(label)"
   ],
   "metadata": {
    "collapsed": false
   },
   "id": "4d2bf8b9fa3a428c"
  },
  {
   "cell_type": "code",
   "execution_count": null,
   "outputs": [],
   "source": [
    "# windowed_data = np.array(windowed_data)\n",
    "# windowed_labels = np.array(windowed_labels)"
   ],
   "metadata": {
    "collapsed": false
   },
   "id": "617ee83a96e45319"
  },
  {
   "cell_type": "code",
   "execution_count": null,
   "outputs": [],
   "source": [
    "# len(windowed_data)"
   ],
   "metadata": {
    "collapsed": false
   },
   "id": "636fff1f7c958b"
  },
  {
   "cell_type": "code",
   "execution_count": null,
   "outputs": [],
   "source": [
    "# windowed_labels"
   ],
   "metadata": {
    "collapsed": false
   },
   "id": "a17ecefc726e7ba6"
  },
  {
   "cell_type": "code",
   "execution_count": null,
   "outputs": [],
   "source": [
    "# def label_windows(windowed_data, mm_gt, window_length_samples=20, sampling_rate=100):\n",
    "#     labels = []\n",
    "#     # Convert timestamps to sample indices\n",
    "#     mm_gt_indices = (mm_gt[:, :2] * sampling_rate).astype(int)\n",
    "#     for window in windowed_data:\n",
    "#         # Use the middle point of the window to determine the label\n",
    "#         middle_sample_index = window[0, 0] * sampling_rate + window_length_samples // 2\n",
    "#         label = 0  # Default to 'no movement'\n",
    "#         for start_idx, end_idx, movement in mm_gt_indices:\n",
    "#             if start_idx <= middle_sample_index <= end_idx:\n",
    "#                 label = movement\n",
    "#                 break\n",
    "#         # Exclude 'other movement' category\n",
    "#         if label != 6:\n",
    "#             labels.append(label)\n",
    "#         else:\n",
    "#             labels.append(0)  # Treat 'other movement' as 'no movement'\n",
    "#     return np.array(labels) - 1  # Subtract 1 to match the output layer indexing from 0 to 4\n"
   ],
   "metadata": {
    "collapsed": false
   },
   "id": "8952c3cfdc07df22"
  },
  {
   "cell_type": "code",
   "execution_count": null,
   "outputs": [],
   "source": [
    "# def create_windows(subject_data, window_length=20, step_size=10):\n",
    "#     windows = []\n",
    "#     for i in range(0, subject_data.shape[0] - window_length + 1, step_size):\n",
    "#         window = subject_data[i:i+window_length, 1:]  # Exclude the timestamp column\n",
    "#         windows.append(window)\n",
    "#     return np.array(windows)"
   ],
   "metadata": {
    "collapsed": false
   },
   "id": "2f13543da2c6b911"
  },
  {
   "cell_type": "code",
   "execution_count": null,
   "outputs": [],
   "source": [
    "# all_windows = []\n",
    "# all_labels = []"
   ],
   "metadata": {
    "collapsed": false
   },
   "id": "d9d56053a587a113"
  },
  {
   "cell_type": "code",
   "execution_count": null,
   "outputs": [],
   "source": [
    "# for subject_data, subject_mm_gt in zip(data, mm_gt):\n",
    "#     # Create windows for the subject's data\n",
    "#     subject_windows = create_windows(np.array(subject_data))\n",
    "#     # Label the windows for the subject\n",
    "#     subject_labels = label_windows(subject_windows, np.array(subject_mm_gt))\n",
    "#     all_windows.extend(subject_windows)\n",
    "#     all_labels.extend(subject_labels)"
   ],
   "metadata": {
    "collapsed": false
   },
   "id": "1df9d7f5707eb1e7"
  },
  {
   "cell_type": "code",
   "execution_count": null,
   "outputs": [],
   "source": [
    "# all_windows = np.array(all_windows)\n",
    "# all_labels = np.array(all_labels)"
   ],
   "metadata": {
    "collapsed": false
   },
   "id": "a06a1cf3d5d19f03"
  },
  {
   "cell_type": "code",
   "execution_count": null,
   "outputs": [],
   "source": [
    "# all_labels_one_hot = to_categorical(all_labels, num_classes=5)"
   ],
   "metadata": {
    "collapsed": false
   },
   "id": "1aad25580c9bcbee"
  },
  {
   "cell_type": "code",
   "execution_count": null,
   "outputs": [],
   "source": [],
   "metadata": {
    "collapsed": false
   },
   "id": "6626430cd0d20e8"
  },
  {
   "cell_type": "code",
   "execution_count": 4,
   "outputs": [
    {
     "name": "stderr",
     "output_type": "stream",
     "text": [
      "2024-01-03 18:47:12.860476: I metal_plugin/src/device/metal_device.cc:1154] Metal device set to: Apple M1 Max\n",
      "2024-01-03 18:47:12.860513: I metal_plugin/src/device/metal_device.cc:296] systemMemory: 32.00 GB\n",
      "2024-01-03 18:47:12.860521: I metal_plugin/src/device/metal_device.cc:313] maxCacheSize: 10.67 GB\n",
      "2024-01-03 18:47:12.860569: I tensorflow/core/common_runtime/pluggable_device/pluggable_device_factory.cc:306] Could not identify NUMA node of platform GPU ID 0, defaulting to 0. Your kernel may not have been built with NUMA support.\n",
      "2024-01-03 18:47:12.860590: I tensorflow/core/common_runtime/pluggable_device/pluggable_device_factory.cc:272] Created TensorFlow device (/job:localhost/replica:0/task:0/device:GPU:0 with 0 MB memory) -> physical PluggableDevice (device: 0, name: METAL, pci bus id: <undefined>)\n"
     ]
    }
   ],
   "source": [
    "# CNN model architecture\n",
    "model = Sequential()\n",
    "model.add(Conv1D(filters=64, kernel_size=10, activation='relu', input_shape=(20, 6), padding='same'))\n",
    "model.add(MaxPooling1D(pool_size=2))\n",
    "model.add(Conv1D(filters=128, kernel_size=10, activation='relu', padding='same'))\n",
    "model.add(MaxPooling1D(pool_size=2))\n",
    "model.add(Flatten())\n",
    "model.add(Dropout(0.5))  # Apply dropout before the fully connected layer\n",
    "model.add(Dense(5, activation='softmax'))  # 5 classes for the output layer\n",
    "\n",
    "# Compile the model\n",
    "model.compile(optimizer='adam', loss='categorical_crossentropy', metrics=['accuracy'])\n",
    "\n",
    "# Model summary\n",
    "# model.summary()"
   ],
   "metadata": {
    "collapsed": false,
    "ExecuteTime": {
     "end_time": "2024-01-03T16:47:13.019669Z",
     "start_time": "2024-01-03T16:47:12.855740Z"
    }
   },
   "id": "47b529ab50f4e749"
  },
  {
   "cell_type": "code",
   "execution_count": 7,
   "outputs": [
    {
     "ename": "ValueError",
     "evalue": "Data cardinality is ambiguous:\n  x sizes: 163106\n  y sizes: 6\nMake sure all arrays contain the same number of samples.",
     "output_type": "error",
     "traceback": [
      "\u001B[0;31m---------------------------------------------------------------------------\u001B[0m",
      "\u001B[0;31mValueError\u001B[0m                                Traceback (most recent call last)",
      "Cell \u001B[0;32mIn[7], line 2\u001B[0m\n\u001B[1;32m      1\u001B[0m \u001B[38;5;66;03m# Train the CNN with the windowed data and labels\u001B[39;00m\n\u001B[0;32m----> 2\u001B[0m \u001B[43mmodel\u001B[49m\u001B[38;5;241;43m.\u001B[39;49m\u001B[43mfit\u001B[49m\u001B[43m(\u001B[49m\u001B[43mall_windowed_data\u001B[49m\u001B[43m,\u001B[49m\u001B[43m \u001B[49m\u001B[43mall_windowed_labels\u001B[49m\u001B[43m[\u001B[49m\u001B[43m:\u001B[49m\u001B[38;5;241;43m6\u001B[39;49m\u001B[43m]\u001B[49m\u001B[43m,\u001B[49m\u001B[43m \u001B[49m\u001B[43mepochs\u001B[49m\u001B[38;5;241;43m=\u001B[39;49m\u001B[38;5;241;43m32\u001B[39;49m\u001B[43m,\u001B[49m\u001B[43m \u001B[49m\u001B[43mbatch_size\u001B[49m\u001B[38;5;241;43m=\u001B[39;49m\u001B[38;5;241;43m32\u001B[39;49m\u001B[43m)\u001B[49m\n",
      "File \u001B[0;32m/opt/homebrew/Caskroom/miniforge/base/envs/tfenv/lib/python3.10/site-packages/keras/src/utils/traceback_utils.py:70\u001B[0m, in \u001B[0;36mfilter_traceback.<locals>.error_handler\u001B[0;34m(*args, **kwargs)\u001B[0m\n\u001B[1;32m     67\u001B[0m     filtered_tb \u001B[38;5;241m=\u001B[39m _process_traceback_frames(e\u001B[38;5;241m.\u001B[39m__traceback__)\n\u001B[1;32m     68\u001B[0m     \u001B[38;5;66;03m# To get the full stack trace, call:\u001B[39;00m\n\u001B[1;32m     69\u001B[0m     \u001B[38;5;66;03m# `tf.debugging.disable_traceback_filtering()`\u001B[39;00m\n\u001B[0;32m---> 70\u001B[0m     \u001B[38;5;28;01mraise\u001B[39;00m e\u001B[38;5;241m.\u001B[39mwith_traceback(filtered_tb) \u001B[38;5;28;01mfrom\u001B[39;00m \u001B[38;5;28;01mNone\u001B[39;00m\n\u001B[1;32m     71\u001B[0m \u001B[38;5;28;01mfinally\u001B[39;00m:\n\u001B[1;32m     72\u001B[0m     \u001B[38;5;28;01mdel\u001B[39;00m filtered_tb\n",
      "File \u001B[0;32m/opt/homebrew/Caskroom/miniforge/base/envs/tfenv/lib/python3.10/site-packages/keras/src/engine/data_adapter.py:1960\u001B[0m, in \u001B[0;36m_check_data_cardinality\u001B[0;34m(data)\u001B[0m\n\u001B[1;32m   1953\u001B[0m     msg \u001B[38;5;241m+\u001B[39m\u001B[38;5;241m=\u001B[39m \u001B[38;5;124m\"\u001B[39m\u001B[38;5;124m  \u001B[39m\u001B[38;5;132;01m{}\u001B[39;00m\u001B[38;5;124m sizes: \u001B[39m\u001B[38;5;132;01m{}\u001B[39;00m\u001B[38;5;130;01m\\n\u001B[39;00m\u001B[38;5;124m\"\u001B[39m\u001B[38;5;241m.\u001B[39mformat(\n\u001B[1;32m   1954\u001B[0m         label,\n\u001B[1;32m   1955\u001B[0m         \u001B[38;5;124m\"\u001B[39m\u001B[38;5;124m, \u001B[39m\u001B[38;5;124m\"\u001B[39m\u001B[38;5;241m.\u001B[39mjoin(\n\u001B[1;32m   1956\u001B[0m             \u001B[38;5;28mstr\u001B[39m(i\u001B[38;5;241m.\u001B[39mshape[\u001B[38;5;241m0\u001B[39m]) \u001B[38;5;28;01mfor\u001B[39;00m i \u001B[38;5;129;01min\u001B[39;00m tf\u001B[38;5;241m.\u001B[39mnest\u001B[38;5;241m.\u001B[39mflatten(single_data)\n\u001B[1;32m   1957\u001B[0m         ),\n\u001B[1;32m   1958\u001B[0m     )\n\u001B[1;32m   1959\u001B[0m msg \u001B[38;5;241m+\u001B[39m\u001B[38;5;241m=\u001B[39m \u001B[38;5;124m\"\u001B[39m\u001B[38;5;124mMake sure all arrays contain the same number of samples.\u001B[39m\u001B[38;5;124m\"\u001B[39m\n\u001B[0;32m-> 1960\u001B[0m \u001B[38;5;28;01mraise\u001B[39;00m \u001B[38;5;167;01mValueError\u001B[39;00m(msg)\n",
      "\u001B[0;31mValueError\u001B[0m: Data cardinality is ambiguous:\n  x sizes: 163106\n  y sizes: 6\nMake sure all arrays contain the same number of samples."
     ]
    }
   ],
   "source": [
    "# Train the CNN with the windowed data and labels\n",
    "model.fit(all_windowed_data, all_windowed_labels, epochs=32, batch_size=32)"
   ],
   "metadata": {
    "collapsed": false,
    "ExecuteTime": {
     "end_time": "2024-01-03T18:00:16.378858Z",
     "start_time": "2024-01-03T18:00:16.324590Z"
    }
   },
   "id": "f4f95bbbd267f063"
  },
  {
   "cell_type": "code",
   "execution_count": 8,
   "outputs": [
    {
     "data": {
      "text/plain": "array([0., 6., 4., ..., 0., 0., 0.])"
     },
     "execution_count": 8,
     "metadata": {},
     "output_type": "execute_result"
    }
   ],
   "source": [
    "all_windowed_labels"
   ],
   "metadata": {
    "collapsed": false,
    "ExecuteTime": {
     "end_time": "2024-01-03T18:00:37.914749Z",
     "start_time": "2024-01-03T18:00:37.896971Z"
    }
   },
   "id": "9de422cbbb5251c0"
  },
  {
   "cell_type": "code",
   "execution_count": 14,
   "outputs": [],
   "source": [
    "new_windowed = all_windowed_data[all_windowed_labels != 6]\n",
    "new_labels = all_windowed_labels[all_windowed_labels != 6]"
   ],
   "metadata": {
    "collapsed": false,
    "ExecuteTime": {
     "end_time": "2024-01-03T18:08:41.933216Z",
     "start_time": "2024-01-03T18:08:41.903956Z"
    }
   },
   "id": "df17a129eb169969"
  },
  {
   "cell_type": "code",
   "execution_count": 16,
   "outputs": [
    {
     "data": {
      "text/plain": "162195"
     },
     "execution_count": 16,
     "metadata": {},
     "output_type": "execute_result"
    }
   ],
   "source": [],
   "metadata": {
    "collapsed": false,
    "ExecuteTime": {
     "end_time": "2024-01-03T18:08:52.040868Z",
     "start_time": "2024-01-03T18:08:52.037432Z"
    }
   },
   "id": "b10fcf62b318c4e2"
  },
  {
   "cell_type": "code",
   "execution_count": 17,
   "outputs": [
    {
     "name": "stdout",
     "output_type": "stream",
     "text": [
      "Epoch 1/32\n"
     ]
    },
    {
     "ename": "ValueError",
     "evalue": "in user code:\n\n    File \"/opt/homebrew/Caskroom/miniforge/base/envs/tfenv/lib/python3.10/site-packages/keras/src/engine/training.py\", line 1401, in train_function  *\n        return step_function(self, iterator)\n    File \"/opt/homebrew/Caskroom/miniforge/base/envs/tfenv/lib/python3.10/site-packages/keras/src/engine/training.py\", line 1384, in step_function  **\n        outputs = model.distribute_strategy.run(run_step, args=(data,))\n    File \"/opt/homebrew/Caskroom/miniforge/base/envs/tfenv/lib/python3.10/site-packages/keras/src/engine/training.py\", line 1373, in run_step  **\n        outputs = model.train_step(data)\n    File \"/opt/homebrew/Caskroom/miniforge/base/envs/tfenv/lib/python3.10/site-packages/keras/src/engine/training.py\", line 1151, in train_step\n        loss = self.compute_loss(x, y, y_pred, sample_weight)\n    File \"/opt/homebrew/Caskroom/miniforge/base/envs/tfenv/lib/python3.10/site-packages/keras/src/engine/training.py\", line 1209, in compute_loss\n        return self.compiled_loss(\n    File \"/opt/homebrew/Caskroom/miniforge/base/envs/tfenv/lib/python3.10/site-packages/keras/src/engine/compile_utils.py\", line 277, in __call__\n        loss_value = loss_obj(y_t, y_p, sample_weight=sw)\n    File \"/opt/homebrew/Caskroom/miniforge/base/envs/tfenv/lib/python3.10/site-packages/keras/src/losses.py\", line 143, in __call__\n        losses = call_fn(y_true, y_pred)\n    File \"/opt/homebrew/Caskroom/miniforge/base/envs/tfenv/lib/python3.10/site-packages/keras/src/losses.py\", line 270, in call  **\n        return ag_fn(y_true, y_pred, **self._fn_kwargs)\n    File \"/opt/homebrew/Caskroom/miniforge/base/envs/tfenv/lib/python3.10/site-packages/keras/src/losses.py\", line 2221, in categorical_crossentropy\n        return backend.categorical_crossentropy(\n    File \"/opt/homebrew/Caskroom/miniforge/base/envs/tfenv/lib/python3.10/site-packages/keras/src/backend.py\", line 5573, in categorical_crossentropy\n        target.shape.assert_is_compatible_with(output.shape)\n\n    ValueError: Shapes (None, 1) and (None, 5) are incompatible\n",
     "output_type": "error",
     "traceback": [
      "\u001B[0;31m---------------------------------------------------------------------------\u001B[0m",
      "\u001B[0;31mValueError\u001B[0m                                Traceback (most recent call last)",
      "Cell \u001B[0;32mIn[17], line 1\u001B[0m\n\u001B[0;32m----> 1\u001B[0m \u001B[43mmodel\u001B[49m\u001B[38;5;241;43m.\u001B[39;49m\u001B[43mfit\u001B[49m\u001B[43m(\u001B[49m\u001B[43mnew_windowed\u001B[49m\u001B[43m,\u001B[49m\u001B[43m \u001B[49m\u001B[43mnew_labels\u001B[49m\u001B[43m,\u001B[49m\u001B[43m \u001B[49m\u001B[43mepochs\u001B[49m\u001B[38;5;241;43m=\u001B[39;49m\u001B[38;5;241;43m32\u001B[39;49m\u001B[43m,\u001B[49m\u001B[43m \u001B[49m\u001B[43mbatch_size\u001B[49m\u001B[38;5;241;43m=\u001B[39;49m\u001B[38;5;241;43m32\u001B[39;49m\u001B[43m)\u001B[49m\n",
      "File \u001B[0;32m/opt/homebrew/Caskroom/miniforge/base/envs/tfenv/lib/python3.10/site-packages/keras/src/utils/traceback_utils.py:70\u001B[0m, in \u001B[0;36mfilter_traceback.<locals>.error_handler\u001B[0;34m(*args, **kwargs)\u001B[0m\n\u001B[1;32m     67\u001B[0m     filtered_tb \u001B[38;5;241m=\u001B[39m _process_traceback_frames(e\u001B[38;5;241m.\u001B[39m__traceback__)\n\u001B[1;32m     68\u001B[0m     \u001B[38;5;66;03m# To get the full stack trace, call:\u001B[39;00m\n\u001B[1;32m     69\u001B[0m     \u001B[38;5;66;03m# `tf.debugging.disable_traceback_filtering()`\u001B[39;00m\n\u001B[0;32m---> 70\u001B[0m     \u001B[38;5;28;01mraise\u001B[39;00m e\u001B[38;5;241m.\u001B[39mwith_traceback(filtered_tb) \u001B[38;5;28;01mfrom\u001B[39;00m \u001B[38;5;28;01mNone\u001B[39;00m\n\u001B[1;32m     71\u001B[0m \u001B[38;5;28;01mfinally\u001B[39;00m:\n\u001B[1;32m     72\u001B[0m     \u001B[38;5;28;01mdel\u001B[39;00m filtered_tb\n",
      "File \u001B[0;32m/var/folders/nb/pd4xdd3d6tl59dcyd629fj080000gn/T/__autograph_generated_fileqitzkgtb.py:15\u001B[0m, in \u001B[0;36mouter_factory.<locals>.inner_factory.<locals>.tf__train_function\u001B[0;34m(iterator)\u001B[0m\n\u001B[1;32m     13\u001B[0m \u001B[38;5;28;01mtry\u001B[39;00m:\n\u001B[1;32m     14\u001B[0m     do_return \u001B[38;5;241m=\u001B[39m \u001B[38;5;28;01mTrue\u001B[39;00m\n\u001B[0;32m---> 15\u001B[0m     retval_ \u001B[38;5;241m=\u001B[39m ag__\u001B[38;5;241m.\u001B[39mconverted_call(ag__\u001B[38;5;241m.\u001B[39mld(step_function), (ag__\u001B[38;5;241m.\u001B[39mld(\u001B[38;5;28mself\u001B[39m), ag__\u001B[38;5;241m.\u001B[39mld(iterator)), \u001B[38;5;28;01mNone\u001B[39;00m, fscope)\n\u001B[1;32m     16\u001B[0m \u001B[38;5;28;01mexcept\u001B[39;00m:\n\u001B[1;32m     17\u001B[0m     do_return \u001B[38;5;241m=\u001B[39m \u001B[38;5;28;01mFalse\u001B[39;00m\n",
      "\u001B[0;31mValueError\u001B[0m: in user code:\n\n    File \"/opt/homebrew/Caskroom/miniforge/base/envs/tfenv/lib/python3.10/site-packages/keras/src/engine/training.py\", line 1401, in train_function  *\n        return step_function(self, iterator)\n    File \"/opt/homebrew/Caskroom/miniforge/base/envs/tfenv/lib/python3.10/site-packages/keras/src/engine/training.py\", line 1384, in step_function  **\n        outputs = model.distribute_strategy.run(run_step, args=(data,))\n    File \"/opt/homebrew/Caskroom/miniforge/base/envs/tfenv/lib/python3.10/site-packages/keras/src/engine/training.py\", line 1373, in run_step  **\n        outputs = model.train_step(data)\n    File \"/opt/homebrew/Caskroom/miniforge/base/envs/tfenv/lib/python3.10/site-packages/keras/src/engine/training.py\", line 1151, in train_step\n        loss = self.compute_loss(x, y, y_pred, sample_weight)\n    File \"/opt/homebrew/Caskroom/miniforge/base/envs/tfenv/lib/python3.10/site-packages/keras/src/engine/training.py\", line 1209, in compute_loss\n        return self.compiled_loss(\n    File \"/opt/homebrew/Caskroom/miniforge/base/envs/tfenv/lib/python3.10/site-packages/keras/src/engine/compile_utils.py\", line 277, in __call__\n        loss_value = loss_obj(y_t, y_p, sample_weight=sw)\n    File \"/opt/homebrew/Caskroom/miniforge/base/envs/tfenv/lib/python3.10/site-packages/keras/src/losses.py\", line 143, in __call__\n        losses = call_fn(y_true, y_pred)\n    File \"/opt/homebrew/Caskroom/miniforge/base/envs/tfenv/lib/python3.10/site-packages/keras/src/losses.py\", line 270, in call  **\n        return ag_fn(y_true, y_pred, **self._fn_kwargs)\n    File \"/opt/homebrew/Caskroom/miniforge/base/envs/tfenv/lib/python3.10/site-packages/keras/src/losses.py\", line 2221, in categorical_crossentropy\n        return backend.categorical_crossentropy(\n    File \"/opt/homebrew/Caskroom/miniforge/base/envs/tfenv/lib/python3.10/site-packages/keras/src/backend.py\", line 5573, in categorical_crossentropy\n        target.shape.assert_is_compatible_with(output.shape)\n\n    ValueError: Shapes (None, 1) and (None, 5) are incompatible\n"
     ]
    }
   ],
   "source": [
    "model.fit(new_windowed, new_labels, epochs=32, batch_size=32)\n"
   ],
   "metadata": {
    "collapsed": false,
    "ExecuteTime": {
     "end_time": "2024-01-03T18:08:56.554325Z",
     "start_time": "2024-01-03T18:08:56.429770Z"
    }
   },
   "id": "78262e9859b06407"
  },
  {
   "cell_type": "code",
   "execution_count": null,
   "outputs": [],
   "source": [],
   "metadata": {
    "collapsed": false
   },
   "id": "90b04f9fc68deeb4"
  }
 ],
 "metadata": {
  "kernelspec": {
   "display_name": "Python 3",
   "language": "python",
   "name": "python3"
  },
  "language_info": {
   "codemirror_mode": {
    "name": "ipython",
    "version": 2
   },
   "file_extension": ".py",
   "mimetype": "text/x-python",
   "name": "python",
   "nbconvert_exporter": "python",
   "pygments_lexer": "ipython2",
   "version": "2.7.6"
  }
 },
 "nbformat": 4,
 "nbformat_minor": 5
}
