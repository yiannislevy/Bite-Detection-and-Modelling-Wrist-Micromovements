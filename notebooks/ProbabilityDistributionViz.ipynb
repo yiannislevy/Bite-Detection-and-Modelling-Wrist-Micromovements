{
 "cells": [
  {
   "cell_type": "code",
   "execution_count": null,
   "id": "initial_id",
   "metadata": {
    "collapsed": true
   },
   "outputs": [],
   "source": [
    "import pickle\n",
    "%matplotlib notebook\n",
    "import keras\n",
    "from keras.optimizers.legacy import Adam as LegacyAdam\n",
    "import numpy as np\n",
    "from src.utils.preprocessing import load_split_data\n",
    "from src.utils.visualisation import plot_probability_distributions\n",
    "import json\n",
    "import matplotlib.pyplot as plt\n",
    "from mpl_toolkits.mplot3d import Axes3D\n",
    "from src.utils.data_io import save_data"
   ]
  },
  {
   "cell_type": "code",
   "execution_count": null,
   "outputs": [],
   "source": [
    "with open(\"../data/dataset-info-json/subject_to_indices.json\", \"r\") as f:\n",
    "    subject_to_indices = json.load(f)\n",
    "\n",
    "subject_to_indices = {int(k): v for k, v in subject_to_indices.items()}\n",
    "test_subject_id = 1\n",
    "train_data, train_labels, test_data, test_labels = load_split_data(test_subject_id, subject_to_indices)"
   ],
   "metadata": {
    "collapsed": false
   },
   "id": "21ba1e9073ba71c8"
  },
  {
   "cell_type": "code",
   "execution_count": null,
   "outputs": [],
   "source": [
    "model = keras.models.load_model(f\"../models/full_loso/majority_label/model_{test_subject_id}.keras\", compile=False)\n",
    "optimizer = LegacyAdam(learning_rate=1e-3)\n",
    "model.compile(optimizer=optimizer, loss='categorical_crossentropy', metrics=[\"accuracy\"])"
   ],
   "metadata": {
    "collapsed": false
   },
   "id": "b71d2d685726f6e9"
  },
  {
   "cell_type": "code",
   "execution_count": null,
   "outputs": [],
   "source": [
    "predictions = []\n",
    "for window in test_data:\n",
    "    window_reshaped = window.reshape(1,20,6)\n",
    "    prediction = model.predict(window_reshaped)\n",
    "    predictions.append(prediction)"
   ],
   "metadata": {
    "collapsed": false
   },
   "id": "5b8f985619b6746e"
  },
  {
   "cell_type": "code",
   "execution_count": null,
   "outputs": [],
   "source": [
    "predictions = np.array(predictions)\n",
    "predictions = predictions.squeeze(axis=1)\n"
   ],
   "metadata": {
    "collapsed": false
   },
   "id": "31c727e6ae273be8"
  },
  {
   "cell_type": "code",
   "execution_count": null,
   "outputs": [],
   "source": [
    "save_data(predictions, \"../data/lstm_training_data\", f\"x_{test_subject_id}\")"
   ],
   "metadata": {
    "collapsed": false
   },
   "id": "848a4cc42c93b006"
  },
  {
   "cell_type": "markdown",
   "source": [
    "Plot Predictions"
   ],
   "metadata": {
    "collapsed": false
   },
   "id": "d368712674da5e3b"
  },
  {
   "cell_type": "code",
   "execution_count": null,
   "outputs": [],
   "source": [
    "plot_probability_distributions(predictions, start_index=1655, num_windows=60)"
   ],
   "metadata": {
    "collapsed": false
   },
   "id": "bc81c41b3dde1824"
  },
  {
   "cell_type": "markdown",
   "source": [
    "Plot Labels (truth)"
   ],
   "metadata": {
    "collapsed": false
   },
   "id": "8b62fbd1ad9d06d5"
  },
  {
   "cell_type": "code",
   "execution_count": null,
   "outputs": [],
   "source": [
    "plot_probability_distributions(test_labels, start_index=1655, num_windows=60)"
   ],
   "metadata": {
    "collapsed": false
   },
   "id": "eacd978b7db20095"
  },
  {
   "cell_type": "code",
   "execution_count": null,
   "outputs": [],
   "source": [
    "pred_count = np.sum(predictions[:, 0] > 0.4) # Assign micromovement and threshold probability of choice\n",
    "true_count = np.sum(test_labels[:, 0]) # Match micromovement"
   ],
   "metadata": {
    "collapsed": false
   },
   "id": "66fb6e16510a262"
  },
  {
   "cell_type": "code",
   "execution_count": null,
   "outputs": [],
   "source": [
    "print(f\"Predicted micromovement count: {pred_count}\")\n",
    "print(f\"Actual micromovement count: {true_count}\")"
   ],
   "metadata": {
    "collapsed": false
   },
   "id": "ddf77bc1044d9210"
  }
 ],
 "metadata": {
  "kernelspec": {
   "display_name": "Python 3",
   "language": "python",
   "name": "python3"
  },
  "language_info": {
   "codemirror_mode": {
    "name": "ipython",
    "version": 2
   },
   "file_extension": ".py",
   "mimetype": "text/x-python",
   "name": "python",
   "nbconvert_exporter": "python",
   "pygments_lexer": "ipython2",
   "version": "2.7.6"
  }
 },
 "nbformat": 4,
 "nbformat_minor": 5
}
