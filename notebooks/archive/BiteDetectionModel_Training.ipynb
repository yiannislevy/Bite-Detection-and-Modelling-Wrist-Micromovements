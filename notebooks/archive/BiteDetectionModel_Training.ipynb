{
 "cells": [
  {
   "cell_type": "code",
   "execution_count": null,
   "id": "initial_id",
   "metadata": {
    "collapsed": true
   },
   "outputs": [],
   "source": [
    "import pickle as pkl\n",
    "import numpy as np\n",
    "import tensorflow as tf\n",
    "from tensorflow import keras\n",
    "from tensorflow.keras.models import Sequential\n",
    "from tensorflow.keras.layers import Conv1D, MaxPooling1D, LSTM, Dense\n",
    "from sklearn.model_selection import LeaveOneGroupOut"
   ]
  },
  {
   "cell_type": "code",
   "execution_count": null,
   "outputs": [],
   "source": [
    "with open('../data/FIC.pkl', 'rb') as f:\n",
    "    dataset = pkl.load(f)"
   ],
   "metadata": {
    "collapsed": false
   },
   "id": "2a5482a73477dd0b"
  },
  {
   "cell_type": "code",
   "execution_count": null,
   "outputs": [],
   "source": [
    "subject_ids = dataset['subject_id']\n",
    "signals_proc = dataset['signals_proc']\n",
    "bite_gt = dataset['bite_gt']"
   ],
   "metadata": {
    "collapsed": false
   },
   "id": "8b4cb81f4d6299c7"
  },
  {
   "cell_type": "markdown",
   "source": [
    "Model creation"
   ],
   "metadata": {
    "collapsed": false
   },
   "id": "36695eb52d121350"
  },
  {
   "cell_type": "code",
   "execution_count": null,
   "outputs": [],
   "source": [
    "def create_model(input_shape):\n",
    "    model = Sequential()\n",
    "    model.add(Conv1D(filters=32, kernel_size=5, activation='relu', input_shape=input_shape))\n",
    "    model.add(MaxPooling1D(pool_size=2))\n",
    "    model.add(Conv1D(filters=64, kernel_size=3, activation='relu'))\n",
    "    model.add(MaxPooling1D(pool_size=2))\n",
    "    model.add(Conv1D(filters=128, kernel_size=3, activation='relu'))\n",
    "    # model.add(MaxPooling1D(pool_size=2))\n",
    "    model.add(LSTM(128, activation='hard_sigmoid'))\n",
    "    model.add(Dense(1, activation='sigmoid'))\n",
    "    return model"
   ],
   "metadata": {
    "collapsed": false
   },
   "id": "933e43f7dc83ba77"
  },
  {
   "cell_type": "code",
   "execution_count": null,
   "outputs": [],
   "source": [
    "model = create_model((None, 6))"
   ],
   "metadata": {
    "collapsed": false
   },
   "id": "a266f15077b437b0"
  },
  {
   "cell_type": "code",
   "execution_count": null,
   "outputs": [],
   "source": [
    "model.compile(loss='binary_crossentropy', optimizer='adam', metrics=['accuracy'])"
   ],
   "metadata": {
    "collapsed": false
   },
   "id": "367e048cb635bd70"
  },
  {
   "cell_type": "code",
   "execution_count": null,
   "outputs": [],
   "source": [
    "model.summary()"
   ],
   "metadata": {
    "collapsed": false
   },
   "id": "58fb5d511a15c342"
  },
  {
   "cell_type": "code",
   "execution_count": null,
   "outputs": [],
   "source": [],
   "metadata": {
    "collapsed": false
   },
   "id": "1f2b17a7c9b252a"
  },
  {
   "cell_type": "code",
   "execution_count": null,
   "outputs": [],
   "source": [],
   "metadata": {
    "collapsed": false
   },
   "id": "d2d4fb63d5d91e35"
  },
  {
   "cell_type": "code",
   "execution_count": null,
   "outputs": [],
   "source": [],
   "metadata": {
    "collapsed": false
   },
   "id": "78a725c53883d75d"
  },
  {
   "cell_type": "markdown",
   "source": [
    "Sliding window and Labeling"
   ],
   "metadata": {
    "collapsed": false
   },
   "id": "38d4df41636af3de"
  },
  {
   "cell_type": "code",
   "execution_count": null,
   "outputs": [],
   "source": [
    "import numpy as np\n",
    "\n",
    "def create_sliding_windows(signals, bite_gt, window_length, step, epsilon):\n",
    "    X, y = [], []\n",
    "    for signal, bites in zip(signals, bite_gt):\n",
    "        for i in range(0, len(signal) - window_length, step):\n",
    "            window = signal[i:i+window_length, :]\n",
    "            window_end_time = window[-1, 0]  # Assuming first column is timestamp\n",
    "\n",
    "            # Check if window end is within epsilon of any bite end time\n",
    "            label = 0  # Negative case\n",
    "            for bite in bites:\n",
    "                if abs(window_end_time - bite[1]) <= epsilon:  # bite[1] is end time of bite\n",
    "                    label = 1  # Positive case\n",
    "                    break\n",
    "\n",
    "            X.append(window[:, 1:])  # Excluding timestamp\n",
    "            y.append(label)\n",
    "\n",
    "    return np.array(X), np.array(y)\n"
   ],
   "metadata": {
    "collapsed": false
   },
   "id": "4cc2e536b01e6cbc"
  },
  {
   "cell_type": "code",
   "execution_count": null,
   "outputs": [],
   "source": [],
   "metadata": {
    "collapsed": false
   },
   "id": "e7fa6fb71f1d6039"
  },
  {
   "cell_type": "code",
   "execution_count": null,
   "outputs": [],
   "source": [],
   "metadata": {
    "collapsed": false
   },
   "id": "315872cd429af4b4"
  },
  {
   "cell_type": "code",
   "execution_count": null,
   "outputs": [],
   "source": [],
   "metadata": {
    "collapsed": false
   },
   "id": "92982808f04e5031"
  },
  {
   "cell_type": "markdown",
   "source": [
    "Data augmentation"
   ],
   "metadata": {
    "collapsed": false
   },
   "id": "9fd2692f7894e5fd"
  },
  {
   "cell_type": "code",
   "execution_count": null,
   "outputs": [],
   "source": [
    "def rotate_signal(signal, theta_x_hat, theta_z_hat):\n",
    "    Q_x = np.array([[1, 0, 0],\n",
    "                    [0, np.cos(theta_x_hat), -np.sin(theta_x_hat)],\n",
    "                    [0, np.sin(theta_x_hat), np.cos(theta_x_hat)]])\n",
    "\n",
    "    Q_z = np.array([[np.cos(theta_z_hat), -np.sin(theta_z_hat), 0],\n",
    "                    [np.sin(theta_z_hat), np.cos(theta_z_hat), 0],\n",
    "                    [0, 0, 1]])\n",
    "\n",
    "    # Randomly select one of the four transformations\n",
    "    transformations = [Q_x, Q_z, np.dot(Q_x, Q_z), np.dot(Q_z, Q_x)]\n",
    "    Q = transformations[np.random.randint(0, 4)]\n",
    "\n",
    "    # Apply transformation\n",
    "    transformed_signal = np.dot(signal, Q.T)\n",
    "    return transformed_signal\n",
    "\n",
    "def augment_data(X_batch):\n",
    "    augmented_batch = []\n",
    "    for X in X_batch:\n",
    "        if np.random.rand() < 0.5:\n",
    "            theta_x_hat = np.random.normal(0, 10, 1)\n",
    "            theta_z_hat = np.random.normal(0, 10, 1)\n",
    "            augmented_signal = rotate_signal(X[:, :3], theta_x_hat, theta_z_hat)  # Apply to accelerometer data\n",
    "            augmented_signal = np.concatenate((augmented_signal, X[:, 3:]), axis=1)  # Re-attach gyroscope data\n",
    "        else:\n",
    "            augmented_signal = X\n",
    "        augmented_batch.append(augmented_signal)\n",
    "    return np.array(augmented_batch)\n"
   ],
   "metadata": {
    "collapsed": false
   },
   "id": "c5262e6bfc3859a5"
  },
  {
   "cell_type": "code",
   "execution_count": null,
   "outputs": [],
   "source": [
    "tf.config.list_physical_devices('GPU')"
   ],
   "metadata": {
    "collapsed": false
   },
   "id": "72ab899d7e07f63e"
  },
  {
   "cell_type": "code",
   "execution_count": null,
   "outputs": [],
   "source": [
    "signals_proc[1]"
   ],
   "metadata": {
    "collapsed": false
   },
   "id": "3819c65260ed218a"
  },
  {
   "cell_type": "code",
   "execution_count": null,
   "outputs": [],
   "source": [],
   "metadata": {
    "collapsed": false
   },
   "id": "c870b97d337a0428"
  },
  {
   "cell_type": "markdown",
   "source": [
    "Training setup"
   ],
   "metadata": {
    "collapsed": false
   },
   "id": "aa3e33b630015e8e"
  },
  {
   "cell_type": "code",
   "execution_count": null,
   "outputs": [],
   "source": [
    "from tensorflow.keras.optimizers import RMSprop\n",
    "\n",
    "# Assuming create_model function is already defined\n",
    "model = create_model((None, 6))  # Replace 'None' with the actual timestep size if fixed\n",
    "model.compile(loss='binary_crossentropy', optimizer=RMSprop(learning_rate=1e-3), metrics=['accuracy'])\n",
    "\n",
    "# Training parameters\n",
    "epochs = 5\n",
    "batch_size = 128\n",
    "window_length = 128  # Define based on your data\n",
    "step = 64  # Define based on your data\n",
    "epsilon = 0.5  # Define based on your data\n",
    "\n",
    "# Prepare your data\n",
    "signals_proc = np.array(signals_proc)  # Convert list to numpy array\n",
    "X, y = create_sliding_windows(signals_proc, bite_gt, window_length, step, epsilon)\n",
    "\n",
    "# Training loop\n",
    "for epoch in range(epochs):\n",
    "    # Shuffle and batch data\n",
    "    indices = np.arange(len(X))\n",
    "    np.random.shuffle(indices)\n",
    "    X_shuffled = X[indices]\n",
    "    y_shuffled = y[indices]\n",
    "\n",
    "    for i in range(0, len(X_shuffled), batch_size):\n",
    "        X_batch = X_shuffled[i:i+batch_size]\n",
    "        y_batch = y_shuffled[i:i+batch_size]\n",
    "\n",
    "        # Augment data\n",
    "        X_batch_augmented = augment_data(X_batch)\n",
    "\n",
    "        # Dropout is applied internally in the model\n",
    "        loss, accuracy = model.train_on_batch(X_batch_augmented, y_batch)\n",
    "        print(f\"Epoch {epoch+1}, Batch {i//batch_size+1}, Loss: {loss}, Accuracy: {accuracy}\")\n"
   ],
   "metadata": {
    "collapsed": false
   },
   "id": "b4ef351f33b77a31"
  },
  {
   "cell_type": "code",
   "execution_count": null,
   "outputs": [],
   "source": [
    "logo = LeaveOneGroupOut()\n",
    "results = []"
   ],
   "metadata": {
    "collapsed": false
   },
   "id": "4cba8f4d8f33e621"
  },
  {
   "cell_type": "code",
   "execution_count": null,
   "outputs": [],
   "source": [
    "for train_index, test_index in logo.split(signals_proc, bite_gt, subject_ids):\n",
    "    X_train, X_test = signals_proc[train_index], signals_proc[test_index]\n",
    "    y_train, y_test = bite_gt[train_index], bite_gt[test_index]\n",
    "\n",
    "    # Define and compile the model with RMSProp optimizer\n",
    "    model = create_model(input_shape=X_train.shape[1:])\n",
    "    model.compile(optimizer=RMSprop(learning_rate=1e-3), loss='binary_crossentropy', metrics=['accuracy'])\n",
    "\n",
    "    # Train the model with a batch size of 128 and 5 epochs\n",
    "    model.fit(X_train, y_train, batch_size=128, epochs=5)\n",
    "\n",
    "    # Evaluate the model\n",
    "    scores = model.evaluate(X_test, y_test)\n",
    "    results.append(scores)"
   ],
   "metadata": {
    "collapsed": false
   },
   "id": "84710b6d5dcff06b"
  },
  {
   "cell_type": "code",
   "execution_count": null,
   "outputs": [],
   "source": [],
   "metadata": {
    "collapsed": false
   },
   "id": "e2c6268c3cb08a9f"
  }
 ],
 "metadata": {
  "kernelspec": {
   "display_name": "Python 3",
   "language": "python",
   "name": "python3"
  },
  "language_info": {
   "codemirror_mode": {
    "name": "ipython",
    "version": 2
   },
   "file_extension": ".py",
   "mimetype": "text/x-python",
   "name": "python",
   "nbconvert_exporter": "python",
   "pygments_lexer": "ipython2",
   "version": "2.7.6"
  }
 },
 "nbformat": 4,
 "nbformat_minor": 5
}
