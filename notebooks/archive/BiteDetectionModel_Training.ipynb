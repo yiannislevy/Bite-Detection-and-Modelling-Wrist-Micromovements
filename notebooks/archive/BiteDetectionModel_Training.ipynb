{
 "cells": [
  {
   "cell_type": "code",
   "execution_count": 1,
   "id": "initial_id",
   "metadata": {
    "collapsed": true,
    "ExecuteTime": {
     "end_time": "2024-01-28T18:44:12.957549Z",
     "start_time": "2024-01-28T18:44:10.539423Z"
    }
   },
   "outputs": [],
   "source": [
    "import pickle as pkl\n",
    "import numpy as np\n",
    "import tensorflow as tf\n",
    "from tensorflow import keras\n",
    "from tensorflow.keras.models import Sequential\n",
    "from tensorflow.keras.layers import Conv1D, MaxPooling1D, LSTM, Dense\n",
    "from sklearn.model_selection import LeaveOneGroupOut"
   ]
  },
  {
   "cell_type": "code",
   "execution_count": 2,
   "outputs": [],
   "source": [
    "with open('../data/FIC.pkl', 'rb') as f:\n",
    "    dataset = pkl.load(f)"
   ],
   "metadata": {
    "collapsed": false,
    "ExecuteTime": {
     "end_time": "2024-01-28T18:44:14.383029Z",
     "start_time": "2024-01-28T18:44:14.317974Z"
    }
   },
   "id": "2a5482a73477dd0b"
  },
  {
   "cell_type": "code",
   "execution_count": 3,
   "outputs": [],
   "source": [
    "subject_ids = dataset['subject_id']\n",
    "signals_proc = dataset['signals_proc']\n",
    "bite_gt = dataset['bite_gt']"
   ],
   "metadata": {
    "collapsed": false,
    "ExecuteTime": {
     "end_time": "2024-01-28T18:44:17.034892Z",
     "start_time": "2024-01-28T18:44:17.024447Z"
    }
   },
   "id": "8b4cb81f4d6299c7"
  },
  {
   "cell_type": "markdown",
   "source": [
    "Model creation"
   ],
   "metadata": {
    "collapsed": false
   },
   "id": "36695eb52d121350"
  },
  {
   "cell_type": "code",
   "execution_count": 4,
   "outputs": [],
   "source": [
    "def create_model(input_shape):\n",
    "    model = Sequential()\n",
    "    model.add(Conv1D(filters=32, kernel_size=5, activation='relu', input_shape=input_shape))\n",
    "    model.add(MaxPooling1D(pool_size=2))\n",
    "    model.add(Conv1D(filters=64, kernel_size=3, activation='relu'))\n",
    "    model.add(MaxPooling1D(pool_size=2))\n",
    "    model.add(Conv1D(filters=128, kernel_size=3, activation='relu'))\n",
    "    # model.add(MaxPooling1D(pool_size=2))\n",
    "    model.add(LSTM(128, activation='hard_sigmoid'))\n",
    "    model.add(Dense(1, activation='sigmoid'))\n",
    "    return model"
   ],
   "metadata": {
    "collapsed": false,
    "ExecuteTime": {
     "end_time": "2024-01-28T18:44:19.639282Z",
     "start_time": "2024-01-28T18:44:19.631217Z"
    }
   },
   "id": "933e43f7dc83ba77"
  },
  {
   "cell_type": "code",
   "execution_count": 5,
   "outputs": [
    {
     "name": "stdout",
     "output_type": "stream",
     "text": [
      "WARNING:tensorflow:Layer lstm will not use cuDNN kernels since it doesn't meet the criteria. It will use a generic GPU kernel as fallback when running on GPU.\n"
     ]
    },
    {
     "name": "stderr",
     "output_type": "stream",
     "text": [
      "2024-01-28 20:44:22.172974: I metal_plugin/src/device/metal_device.cc:1154] Metal device set to: Apple M1 Max\n",
      "2024-01-28 20:44:22.173013: I metal_plugin/src/device/metal_device.cc:296] systemMemory: 32.00 GB\n",
      "2024-01-28 20:44:22.173023: I metal_plugin/src/device/metal_device.cc:313] maxCacheSize: 10.67 GB\n",
      "2024-01-28 20:44:22.173066: I tensorflow/core/common_runtime/pluggable_device/pluggable_device_factory.cc:306] Could not identify NUMA node of platform GPU ID 0, defaulting to 0. Your kernel may not have been built with NUMA support.\n",
      "2024-01-28 20:44:22.173088: I tensorflow/core/common_runtime/pluggable_device/pluggable_device_factory.cc:272] Created TensorFlow device (/job:localhost/replica:0/task:0/device:GPU:0 with 0 MB memory) -> physical PluggableDevice (device: 0, name: METAL, pci bus id: <undefined>)\n"
     ]
    }
   ],
   "source": [
    "model = create_model((None, 6))"
   ],
   "metadata": {
    "collapsed": false,
    "ExecuteTime": {
     "end_time": "2024-01-28T18:44:22.816331Z",
     "start_time": "2024-01-28T18:44:22.168966Z"
    }
   },
   "id": "a266f15077b437b0"
  },
  {
   "cell_type": "code",
   "execution_count": 6,
   "outputs": [],
   "source": [
    "model.compile(loss='binary_crossentropy', optimizer='adam', metrics=['accuracy'])"
   ],
   "metadata": {
    "collapsed": false,
    "ExecuteTime": {
     "end_time": "2024-01-28T18:44:22.828026Z",
     "start_time": "2024-01-28T18:44:22.819648Z"
    }
   },
   "id": "367e048cb635bd70"
  },
  {
   "cell_type": "code",
   "execution_count": 7,
   "outputs": [
    {
     "name": "stdout",
     "output_type": "stream",
     "text": [
      "Model: \"sequential\"\n",
      "_________________________________________________________________\n",
      " Layer (type)                Output Shape              Param #   \n",
      "=================================================================\n",
      " conv1d (Conv1D)             (None, None, 32)          992       \n",
      "                                                                 \n",
      " max_pooling1d (MaxPooling1  (None, None, 32)          0         \n",
      " D)                                                              \n",
      "                                                                 \n",
      " conv1d_1 (Conv1D)           (None, None, 64)          6208      \n",
      "                                                                 \n",
      " max_pooling1d_1 (MaxPoolin  (None, None, 64)          0         \n",
      " g1D)                                                            \n",
      "                                                                 \n",
      " conv1d_2 (Conv1D)           (None, None, 128)         24704     \n",
      "                                                                 \n",
      " lstm (LSTM)                 (None, 128)               131584    \n",
      "                                                                 \n",
      " dense (Dense)               (None, 1)                 129       \n",
      "                                                                 \n",
      "=================================================================\n",
      "Total params: 163617 (639.13 KB)\n",
      "Trainable params: 163617 (639.13 KB)\n",
      "Non-trainable params: 0 (0.00 Byte)\n",
      "_________________________________________________________________\n"
     ]
    }
   ],
   "source": [
    "model.summary()"
   ],
   "metadata": {
    "collapsed": false,
    "ExecuteTime": {
     "end_time": "2024-01-28T18:44:24.502976Z",
     "start_time": "2024-01-28T18:44:24.490458Z"
    }
   },
   "id": "58fb5d511a15c342"
  },
  {
   "cell_type": "code",
   "execution_count": 7,
   "outputs": [],
   "source": [],
   "metadata": {
    "collapsed": false,
    "ExecuteTime": {
     "end_time": "2024-01-28T18:44:31.747315Z",
     "start_time": "2024-01-28T18:44:31.744788Z"
    }
   },
   "id": "1f2b17a7c9b252a"
  },
  {
   "cell_type": "code",
   "execution_count": 7,
   "outputs": [],
   "source": [],
   "metadata": {
    "collapsed": false,
    "ExecuteTime": {
     "end_time": "2024-01-28T18:44:32.159867Z",
     "start_time": "2024-01-28T18:44:32.154549Z"
    }
   },
   "id": "d2d4fb63d5d91e35"
  },
  {
   "cell_type": "code",
   "execution_count": 7,
   "outputs": [],
   "source": [],
   "metadata": {
    "collapsed": false,
    "ExecuteTime": {
     "end_time": "2024-01-28T18:44:32.546604Z",
     "start_time": "2024-01-28T18:44:32.544890Z"
    }
   },
   "id": "78a725c53883d75d"
  },
  {
   "cell_type": "markdown",
   "source": [
    "Sliding window and Labeling"
   ],
   "metadata": {
    "collapsed": false
   },
   "id": "38d4df41636af3de"
  },
  {
   "cell_type": "code",
   "execution_count": 8,
   "outputs": [],
   "source": [
    "import numpy as np\n",
    "\n",
    "def create_sliding_windows(signals, bite_gt, window_length, step, epsilon):\n",
    "    X, y = [], []\n",
    "    for signal, bites in zip(signals, bite_gt):\n",
    "        for i in range(0, len(signal) - window_length, step):\n",
    "            window = signal[i:i+window_length, :]\n",
    "            window_end_time = window[-1, 0]  # Assuming first column is timestamp\n",
    "\n",
    "            # Check if window end is within epsilon of any bite end time\n",
    "            label = 0  # Negative case\n",
    "            for bite in bites:\n",
    "                if abs(window_end_time - bite[1]) <= epsilon:  # bite[1] is end time of bite\n",
    "                    label = 1  # Positive case\n",
    "                    break\n",
    "\n",
    "            X.append(window[:, 1:])  # Excluding timestamp\n",
    "            y.append(label)\n",
    "\n",
    "    return np.array(X), np.array(y)\n"
   ],
   "metadata": {
    "collapsed": false,
    "ExecuteTime": {
     "end_time": "2024-01-28T18:44:39.092340Z",
     "start_time": "2024-01-28T18:44:39.083897Z"
    }
   },
   "id": "4cc2e536b01e6cbc"
  },
  {
   "cell_type": "code",
   "execution_count": 8,
   "outputs": [],
   "source": [],
   "metadata": {
    "collapsed": false,
    "ExecuteTime": {
     "end_time": "2024-01-28T18:44:40.103457Z",
     "start_time": "2024-01-28T18:44:40.101052Z"
    }
   },
   "id": "e7fa6fb71f1d6039"
  },
  {
   "cell_type": "code",
   "execution_count": 8,
   "outputs": [],
   "source": [],
   "metadata": {
    "collapsed": false,
    "ExecuteTime": {
     "end_time": "2024-01-28T18:44:40.724318Z",
     "start_time": "2024-01-28T18:44:40.716895Z"
    }
   },
   "id": "315872cd429af4b4"
  },
  {
   "cell_type": "code",
   "execution_count": 8,
   "outputs": [],
   "source": [],
   "metadata": {
    "collapsed": false,
    "ExecuteTime": {
     "end_time": "2024-01-28T18:44:41.364325Z",
     "start_time": "2024-01-28T18:44:41.362111Z"
    }
   },
   "id": "92982808f04e5031"
  },
  {
   "cell_type": "markdown",
   "source": [
    "Data augmentation"
   ],
   "metadata": {
    "collapsed": false
   },
   "id": "9fd2692f7894e5fd"
  },
  {
   "cell_type": "code",
   "execution_count": 9,
   "outputs": [],
   "source": [
    "def rotate_signal(signal, theta_x_hat, theta_z_hat):\n",
    "    Q_x = np.array([[1, 0, 0],\n",
    "                    [0, np.cos(theta_x_hat), -np.sin(theta_x_hat)],\n",
    "                    [0, np.sin(theta_x_hat), np.cos(theta_x_hat)]])\n",
    "\n",
    "    Q_z = np.array([[np.cos(theta_z_hat), -np.sin(theta_z_hat), 0],\n",
    "                    [np.sin(theta_z_hat), np.cos(theta_z_hat), 0],\n",
    "                    [0, 0, 1]])\n",
    "\n",
    "    # Randomly select one of the four transformations\n",
    "    transformations = [Q_x, Q_z, np.dot(Q_x, Q_z), np.dot(Q_z, Q_x)]\n",
    "    Q = transformations[np.random.randint(0, 4)]\n",
    "\n",
    "    # Apply transformation\n",
    "    transformed_signal = np.dot(signal, Q.T)\n",
    "    return transformed_signal\n",
    "\n",
    "def augment_data(X_batch):\n",
    "    augmented_batch = []\n",
    "    for X in X_batch:\n",
    "        if np.random.rand() < 0.5:\n",
    "            theta_x_hat = np.random.normal(0, 10, 1)\n",
    "            theta_z_hat = np.random.normal(0, 10, 1)\n",
    "            augmented_signal = rotate_signal(X[:, :3], theta_x_hat, theta_z_hat)  # Apply to accelerometer data\n",
    "            augmented_signal = np.concatenate((augmented_signal, X[:, 3:]), axis=1)  # Re-attach gyroscope data\n",
    "        else:\n",
    "            augmented_signal = X\n",
    "        augmented_batch.append(augmented_signal)\n",
    "    return np.array(augmented_batch)\n"
   ],
   "metadata": {
    "collapsed": false,
    "ExecuteTime": {
     "end_time": "2024-01-28T18:44:43.479923Z",
     "start_time": "2024-01-28T18:44:43.473937Z"
    }
   },
   "id": "c5262e6bfc3859a5"
  },
  {
   "cell_type": "code",
   "execution_count": 10,
   "outputs": [
    {
     "data": {
      "text/plain": "[PhysicalDevice(name='/physical_device:GPU:0', device_type='GPU')]"
     },
     "execution_count": 10,
     "metadata": {},
     "output_type": "execute_result"
    }
   ],
   "source": [
    "tf.config.list_physical_devices('GPU')"
   ],
   "metadata": {
    "collapsed": false,
    "ExecuteTime": {
     "end_time": "2024-01-28T18:44:44.484502Z",
     "start_time": "2024-01-28T18:44:44.478326Z"
    }
   },
   "id": "72ab899d7e07f63e"
  },
  {
   "cell_type": "code",
   "execution_count": 18,
   "outputs": [
    {
     "data": {
      "text/plain": "array([[ 1.45510000e+01, -4.18212891e-01,  4.16259766e-01, ...,\n         2.21341476e+01,  4.42987823e+01, -6.99695129e+01],\n       [ 1.45610000e+01, -4.73888454e-01,  4.65349875e-01, ...,\n         9.28007960e+00,  2.33934771e+01, -4.53670844e+01],\n       [ 1.45710000e+01, -3.78500018e-01,  4.50972784e-01, ...,\n        -9.80178435e+00, -6.10004219e+00, -2.02587977e+00],\n       ...,\n       [ 1.14029100e+03,  2.18856882e-01,  7.53025092e-02, ...,\n         6.54886028e+00, -4.39755259e+00,  1.64559963e+01],\n       [ 1.14030100e+03,  1.75070001e-01,  1.05217217e-01, ...,\n         6.70939742e+00,  5.77266699e-05,  9.28443627e+00],\n       [ 1.14031100e+03, -1.18593462e-01,  2.61828421e-01, ...,\n         1.66296129e+01,  2.84891800e+01, -3.75800376e+01]])"
     },
     "execution_count": 18,
     "metadata": {},
     "output_type": "execute_result"
    }
   ],
   "source": [
    "signals_proc[1]"
   ],
   "metadata": {
    "collapsed": false,
    "ExecuteTime": {
     "end_time": "2024-01-28T18:46:24.940624Z",
     "start_time": "2024-01-28T18:46:24.929135Z"
    }
   },
   "id": "3819c65260ed218a"
  },
  {
   "cell_type": "code",
   "execution_count": 10,
   "outputs": [],
   "source": [],
   "metadata": {
    "collapsed": false,
    "ExecuteTime": {
     "end_time": "2024-01-28T18:44:47.593670Z",
     "start_time": "2024-01-28T18:44:47.591053Z"
    }
   },
   "id": "c870b97d337a0428"
  },
  {
   "cell_type": "markdown",
   "source": [
    "Training setup"
   ],
   "metadata": {
    "collapsed": false
   },
   "id": "aa3e33b630015e8e"
  },
  {
   "cell_type": "code",
   "execution_count": 11,
   "outputs": [
    {
     "name": "stdout",
     "output_type": "stream",
     "text": [
      "WARNING:tensorflow:Layer lstm_1 will not use cuDNN kernels since it doesn't meet the criteria. It will use a generic GPU kernel as fallback when running on GPU.\n"
     ]
    },
    {
     "name": "stderr",
     "output_type": "stream",
     "text": [
      "WARNING:absl:At this time, the v2.11+ optimizer `tf.keras.optimizers.RMSprop` runs slowly on M1/M2 Macs, please use the legacy Keras optimizer instead, located at `tf.keras.optimizers.legacy.RMSprop`.\n"
     ]
    },
    {
     "ename": "ValueError",
     "evalue": "setting an array element with a sequence. The requested array has an inhomogeneous shape after 1 dimensions. The detected shape was (21,) + inhomogeneous part.",
     "output_type": "error",
     "traceback": [
      "\u001B[0;31m---------------------------------------------------------------------------\u001B[0m",
      "\u001B[0;31mValueError\u001B[0m                                Traceback (most recent call last)",
      "Cell \u001B[0;32mIn[11], line 15\u001B[0m\n\u001B[1;32m     12\u001B[0m epsilon \u001B[38;5;241m=\u001B[39m \u001B[38;5;241m0.5\u001B[39m  \u001B[38;5;66;03m# Define based on your data\u001B[39;00m\n\u001B[1;32m     14\u001B[0m \u001B[38;5;66;03m# Prepare your data\u001B[39;00m\n\u001B[0;32m---> 15\u001B[0m signals_proc \u001B[38;5;241m=\u001B[39m \u001B[43mnp\u001B[49m\u001B[38;5;241;43m.\u001B[39;49m\u001B[43marray\u001B[49m\u001B[43m(\u001B[49m\u001B[43msignals_proc\u001B[49m\u001B[43m)\u001B[49m  \u001B[38;5;66;03m# Convert list to numpy array\u001B[39;00m\n\u001B[1;32m     16\u001B[0m X, y \u001B[38;5;241m=\u001B[39m create_sliding_windows(signals_proc, bite_gt, window_length, step, epsilon)\n\u001B[1;32m     18\u001B[0m \u001B[38;5;66;03m# Training loop\u001B[39;00m\n",
      "\u001B[0;31mValueError\u001B[0m: setting an array element with a sequence. The requested array has an inhomogeneous shape after 1 dimensions. The detected shape was (21,) + inhomogeneous part."
     ]
    }
   ],
   "source": [
    "from tensorflow.keras.optimizers import RMSprop\n",
    "\n",
    "# Assuming create_model function is already defined\n",
    "model = create_model((None, 6))  # Replace 'None' with the actual timestep size if fixed\n",
    "model.compile(loss='binary_crossentropy', optimizer=RMSprop(learning_rate=1e-3), metrics=['accuracy'])\n",
    "\n",
    "# Training parameters\n",
    "epochs = 5\n",
    "batch_size = 128\n",
    "window_length = 128  # Define based on your data\n",
    "step = 64  # Define based on your data\n",
    "epsilon = 0.5  # Define based on your data\n",
    "\n",
    "# Prepare your data\n",
    "signals_proc = np.array(signals_proc)  # Convert list to numpy array\n",
    "X, y = create_sliding_windows(signals_proc, bite_gt, window_length, step, epsilon)\n",
    "\n",
    "# Training loop\n",
    "for epoch in range(epochs):\n",
    "    # Shuffle and batch data\n",
    "    indices = np.arange(len(X))\n",
    "    np.random.shuffle(indices)\n",
    "    X_shuffled = X[indices]\n",
    "    y_shuffled = y[indices]\n",
    "\n",
    "    for i in range(0, len(X_shuffled), batch_size):\n",
    "        X_batch = X_shuffled[i:i+batch_size]\n",
    "        y_batch = y_shuffled[i:i+batch_size]\n",
    "\n",
    "        # Augment data\n",
    "        X_batch_augmented = augment_data(X_batch)\n",
    "\n",
    "        # Dropout is applied internally in the model\n",
    "        loss, accuracy = model.train_on_batch(X_batch_augmented, y_batch)\n",
    "        print(f\"Epoch {epoch+1}, Batch {i//batch_size+1}, Loss: {loss}, Accuracy: {accuracy}\")\n"
   ],
   "metadata": {
    "collapsed": false,
    "ExecuteTime": {
     "end_time": "2024-01-28T18:44:50.894796Z",
     "start_time": "2024-01-28T18:44:50.528201Z"
    }
   },
   "id": "b4ef351f33b77a31"
  },
  {
   "cell_type": "code",
   "execution_count": null,
   "outputs": [],
   "source": [
    "logo = LeaveOneGroupOut()\n",
    "results = []"
   ],
   "metadata": {
    "collapsed": false
   },
   "id": "4cba8f4d8f33e621"
  },
  {
   "cell_type": "code",
   "execution_count": null,
   "outputs": [],
   "source": [
    "for train_index, test_index in logo.split(signals_proc, bite_gt, subject_ids):\n",
    "    X_train, X_test = signals_proc[train_index], signals_proc[test_index]\n",
    "    y_train, y_test = bite_gt[train_index], bite_gt[test_index]\n",
    "\n",
    "    # Define and compile the model with RMSProp optimizer\n",
    "    model = create_model(input_shape=X_train.shape[1:])\n",
    "    model.compile(optimizer=RMSprop(learning_rate=1e-3), loss='binary_crossentropy', metrics=['accuracy'])\n",
    "\n",
    "    # Train the model with a batch size of 128 and 5 epochs\n",
    "    model.fit(X_train, y_train, batch_size=128, epochs=5)\n",
    "\n",
    "    # Evaluate the model\n",
    "    scores = model.evaluate(X_test, y_test)\n",
    "    results.append(scores)"
   ],
   "metadata": {
    "collapsed": false
   },
   "id": "84710b6d5dcff06b"
  },
  {
   "cell_type": "code",
   "execution_count": null,
   "outputs": [],
   "source": [],
   "metadata": {
    "collapsed": false
   },
   "id": "e2c6268c3cb08a9f"
  }
 ],
 "metadata": {
  "kernelspec": {
   "display_name": "Python 3",
   "language": "python",
   "name": "python3"
  },
  "language_info": {
   "codemirror_mode": {
    "name": "ipython",
    "version": 2
   },
   "file_extension": ".py",
   "mimetype": "text/x-python",
   "name": "python",
   "nbconvert_exporter": "python",
   "pygments_lexer": "ipython2",
   "version": "2.7.6"
  }
 },
 "nbformat": 4,
 "nbformat_minor": 5
}
