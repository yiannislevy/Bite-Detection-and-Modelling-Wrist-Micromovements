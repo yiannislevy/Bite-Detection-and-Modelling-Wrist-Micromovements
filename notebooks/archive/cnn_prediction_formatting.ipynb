{
 "cells": [
  {
   "cell_type": "code",
   "execution_count": null,
   "id": "initial_id",
   "metadata": {
    "collapsed": true
   },
   "outputs": [],
   "source": [
    "import pickle\n",
    "import keras\n",
    "from keras.optimizers.legacy import Adam as LegacyAdam\n",
    "import numpy as np\n",
    "from src.utils.preprocessing import load_split_data\n",
    "import json\n",
    "from src.utils.data_io import save_data\n",
    "from src.utils.train_cnn import predict_and_save_timestamped\n",
    "from src.utils.utilities import *"
   ]
  },
  {
   "cell_type": "code",
   "execution_count": null,
   "outputs": [],
   "source": [
    "path_to_predictions = \"../data/cnn_predictions/non-majority/un-timestamped/full/\"\n",
    "path_to_start_time_json = \"../data/dataset-info-json/signal_start_times.json\"\n",
    "path_to_save_timestamped = \"../data/cnn_predictions/non-majority/timestamped/in_sessions/\""
   ],
   "metadata": {
    "collapsed": false
   },
   "id": "fc88e68855ec2163"
  },
  {
   "cell_type": "code",
   "execution_count": null,
   "outputs": [],
   "source": [
    "with open(\"../data/dataset-info-json/subject_to_indices.json\", \"r\") as f:\n",
    "    subject_to_indices = json.load(f)\n",
    "\n",
    "subject_to_indices = {int(k): v for k, v in subject_to_indices.items()}"
   ],
   "metadata": {
    "collapsed": false
   },
   "id": "d9c3d3e4f5be72ec"
  },
  {
   "cell_type": "code",
   "execution_count": null,
   "outputs": [],
   "source": [
    "with open(\"../data/dataset-info-json/signal_start_times.json\", \"r\") as f:\n",
    "    session_start_time_and_length = json.load(f)\n",
    "session_length = [value[1] for value in session_start_time_and_length.values()]"
   ],
   "metadata": {
    "collapsed": false
   },
   "id": "4b956055b1f688df"
  },
  {
   "cell_type": "code",
   "execution_count": null,
   "outputs": [],
   "source": [
    "def save_predictions_untimestamped():   \n",
    "    for test_subject_id in subject_to_indices.keys():\n",
    "        model = keras.models.load_model(f\"../models/full_loso/majority_label/model_{test_subject_id}.keras\", compile=False)\n",
    "        optimizer = LegacyAdam(learning_rate=1e-3)\n",
    "        model.compile(optimizer=optimizer, loss='categorical_crossentropy', metrics=[\"accuracy\"])\n",
    "        _, _, test_data, test_labels = load_split_data(test_subject_id, subject_to_indices)\n",
    "        predictions = []\n",
    "        for window in test_data:\n",
    "            window_reshaped = window.reshape(1,20,6)\n",
    "            prediction = model.predict(window_reshaped)\n",
    "            predictions.append(prediction)\n",
    "        predictions = np.array(predictions)\n",
    "        predictions = predictions.squeeze(axis=1)\n",
    "        save_data(predictions, \"../data/cnn_predictions/non-majority/un_timestamped/full\", f\"prediction_{test_subject_id}\")\n",
    "    return"
   ],
   "metadata": {
    "collapsed": false
   },
   "id": "4ca3332dfbbd1476"
  },
  {
   "cell_type": "code",
   "execution_count": null,
   "outputs": [],
   "source": [
    "def save_predictions_timestamped_in_sessions():\n",
    "    for subject, session_indices in subject_to_indices.items():  \n",
    "        for session in session_indices:\n",
    "            print(f\"Subject: {subject}\\n\\tSession:{session}\")\n",
    "            with open(f\"../data/cnn_predictions/non-majority/un-timestamped/in_sessions/prediction_{subject}_{session}.pkl\", \"rb\") as f:\n",
    "                prediction = pickle.load(f)\n",
    "            start_time = load_start_time(start_time_json_path, session)\n",
    "            print(f\"\\t\\tStart time: {start_time}\")\n",
    "            timestamped_predictions = append_timestamps_to_predictions(prediction, start_time)\n",
    "            save_data(timestamped_predictions, path_to_save_timestamped, f\"prediction_{subject}_{session}\")"
   ],
   "metadata": {
    "collapsed": false
   },
   "id": "bda0c29fe46cfcf2"
  },
  {
   "cell_type": "code",
   "execution_count": null,
   "outputs": [],
   "source": [
    "save_predictions_untimestamped()"
   ],
   "metadata": {
    "collapsed": false
   },
   "id": "f65e32944ee416fd"
  },
  {
   "cell_type": "code",
   "execution_count": null,
   "outputs": [],
   "source": [
    "sessioned_predictions = split_predictions_to_sessions(path_to_predictions, subject_to_indices, session_length)"
   ],
   "metadata": {
    "collapsed": false
   },
   "id": "baa17c68bcdab51"
  },
  {
   "cell_type": "code",
   "execution_count": null,
   "outputs": [],
   "source": [
    "counter = 0\n",
    "for subject, sessions in subject_to_indices.items():\n",
    "    for session in sessions:\n",
    "        save_data(predictions_in_sessions[counter], path_to_save, f\"prediction_{subject}_{session}\")\n",
    "        counter += 1"
   ],
   "metadata": {
    "collapsed": false
   },
   "id": "5ce266a95160cd1a"
  },
  {
   "cell_type": "code",
   "execution_count": null,
   "outputs": [],
   "source": [
    "save_predictions_timestamped_in_sessions()"
   ],
   "metadata": {
    "collapsed": false
   },
   "id": "f130cdf04e4a86c"
  }
 ],
 "metadata": {
  "kernelspec": {
   "display_name": "Python 3",
   "language": "python",
   "name": "python3"
  },
  "language_info": {
   "codemirror_mode": {
    "name": "ipython",
    "version": 2
   },
   "file_extension": ".py",
   "mimetype": "text/x-python",
   "name": "python",
   "nbconvert_exporter": "python",
   "pygments_lexer": "ipython2",
   "version": "2.7.6"
  }
 },
 "nbformat": 4,
 "nbformat_minor": 5
}
