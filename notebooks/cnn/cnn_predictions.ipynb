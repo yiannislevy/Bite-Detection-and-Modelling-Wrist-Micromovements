{
 "cells": [
  {
   "cell_type": "code",
   "execution_count": null,
   "id": "initial_id",
   "metadata": {
    "collapsed": true
   },
   "outputs": [],
   "source": [
    "from src.cnn.cnn_prediction_pipeline import save_predictions_sessioned_single_model"
   ]
  },
  {
   "cell_type": "code",
   "outputs": [],
   "source": [
    "path_to_model = '../../models/cnn/corrected/32/model_32.keras'\n",
    "path_to_data = '../../data/ProcessedSubjects/corrected/for_predictions/full_imu/sessions/'\n",
    "path_to_save = '../../data/cnn_predictions/corrected/complete/timestamped'"
   ],
   "metadata": {
    "collapsed": false
   },
   "id": "47f8208019ce4ed",
   "execution_count": null
  },
  {
   "cell_type": "code",
   "outputs": [],
   "source": [
    "save_predictions_sessioned_single_model(path_to_model,path_to_data,path_to_save)"
   ],
   "metadata": {
    "collapsed": false
   },
   "id": "cae38fc406cf0b98",
   "execution_count": null
  },
  {
   "cell_type": "code",
   "outputs": [],
   "source": [],
   "metadata": {
    "collapsed": false
   },
   "id": "f4ad3edf075c534f"
  }
 ],
 "metadata": {
  "kernelspec": {
   "display_name": "Python 3",
   "language": "python",
   "name": "python3"
  },
  "language_info": {
   "codemirror_mode": {
    "name": "ipython",
    "version": 2
   },
   "file_extension": ".py",
   "mimetype": "text/x-python",
   "name": "python",
   "nbconvert_exporter": "python",
   "pygments_lexer": "ipython2",
   "version": "2.7.6"
  }
 },
 "nbformat": 4,
 "nbformat_minor": 5
}
