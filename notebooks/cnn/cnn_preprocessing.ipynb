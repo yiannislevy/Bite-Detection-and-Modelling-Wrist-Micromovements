{
 "cells": [
  {
   "cell_type": "code",
   "execution_count": null,
   "id": "initial_id",
   "metadata": {
    "collapsed": true
   },
   "outputs": [],
   "source": [
    "import pickle\n",
    "\n",
    "import numpy as np\n",
    "import pickle as pkl\n",
    "import os\n",
    "from src.utils.data_transform import *\n",
    "from src.utils.data_io import *\n",
    "import importlib\n",
    "from src.cnn.cnn_steps import *\n",
    "from src.utils.data_io import *"
   ]
  },
  {
   "cell_type": "markdown",
   "source": [
    "Use the below cell to bundle all data together."
   ],
   "metadata": {
    "collapsed": false
   },
   "id": "9dde4f513b007c91"
  },
  {
   "cell_type": "code",
   "execution_count": null,
   "outputs": [],
   "source": [
    "# with open(\"../data/FIC.pkl\", 'rb') as f:\n",
    "#     FIC = pkl.load(f)\n",
    "# data = FIC['signals_proc']\n",
    "# labels = FIC['mm_gt']\n",
    "# final_data = process_all_sessions(data, labels)\n",
    "# save_data(final_data, \"../data/processed.nosync/all_final\", \"all_final\")"
   ],
   "metadata": {
    "collapsed": false
   },
   "id": "4b7ca4fa8cc23d52"
  },
  {
   "cell_type": "markdown",
   "source": [
    "Use the below cell to save data in a LOSO enabling fashion"
   ],
   "metadata": {
    "collapsed": false
   },
   "id": "22da62766716cf93"
  },
  {
   "cell_type": "code",
   "execution_count": null,
   "outputs": [],
   "source": [
    "with open(\"../../data/FIC/FIC.pkl\", 'rb') as f:\n",
    "    FIC = pkl.load(f)\n",
    "    \n",
    "data = FIC['signals_proc']\n",
    "labels = FIC['mm_gt']\n",
    "\n",
    "subject_ids = FIC[\"subject_id\"]\n",
    "subject_to_indices = {subject: [] for subject in set(subject_ids)}\n",
    "for i, subject_id in enumerate(subject_ids):\n",
    "    subject_to_indices[subject_id].append(i)"
   ],
   "metadata": {
    "collapsed": false
   },
   "id": "b6124727fce6ef83"
  },
  {
   "cell_type": "code",
   "execution_count": null,
   "outputs": [],
   "source": [
    "# for prediction include other mm, and test whether we need labels or complete movements\n",
    "directory_full_path= \"../../data/ProcessedSubjects/corrected/std_4/for_predictions/full_imu/sessions\"\n",
    "os.makedirs(directory_full_path, exist_ok=True)\n",
    "\n",
    "directory_t_path = \"../../data/ProcessedSubjects/corrected/std_4/for_predictions/full_imu/sessions/timestamps\"\n",
    "os.makedirs(directory_t_path, exist_ok=True)"
   ],
   "metadata": {
    "collapsed": false
   },
   "id": "958a87fe8f16b5a8"
  },
  {
   "cell_type": "code",
   "execution_count": null,
   "outputs": [],
   "source": [
    "for session_index in range(len(data)):\n",
    "    # Process a single session only\n",
    "    processed_data = process_single_session(data[session_index], labels[session_index], False)\n",
    "\n",
    "    with open(f\"{directory_full_path}/session_{session_index + 1}.pkl\", 'wb') as f:\n",
    "        pkl.dump(processed_data, f)\n",
    "        \n",
    "    # Save the first timestamp of each window FOR PREDICTION ONLY\n",
    "    timestamps = [window[0, 0] for window in processed_data]\n",
    "    timestamps = np.array(timestamps)\n",
    "\n",
    "    # Save to .pkl file\n",
    "    with open(f\"{directory_t_path}/timestamps_session_{session_index + 1}.pkl\", 'wb') as f:\n",
    "        pkl.dump(timestamps, f)"
   ],
   "metadata": {
    "collapsed": false
   },
   "id": "ab04eaadd10e595b"
  },
  {
   "cell_type": "code",
   "outputs": [],
   "source": [],
   "metadata": {
    "collapsed": false
   },
   "id": "4c96a32d486dc752",
   "execution_count": null
  }
 ],
 "metadata": {
  "kernelspec": {
   "display_name": "Python 3",
   "language": "python",
   "name": "python3"
  },
  "language_info": {
   "codemirror_mode": {
    "name": "ipython",
    "version": 2
   },
   "file_extension": ".py",
   "mimetype": "text/x-python",
   "name": "python",
   "nbconvert_exporter": "python",
   "pygments_lexer": "ipython2",
   "version": "2.7.6"
  }
 },
 "nbformat": 4,
 "nbformat_minor": 5
}
