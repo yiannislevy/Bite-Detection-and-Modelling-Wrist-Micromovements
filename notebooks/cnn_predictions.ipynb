{
 "cells": [
  {
   "cell_type": "code",
   "execution_count": null,
   "id": "initial_id",
   "metadata": {
    "collapsed": true
   },
   "outputs": [],
   "source": [
    "import pickle\n",
    "import keras\n",
    "from keras.optimizers.legacy import Adam as LegacyAdam\n",
    "import numpy as np\n",
    "from src.utils.preprocessing import load_split_data\n",
    "import json\n",
    "from src.utils.data_io import save_data\n",
    "from src.utils.train_cnn import predict_and_save_timestamped"
   ]
  },
  {
   "cell_type": "code",
   "execution_count": null,
   "outputs": [],
   "source": [
    "with open(\"../data/dataset-info-json/subject_to_indices.json\", \"r\") as f:\n",
    "    subject_to_indices = json.load(f)\n",
    "\n",
    "subject_to_indices = {int(k): v for k, v in subject_to_indices.items()}"
   ],
   "metadata": {
    "collapsed": false
   },
   "id": "e3a0691feed4829d"
  },
  {
   "cell_type": "code",
   "execution_count": null,
   "outputs": [],
   "source": [
    "start_time_json_path = '../data/dataset-info-json/signal_start_times.json'"
   ],
   "metadata": {
    "collapsed": false
   },
   "id": "fa018d0a79ffbfdd"
  },
  {
   "cell_type": "code",
   "execution_count": null,
   "outputs": [],
   "source": [
    "def save_predictions_untimestamped():   \n",
    "    for test_subject_id in subject_to_indices.keys():\n",
    "        model = keras.models.load_model(f\"../models/full_loso/majority_label/model_{test_subject_id}.keras\", compile=False)\n",
    "        optimizer = LegacyAdam(learning_rate=1e-3)\n",
    "        model.compile(optimizer=optimizer, loss='categorical_crossentropy', metrics=[\"accuracy\"])\n",
    "        _, _, test_data, test_labels = load_split_data(test_subject_id, subject_to_indices)\n",
    "        predictions = []\n",
    "        for window in test_data:\n",
    "            window_reshaped = window.reshape(1,20,6)\n",
    "            prediction = model.predict(window_reshaped)\n",
    "            predictions.append(prediction)\n",
    "        predictions = np.array(predictions)\n",
    "        predictions = predictions.squeeze(axis=1)\n",
    "        save_data(predictions, \"../data/cnn_predictions/non-majority/un_timestamped/full\", f\"prediction_{test_subject_id}\")\n",
    "    return"
   ],
   "metadata": {
    "collapsed": false
   },
   "id": "b5f2bbb815b03bbd"
  },
  {
   "cell_type": "markdown",
   "source": [
    "Uncomment below to run"
   ],
   "metadata": {
    "collapsed": false
   },
   "id": "1550abadcf410ca6"
  },
  {
   "cell_type": "code",
   "execution_count": null,
   "outputs": [],
   "source": [
    "# for test_subject_id in subject_to_indices.keys():\n",
    "#     predict_and_save_timestamped(test_subject_id, subject_to_indices, start_time_json_path)"
   ],
   "metadata": {
    "collapsed": false
   },
   "id": "c57e1d97872895c2"
  },
  {
   "cell_type": "code",
   "execution_count": null,
   "outputs": [],
   "source": [
    "from src.utils.utilities import load_start_time, append_timestamps_to_predictions"
   ],
   "metadata": {
    "collapsed": false
   },
   "id": "ce996f079f7e0a6"
  },
  {
   "cell_type": "code",
   "execution_count": null,
   "outputs": [],
   "source": [
    "path_to_save_timestamped = \"../data/cnn_predictions/non-majority/timestamped/in_sessions/\""
   ],
   "metadata": {
    "collapsed": false
   },
   "id": "14a63f20e13db8b9"
  },
  {
   "cell_type": "code",
   "execution_count": null,
   "outputs": [],
   "source": [
    "def save_predictions_timestamped_in_sessions():\n",
    "    for subject, session_indices in subject_to_indices.items():  \n",
    "        for session in session_indices:\n",
    "            print(f\"Subject: {subject}\\n\\tSession:{session}\")\n",
    "            with open(f\"../data/cnn_predictions/non-majority/un-timestamped/in_sessions/prediction_{subject}_{session}.pkl\", \"rb\") as f:\n",
    "                prediction = pickle.load(f)\n",
    "            start_time = load_start_time(start_time_json_path, session)\n",
    "            print(f\"\\t\\tStart time: {start_time}\")\n",
    "            timestamped_predictions = append_timestamps_to_predictions(prediction, start_time)\n",
    "            save_data(timestamped_predictions, path_to_save_timestamped, f\"prediction_{subject}_{session}\")"
   ],
   "metadata": {
    "collapsed": false
   },
   "id": "274272f4108369b5"
  }
 ],
 "metadata": {
  "kernelspec": {
   "display_name": "Python 3",
   "language": "python",
   "name": "python3"
  },
  "language_info": {
   "codemirror_mode": {
    "name": "ipython",
    "version": 2
   },
   "file_extension": ".py",
   "mimetype": "text/x-python",
   "name": "python",
   "nbconvert_exporter": "python",
   "pygments_lexer": "ipython2",
   "version": "2.7.6"
  }
 },
 "nbformat": 4,
 "nbformat_minor": 5
}
