{
 "cells": [
  {
   "cell_type": "code",
   "execution_count": 2,
   "id": "initial_id",
   "metadata": {
    "collapsed": true,
    "ExecuteTime": {
     "end_time": "2024-02-02T09:55:56.749619Z",
     "start_time": "2024-02-02T09:55:55.038646Z"
    }
   },
   "outputs": [],
   "source": [
    "import numpy as np\n",
    "import pickle as pkl\n",
    "import os\n",
    "from src.utils.data_transform import *\n",
    "from src.utils.data_io import *\n",
    "import importlib\n",
    "from src.utils.cnn_steps import *\n",
    "from src.utils.preprocessing import *"
   ]
  },
  {
   "cell_type": "markdown",
   "source": [
    "Use the below cell to bundle all data together."
   ],
   "metadata": {
    "collapsed": false
   },
   "id": "9dde4f513b007c91"
  },
  {
   "cell_type": "code",
   "execution_count": 3,
   "outputs": [],
   "source": [
    "# with open(\"../data/FIC.pkl\", 'rb') as f:\n",
    "#     FIC = pkl.load(f)\n",
    "# data = FIC['signals_proc']\n",
    "# labels = FIC['mm_gt']\n",
    "# final_data = process_all_sessions(data, labels)\n",
    "# save_data(final_data, \"../data/processed.nosync/all_final\", \"all_final\")"
   ],
   "metadata": {
    "collapsed": false,
    "ExecuteTime": {
     "end_time": "2024-02-02T09:55:58.619071Z",
     "start_time": "2024-02-02T09:55:58.595757Z"
    }
   },
   "id": "4b7ca4fa8cc23d52"
  },
  {
   "cell_type": "markdown",
   "source": [
    "Use the below cell to save data in a LOSO enabling fashion"
   ],
   "metadata": {
    "collapsed": false
   },
   "id": "22da62766716cf93"
  },
  {
   "cell_type": "code",
   "execution_count": 4,
   "outputs": [],
   "source": [
    "with open(\"../data/FIC.pkl\", 'rb') as f:\n",
    "    FIC = pkl.load(f)\n",
    "    \n",
    "data = FIC['signals_proc']\n",
    "labels = FIC['mm_gt']\n",
    "\n",
    "subject_ids = FIC[\"subject_id\"]\n",
    "subject_to_indices = {subject: [] for subject in set(subject_ids)}\n",
    "for i, subject_id in enumerate(subject_ids):\n",
    "    subject_to_indices[subject_id].append(i)"
   ],
   "metadata": {
    "collapsed": false,
    "ExecuteTime": {
     "end_time": "2024-02-02T09:56:01.564945Z",
     "start_time": "2024-02-02T09:56:01.509641Z"
    }
   },
   "id": "b6124727fce6ef83"
  },
  {
   "cell_type": "code",
   "execution_count": 5,
   "outputs": [],
   "source": [
    "directory_full = f\"../data/ProcessedSubjects/MajorityLabel/sessions/full/\"\n",
    "os.makedirs(directory_full, exist_ok=True)\n",
    "\n",
    "directory_t = f\"../data/ProcessedSubjects/MajorityLabel/sessions/timestamps/\"\n",
    "os.makedirs(directory_t, exist_ok=True)"
   ],
   "metadata": {
    "collapsed": false,
    "ExecuteTime": {
     "end_time": "2024-02-02T09:56:04.023914Z",
     "start_time": "2024-02-02T09:56:04.019355Z"
    }
   },
   "id": "958a87fe8f16b5a8"
  },
  {
   "cell_type": "code",
   "execution_count": null,
   "outputs": [],
   "source": [
    "for session_index in range(len(data)):\n",
    "    # Process a single session only\n",
    "    processed_data = process_single_session(data[session_index], labels[session_index])\n",
    "\n",
    "    with open(f\"{directory_full}/session_{session_index + 1}.pkl\", 'wb') as f:\n",
    "        pkl.dump(processed_data, f)\n",
    "        \n",
    "    # Save timestamps as well\n",
    "    timestamps = [window[0][:, 0] for window in processed_data]  # Get first column of each window\n",
    "    flattened_timestamps = np.concatenate(timestamps)\n",
    "    \n",
    "    # Save to .pkl file\n",
    "    with open(f\"{directory_t}/timestamps_session_{session_index + 1}.pkl\", 'wb') as f:\n",
    "        pkl.dump(flattened_timestamps, f)"
   ],
   "metadata": {
    "collapsed": false,
    "is_executing": true,
    "ExecuteTime": {
     "start_time": "2024-02-02T09:56:36.598589Z"
    }
   },
   "id": "ab04eaadd10e595b"
  },
  {
   "cell_type": "code",
   "execution_count": null,
   "outputs": [],
   "source": [],
   "metadata": {
    "collapsed": false
   },
   "id": "1fcac6e6423a030f"
  }
 ],
 "metadata": {
  "kernelspec": {
   "display_name": "Python 3",
   "language": "python",
   "name": "python3"
  },
  "language_info": {
   "codemirror_mode": {
    "name": "ipython",
    "version": 2
   },
   "file_extension": ".py",
   "mimetype": "text/x-python",
   "name": "python",
   "nbconvert_exporter": "python",
   "pygments_lexer": "ipython2",
   "version": "2.7.6"
  }
 },
 "nbformat": 4,
 "nbformat_minor": 5
}
