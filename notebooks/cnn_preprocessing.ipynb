{
 "cells": [
  {
   "cell_type": "code",
   "execution_count": 1,
   "id": "initial_id",
   "metadata": {
    "collapsed": true,
    "ExecuteTime": {
     "end_time": "2024-02-07T17:42:11.245598Z",
     "start_time": "2024-02-07T17:42:10.704512Z"
    }
   },
   "outputs": [],
   "source": [
    "import pickle\n",
    "\n",
    "import numpy as np\n",
    "import pickle as pkl\n",
    "import os\n",
    "from src.utils.data_transform import *\n",
    "from src.utils.data_io import *\n",
    "import importlib\n",
    "from src.utils.cnn_steps import *\n",
    "from src.utils.preprocessing import *"
   ]
  },
  {
   "cell_type": "markdown",
   "source": [
    "Use the below cell to bundle all data together."
   ],
   "metadata": {
    "collapsed": false
   },
   "id": "9dde4f513b007c91"
  },
  {
   "cell_type": "code",
   "execution_count": 2,
   "outputs": [],
   "source": [
    "# with open(\"../data/FIC.pkl\", 'rb') as f:\n",
    "#     FIC = pkl.load(f)\n",
    "# data = FIC['signals_proc']\n",
    "# labels = FIC['mm_gt']\n",
    "# final_data = process_all_sessions(data, labels)\n",
    "# save_data(final_data, \"../data/processed.nosync/all_final\", \"all_final\")"
   ],
   "metadata": {
    "collapsed": false,
    "ExecuteTime": {
     "end_time": "2024-02-07T17:42:11.249056Z",
     "start_time": "2024-02-07T17:42:11.245425Z"
    }
   },
   "id": "4b7ca4fa8cc23d52"
  },
  {
   "cell_type": "markdown",
   "source": [
    "Use the below cell to save data in a LOSO enabling fashion"
   ],
   "metadata": {
    "collapsed": false
   },
   "id": "22da62766716cf93"
  },
  {
   "cell_type": "code",
   "execution_count": 3,
   "outputs": [],
   "source": [
    "with open(\"../data/original/FIC.pkl\", 'rb') as f:\n",
    "    FIC = pkl.load(f)\n",
    "    \n",
    "data = FIC['signals_proc']\n",
    "labels = FIC['mm_gt']\n",
    "\n",
    "subject_ids = FIC[\"subject_id\"]\n",
    "subject_to_indices = {subject: [] for subject in set(subject_ids)}\n",
    "for i, subject_id in enumerate(subject_ids):\n",
    "    subject_to_indices[subject_id].append(i)"
   ],
   "metadata": {
    "collapsed": false,
    "ExecuteTime": {
     "end_time": "2024-02-07T17:42:11.496658Z",
     "start_time": "2024-02-07T17:42:11.458897Z"
    }
   },
   "id": "b6124727fce6ef83"
  },
  {
   "cell_type": "code",
   "execution_count": 4,
   "outputs": [],
   "source": [
    "# for prediction include other mm, and test whether we need labels or complete movements\n",
    "directory_full_path= \"../data/ProcessedSubjects/for_predictions/std_3/test/sessions\"\n",
    "os.makedirs(directory_full_path, exist_ok=True)\n",
    "\n",
    "directory_t_path = \"../data/ProcessedSubjects/for_predictions/std_3/test/timestamps\"\n",
    "os.makedirs(directory_t_path, exist_ok=True)"
   ],
   "metadata": {
    "collapsed": false,
    "ExecuteTime": {
     "end_time": "2024-02-07T17:42:12.761920Z",
     "start_time": "2024-02-07T17:42:12.754197Z"
    }
   },
   "id": "958a87fe8f16b5a8"
  },
  {
   "cell_type": "code",
   "execution_count": 6,
   "outputs": [],
   "source": [
    "for session_index in range(len(data)):\n",
    "    # Process a single session only\n",
    "    processed_data = process_single_session(data[session_index], labels[session_index])\n",
    "\n",
    "    with open(f\"{directory_full_path}/session_{session_index + 1}.pkl\", 'wb') as f:\n",
    "        pkl.dump(processed_data, f)\n",
    "        \n",
    "    # Save the first timestamp of each window\n",
    "    timestamps = [window[0, 0] for window in processed_data]\n",
    "    timestamps = np.array(timestamps)\n",
    "\n",
    "    # Save to .pkl file\n",
    "    with open(f\"{directory_t_path}/timestamps_session_{session_index + 1}.pkl\", 'wb') as f:\n",
    "        pkl.dump(timestamps, f)"
   ],
   "metadata": {
    "collapsed": false,
    "ExecuteTime": {
     "end_time": "2024-02-07T17:42:45.449973Z",
     "start_time": "2024-02-07T17:42:42.822869Z"
    }
   },
   "id": "ab04eaadd10e595b"
  },
  {
   "cell_type": "code",
   "execution_count": null,
   "outputs": [],
   "source": [],
   "metadata": {
    "collapsed": false
   },
   "id": "375bd7f961a509f7"
  }
 ],
 "metadata": {
  "kernelspec": {
   "display_name": "Python 3",
   "language": "python",
   "name": "python3"
  },
  "language_info": {
   "codemirror_mode": {
    "name": "ipython",
    "version": 2
   },
   "file_extension": ".py",
   "mimetype": "text/x-python",
   "name": "python",
   "nbconvert_exporter": "python",
   "pygments_lexer": "ipython2",
   "version": "2.7.6"
  }
 },
 "nbformat": 4,
 "nbformat_minor": 5
}
