{
 "cells": [
  {
   "cell_type": "code",
   "execution_count": null,
   "id": "initial_id",
   "metadata": {
    "collapsed": true
   },
   "outputs": [],
   "source": [
    "import numpy as np\n",
    "import pickle as pkl\n",
    "import os\n",
    "from src.utils.data_transform import *\n",
    "from src.utils.data_io import *\n",
    "import importlib\n",
    "from src.utils.cnn_steps import *\n",
    "from src.utils.preprocessing import *"
   ]
  },
  {
   "cell_type": "markdown",
   "source": [
    "Use the below cell to bundle all data together."
   ],
   "metadata": {
    "collapsed": false
   },
   "id": "9dde4f513b007c91"
  },
  {
   "cell_type": "code",
   "execution_count": null,
   "outputs": [],
   "source": [
    "# with open(\"../data/FIC.pkl\", 'rb') as f:\n",
    "#     FIC = pkl.load(f)\n",
    "# data = FIC['signals_proc']\n",
    "# labels = FIC['mm_gt']\n",
    "# final_data = process_all_sessions(data, labels)\n",
    "# save_data(final_data, \"../data/processed.nosync/all_final\", \"all_final\")"
   ],
   "metadata": {
    "collapsed": false
   },
   "id": "4b7ca4fa8cc23d52"
  },
  {
   "cell_type": "markdown",
   "source": [
    "Use the below cell to save data in a LOSO enabling fashion"
   ],
   "metadata": {
    "collapsed": false
   },
   "id": "22da62766716cf93"
  },
  {
   "cell_type": "code",
   "execution_count": null,
   "outputs": [],
   "source": [
    "with open(\"../data/FIC.pkl\", 'rb') as f:\n",
    "    FIC = pkl.load(f)\n",
    "    \n",
    "data = FIC['signals_proc']\n",
    "labels = FIC['mm_gt']\n",
    "\n",
    "subject_ids = FIC[\"subject_id\"]\n",
    "subject_to_indices = {subject: [] for subject in set(subject_ids)}\n",
    "for i, subject_id in enumerate(subject_ids):\n",
    "    subject_to_indices[subject_id].append(i)"
   ],
   "metadata": {
    "collapsed": false
   },
   "id": "b6124727fce6ef83"
  },
  {
   "cell_type": "code",
   "execution_count": null,
   "outputs": [],
   "source": [
    "for subject, session_indices in subject_to_indices.items():\n",
    "    print(f\"Subject: {subject} \\tSession: {session_indices}\")"
   ],
   "metadata": {
    "collapsed": false
   },
   "id": "98e115729cecc573"
  },
  {
   "cell_type": "code",
   "execution_count": null,
   "outputs": [],
   "source": [
    "for subject, session_indices in subject_to_indices.items():\n",
    "    print(f\"Subject:{subject}\\tSession:{session_indices}\")\n",
    "    # directory = f\"../data/ProcessedSubjects/______/subject_{subject}\"\n",
    "    # os.makedirs(directory, exist_ok=True)\n",
    "    \n",
    "    # Process sessions for each subject\n",
    "    subject_sessions = [data[i] for i in session_indices]\n",
    "    subject_labels = [labels[i] for i in session_indices]\n",
    "    \n",
    "    # Process data for this subject\n",
    "    processed_data = process_all_sessions(subject_sessions, subject_labels)\n",
    "\n",
    "    # Save to .pkl file\n",
    "    with open(f\"{directory}/data.pkl\", 'wb') as f:\n",
    "        pkl.dump(processed_data, f)\n",
    " "
   ],
   "metadata": {
    "collapsed": false
   },
   "id": "ab04eaadd10e595b"
  },
  {
   "cell_type": "code",
   "execution_count": null,
   "outputs": [],
   "source": [],
   "metadata": {
    "collapsed": false
   },
   "id": "1fcac6e6423a030f"
  }
 ],
 "metadata": {
  "kernelspec": {
   "display_name": "Python 3",
   "language": "python",
   "name": "python3"
  },
  "language_info": {
   "codemirror_mode": {
    "name": "ipython",
    "version": 2
   },
   "file_extension": ".py",
   "mimetype": "text/x-python",
   "name": "python",
   "nbconvert_exporter": "python",
   "pygments_lexer": "ipython2",
   "version": "2.7.6"
  }
 },
 "nbformat": 4,
 "nbformat_minor": 5
}
