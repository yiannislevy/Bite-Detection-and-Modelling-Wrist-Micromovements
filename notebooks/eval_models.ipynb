{
 "cells": [
  {
   "cell_type": "code",
   "execution_count": 3,
   "id": "initial_id",
   "metadata": {
    "collapsed": true,
    "ExecuteTime": {
     "end_time": "2024-02-07T13:17:26.865566Z",
     "start_time": "2024-02-07T13:17:24.271938Z"
    }
   },
   "outputs": [],
   "source": [
    "from tensorflow.keras.models import Sequential\n",
    "from tensorflow.keras.layers import Conv1D, MaxPooling1D, Flatten, Dense, Dropout\n",
    "from keras.optimizers import Adam\n",
    "import keras\n",
    "from keras.optimizers.legacy import Adam as LegacyAdam\n",
    "\n",
    "from sklearn.model_selection import train_test_split\n",
    "from sklearn.metrics import accuracy_score\n",
    "import numpy as np\n",
    "import pickle as pkl\n",
    "from src.utils.data_transform import *\n",
    "from src.utils.preprocessing import load_data\n",
    "import pandas as pd\n",
    "import os \n",
    "import pickle \n",
    "import json\n",
    "from src.utils.data_io import save_data"
   ]
  },
  {
   "cell_type": "code",
   "execution_count": 4,
   "outputs": [],
   "source": [
    "results = []"
   ],
   "metadata": {
    "collapsed": false,
    "ExecuteTime": {
     "end_time": "2024-02-07T13:17:26.869858Z",
     "start_time": "2024-02-07T13:17:26.866644Z"
    }
   },
   "id": "b9d4b4afececfb86"
  },
  {
   "cell_type": "code",
   "execution_count": 5,
   "outputs": [],
   "source": [
    "with open(\"../data/dataset-info-json/subject_to_indices.json\", \"r\") as f:\n",
    "    subject_to_indices = json.load(f)\n",
    "\n",
    "subject_to_indices = {int(k): v for k, v in subject_to_indices.items()}"
   ],
   "metadata": {
    "collapsed": false,
    "ExecuteTime": {
     "end_time": "2024-02-07T13:17:26.873578Z",
     "start_time": "2024-02-07T13:17:26.869794Z"
    }
   },
   "id": "1a325bd44fbd3a30"
  },
  {
   "cell_type": "code",
   "execution_count": 6,
   "outputs": [],
   "source": [
    "path_to_data = \"../data/ProcessedSubjects/MajorityLabel/sessions/grav_n_med/full_std_3\"\n",
    "path_to_models = \"../models/full_loso/majority_label/processed/std_3\""
   ],
   "metadata": {
    "collapsed": false,
    "ExecuteTime": {
     "end_time": "2024-02-07T13:17:32.056871Z",
     "start_time": "2024-02-07T13:17:32.048745Z"
    }
   },
   "id": "f6dececa1a2c4563"
  },
  {
   "cell_type": "code",
   "execution_count": null,
   "outputs": [],
   "source": [
    "for test_subject in subject_to_indices.keys():\n",
    "    model_path = f\"{path_to_models}/model_{test_subject}.keras\"\n",
    "    model = keras.models.load_model(model_path, compile=False)\n",
    "    model.compile(optimizer=LegacyAdam(learning_rate=1e-3), loss='categorical_crossentropy', metrics=[\"accuracy\"])\n",
    "    _, _, test_data, test_labels = load_data(test_subject, subject_to_indices, path_to_data)\n",
    "    results.append(model.evaluate(test_data, test_labels[:, :5]))"
   ],
   "metadata": {
    "collapsed": false
   },
   "id": "27a8d15339855fa0"
  },
  {
   "cell_type": "code",
   "execution_count": 18,
   "outputs": [
    {
     "name": "stdout",
     "output_type": "stream",
     "text": [
      "Easy Accuracy: 79.57%\n"
     ]
    }
   ],
   "source": [
    "print(f\"Easy Accuracy: {100*np.mean([item[1] for item in results]):.2f}%\")"
   ],
   "metadata": {
    "collapsed": false,
    "ExecuteTime": {
     "end_time": "2024-02-07T13:30:33.377142Z",
     "start_time": "2024-02-07T13:30:33.366351Z"
    }
   },
   "id": "6b24f531bd0128fa"
  },
  {
   "cell_type": "code",
   "execution_count": 19,
   "outputs": [
    {
     "name": "stdout",
     "output_type": "stream",
     "text": [
      "Loss: 63.53%\n"
     ]
    }
   ],
   "source": [
    "print(f\"Loss: {100*np.mean([item[0] for item in results]):.2f}%\")"
   ],
   "metadata": {
    "collapsed": false,
    "ExecuteTime": {
     "end_time": "2024-02-07T13:30:48.841414Z",
     "start_time": "2024-02-07T13:30:48.829756Z"
    }
   },
   "id": "b98f80eb7b7e4309"
  }
 ],
 "metadata": {
  "kernelspec": {
   "display_name": "Python 3",
   "language": "python",
   "name": "python3"
  },
  "language_info": {
   "codemirror_mode": {
    "name": "ipython",
    "version": 2
   },
   "file_extension": ".py",
   "mimetype": "text/x-python",
   "name": "python",
   "nbconvert_exporter": "python",
   "pygments_lexer": "ipython2",
   "version": "2.7.6"
  }
 },
 "nbformat": 4,
 "nbformat_minor": 5
}
