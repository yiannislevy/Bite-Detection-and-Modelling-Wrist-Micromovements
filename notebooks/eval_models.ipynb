{
 "cells": [
  {
   "cell_type": "code",
   "execution_count": 1,
   "id": "initial_id",
   "metadata": {
    "collapsed": true,
    "ExecuteTime": {
     "end_time": "2024-02-11T19:25:36.361132Z",
     "start_time": "2024-02-11T19:25:34.222144Z"
    }
   },
   "outputs": [],
   "source": [
    "from tensorflow.keras.models import Sequential\n",
    "from tensorflow.keras.layers import Conv1D, MaxPooling1D, Flatten, Dense, Dropout\n",
    "from keras.optimizers import Adam\n",
    "import keras\n",
    "from keras.optimizers.legacy import Adam as LegacyAdam\n",
    "\n",
    "from sklearn.model_selection import train_test_split\n",
    "from sklearn.metrics import accuracy_score\n",
    "import numpy as np\n",
    "import pickle as pkl\n",
    "from src.utils.data_transform import *\n",
    "from src.utils.data_io import load_prediction_data\n",
    "import pandas as pd\n",
    "import os \n",
    "import pickle \n",
    "import json\n",
    "from src.utils.data_io import save_data"
   ]
  },
  {
   "cell_type": "code",
   "execution_count": 2,
   "outputs": [],
   "source": [
    "results = []"
   ],
   "metadata": {
    "collapsed": false,
    "ExecuteTime": {
     "end_time": "2024-02-11T19:25:36.829470Z",
     "start_time": "2024-02-11T19:25:36.826454Z"
    }
   },
   "id": "b9d4b4afececfb86"
  },
  {
   "cell_type": "code",
   "execution_count": 3,
   "outputs": [],
   "source": [
    "with open(\"../data/dataset-info-json/subject_to_indices.json\", \"r\") as f:\n",
    "    subject_to_indices = json.load(f)\n",
    "\n",
    "subject_to_indices = {int(k): v for k, v in subject_to_indices.items()}"
   ],
   "metadata": {
    "collapsed": false,
    "ExecuteTime": {
     "end_time": "2024-02-11T19:25:37.083312Z",
     "start_time": "2024-02-11T19:25:37.078199Z"
    }
   },
   "id": "1a325bd44fbd3a30"
  },
  {
   "cell_type": "code",
   "execution_count": 4,
   "outputs": [],
   "source": [
    "path_to_data = \"../data/lstm_training_data/processed/balanced_training_data.pkl\"\n",
    "path_to_models = \"../models/lstm\""
   ],
   "metadata": {
    "collapsed": false,
    "ExecuteTime": {
     "end_time": "2024-02-11T19:25:37.987526Z",
     "start_time": "2024-02-11T19:25:37.980276Z"
    }
   },
   "id": "f6dececa1a2c4563"
  },
  {
   "cell_type": "code",
   "execution_count": 5,
   "outputs": [],
   "source": [
    "with open(\"../data/lstm_training_data/processed/balanced_training_data.pkl\", \"rb\") as f:\n",
    "    data = pickle.load(f)"
   ],
   "metadata": {
    "collapsed": false,
    "ExecuteTime": {
     "end_time": "2024-02-11T19:25:39.224063Z",
     "start_time": "2024-02-11T19:25:39.214437Z"
    }
   },
   "id": "78459cb78b0dc35b"
  },
  {
   "cell_type": "code",
   "execution_count": 6,
   "outputs": [
    {
     "name": "stderr",
     "output_type": "stream",
     "text": [
      "2024-02-11 20:25:59.727228: I metal_plugin/src/device/metal_device.cc:1154] Metal device set to: Apple M1 Max\n",
      "2024-02-11 20:25:59.727257: I metal_plugin/src/device/metal_device.cc:296] systemMemory: 32.00 GB\n",
      "2024-02-11 20:25:59.727270: I metal_plugin/src/device/metal_device.cc:313] maxCacheSize: 10.67 GB\n",
      "2024-02-11 20:25:59.727310: I tensorflow/core/common_runtime/pluggable_device/pluggable_device_factory.cc:306] Could not identify NUMA node of platform GPU ID 0, defaulting to 0. Your kernel may not have been built with NUMA support.\n",
      "2024-02-11 20:25:59.727328: I tensorflow/core/common_runtime/pluggable_device/pluggable_device_factory.cc:272] Created TensorFlow device (/job:localhost/replica:0/task:0/device:GPU:0 with 0 MB memory) -> physical PluggableDevice (device: 0, name: METAL, pci bus id: <undefined>)\n",
      "/opt/homebrew/Caskroom/miniforge/base/envs/tensorflowenv/lib/python3.10/site-packages/tensorflow/python/util/dispatch.py:1260: SyntaxWarning: In loss categorical_crossentropy, expected y_pred.shape to be (batch_size, num_classes) with num_classes > 1. Received: y_pred.shape=(None, 1). Consider using 'binary_crossentropy' if you only have 2 classes.\n",
      "  return dispatch_target(*args, **kwargs)\n",
      "2024-02-11 20:26:01.626245: I tensorflow/core/grappler/optimizers/custom_graph_optimizer_registry.cc:117] Plugin optimizer for device_type GPU is enabled.\n"
     ]
    },
    {
     "name": "stdout",
     "output_type": "stream",
     "text": [
      "9/9 [==============================] - 2s 29ms/step - loss: 0.0000e+00 - accuracy: 0.9504\n",
      "8/8 [==============================] - 2s 31ms/step - loss: 0.0000e+00 - accuracy: 0.9876\n"
     ]
    },
    {
     "name": "stderr",
     "output_type": "stream",
     "text": [
      "/opt/homebrew/Caskroom/miniforge/base/envs/tensorflowenv/lib/python3.10/site-packages/tensorflow/python/util/dispatch.py:1260: SyntaxWarning: In loss categorical_crossentropy, expected y_pred.shape to be (batch_size, num_classes) with num_classes > 1. Received: y_pred.shape=(32, 1). Consider using 'binary_crossentropy' if you only have 2 classes.\n",
      "  return dispatch_target(*args, **kwargs)\n"
     ]
    },
    {
     "name": "stdout",
     "output_type": "stream",
     "text": [
      "13/13 [==============================] - 5s 282ms/step - loss: 0.0000e+00 - accuracy: 0.8822\n",
      "8/8 [==============================] - 4s 368ms/step - loss: 0.0000e+00 - accuracy: 0.9603\n",
      "4/4 [==============================] - 2s 38ms/step - loss: 0.0000e+00 - accuracy: 0.9737\n",
      "13/13 [==============================] - 6s 357ms/step - loss: 0.0000e+00 - accuracy: 0.9608\n",
      "3/3 [==============================] - 2s 48ms/step - loss: 0.0000e+00 - accuracy: 1.0000\n",
      "5/5 [==============================] - 2s 37ms/step - loss: 0.0000e+00 - accuracy: 0.9044\n",
      "6/6 [==============================] - 4s 437ms/step - loss: 0.0000e+00 - accuracy: 0.9076\n",
      "5/5 [==============================] - 2s 35ms/step - loss: 0.0000e+00 - accuracy: 1.0000\n",
      "5/5 [==============================] - 2s 34ms/step - loss: 0.0000e+00 - accuracy: 1.0000\n",
      "2/2 [==============================] - 1s 27ms/step - loss: 0.0000e+00 - accuracy: 0.9688\n"
     ]
    }
   ],
   "source": [
    "for test_subject in subject_to_indices.keys():\n",
    "    model_path = f\"{path_to_models}/EFF_model_{test_subject}.keras\"\n",
    "    model = keras.models.load_model(model_path, compile=False)\n",
    "    model.compile(optimizer=LegacyAdam(learning_rate=1e-3), loss='categorical_crossentropy', metrics=[\"accuracy\"])\n",
    "    _, _, test_data, test_labels = load_prediction_data(test_subject, subject_to_indices, data)\n",
    "    results.append(model.evaluate(test_data, test_labels))"
   ],
   "metadata": {
    "collapsed": false,
    "ExecuteTime": {
     "end_time": "2024-02-11T19:26:37.946627Z",
     "start_time": "2024-02-11T19:25:59.721551Z"
    }
   },
   "id": "27a8d15339855fa0"
  },
  {
   "cell_type": "code",
   "execution_count": 7,
   "outputs": [
    {
     "name": "stdout",
     "output_type": "stream",
     "text": [
      "Easy Accuracy: 95.80%\n"
     ]
    }
   ],
   "source": [
    "print(f\"Easy Accuracy: {100*np.mean([item[1] for item in results]):.2f}%\")"
   ],
   "metadata": {
    "collapsed": false,
    "ExecuteTime": {
     "end_time": "2024-02-11T19:26:51.586026Z",
     "start_time": "2024-02-11T19:26:51.579841Z"
    }
   },
   "id": "6b24f531bd0128fa"
  },
  {
   "cell_type": "code",
   "execution_count": 8,
   "outputs": [
    {
     "name": "stdout",
     "output_type": "stream",
     "text": [
      "Loss: 0.00%\n"
     ]
    }
   ],
   "source": [
    "print(f\"Loss: {100*np.mean([item[0] for item in results]):.2f}%\")"
   ],
   "metadata": {
    "collapsed": false,
    "ExecuteTime": {
     "end_time": "2024-02-11T19:26:54.734520Z",
     "start_time": "2024-02-11T19:26:54.723479Z"
    }
   },
   "id": "b98f80eb7b7e4309"
  },
  {
   "cell_type": "markdown",
   "source": [
    "Load training info"
   ],
   "metadata": {
    "collapsed": false
   },
   "id": "84c8bb42f2136b27"
  },
  {
   "cell_type": "code",
   "execution_count": null,
   "outputs": [],
   "source": [
    "tot_acc = []\n",
    "tot_res = []\n",
    "tot_loss = []\n",
    "info_path = \"../models/lstm/training_info/\"\n",
    "for i in range(1,13):\n",
    "    with open(f\"{info_path}/EFFaccuracy_{i}.pkl\", \"rb\") as a:\n",
    "        tot_acc.append(pickle.load(a))\n",
    "    with open(f\"{info_path}/EFFresults_{i}.pkl\", \"rb\") as r:\n",
    "        tot_res.append(pickle.load(r))\n",
    "    with open(f\"{info_path}/EFFloss_{i}.pkl\", \"rb\") as l:\n",
    "        tot_loss.append(pickle.load(l))\n",
    "\n",
    "tot_res = np.concatenate(tot_res)\n",
    "tot_acc = np.concatenate(tot_acc)\n",
    "tot_loss = np.concatenate(tot_loss)\n",
    "\n",
    "print(f\"Evaluation: {np.mean(tot_res[:,1])*100}%\")\n",
    "print(f\"Accuracy: {np.mean(tot_acc)*100}%\")\n",
    "print(f\"Loss: {np.mean(tot_res[:,0])*100}%\")"
   ],
   "metadata": {
    "collapsed": false
   },
   "id": "1c2deea29d3351e4"
  },
  {
   "cell_type": "code",
   "execution_count": null,
   "outputs": [],
   "source": [],
   "metadata": {
    "collapsed": false
   },
   "id": "6cadc8c9af83aee3"
  }
 ],
 "metadata": {
  "kernelspec": {
   "display_name": "Python 3",
   "language": "python",
   "name": "python3"
  },
  "language_info": {
   "codemirror_mode": {
    "name": "ipython",
    "version": 2
   },
   "file_extension": ".py",
   "mimetype": "text/x-python",
   "name": "python",
   "nbconvert_exporter": "python",
   "pygments_lexer": "ipython2",
   "version": "2.7.6"
  }
 },
 "nbformat": 4,
 "nbformat_minor": 5
}
