{
 "cells": [
  {
   "cell_type": "code",
   "execution_count": null,
   "id": "initial_id",
   "metadata": {
    "collapsed": true
   },
   "outputs": [],
   "source": [
    "from tensorflow.keras.models import Sequential\n",
    "from tensorflow.keras.layers import Conv1D, MaxPooling1D, Flatten, Dense, Dropout\n",
    "from keras.optimizers import Adam\n",
    "import keras\n",
    "from keras.optimizers.legacy import Adam as LegacyAdam\n",
    "\n",
    "from sklearn.model_selection import train_test_split\n",
    "from sklearn.metrics import accuracy_score\n",
    "import numpy as np\n",
    "import pickle as pkl\n",
    "from src.utils.data_transform import *\n",
    "from src.utils.data_io import load_prediction_data\n",
    "import pandas as pd\n",
    "import os \n",
    "import pickle \n",
    "import json\n",
    "from src.utils.data_io import save_data"
   ]
  },
  {
   "cell_type": "code",
   "execution_count": null,
   "outputs": [],
   "source": [
    "results = []"
   ],
   "metadata": {
    "collapsed": false
   },
   "id": "b9d4b4afececfb86"
  },
  {
   "cell_type": "code",
   "execution_count": null,
   "outputs": [],
   "source": [
    "with open(\"../data/dataset-info-json/subject_to_indices.json\", \"r\") as f:\n",
    "    subject_to_indices = json.load(f)\n",
    "\n",
    "subject_to_indices = {int(k): v for k, v in subject_to_indices.items()}"
   ],
   "metadata": {
    "collapsed": false
   },
   "id": "1a325bd44fbd3a30"
  },
  {
   "cell_type": "code",
   "execution_count": null,
   "outputs": [],
   "source": [
    "# path_to_data = \"../data/lstm_training_data/raw/training_data.pkl\"\n",
    "path_to_data = \"../data/lstm_training_data/processed/balanced_training_data.pkl\"\n",
    "path_to_models = \"../models/lstm\""
   ],
   "metadata": {
    "collapsed": false
   },
   "id": "f6dececa1a2c4563"
  },
  {
   "cell_type": "code",
   "execution_count": null,
   "outputs": [],
   "source": [
    "with open(path_to_data, \"rb\") as f:\n",
    "    data = pickle.load(f)"
   ],
   "metadata": {
    "collapsed": false
   },
   "id": "78459cb78b0dc35b"
  },
  {
   "cell_type": "code",
   "execution_count": null,
   "outputs": [],
   "source": [
    "for test_subject in subject_to_indices.keys():\n",
    "    model_path = f\"{path_to_models}/EFF_model_{test_subject}.keras\"\n",
    "    model = keras.models.load_model(model_path, compile=False)\n",
    "    model.compile(optimizer=LegacyAdam(learning_rate=1e-3), loss='categorical_crossentropy', metrics=[\"accuracy\"])\n",
    "    _, _, test_data, test_labels = load_prediction_data(test_subject, subject_to_indices, data)\n",
    "    results.append(model.evaluate(test_data, test_labels))"
   ],
   "metadata": {
    "collapsed": false
   },
   "id": "27a8d15339855fa0"
  },
  {
   "cell_type": "code",
   "execution_count": null,
   "outputs": [],
   "source": [
    "print(f\"Easy Accuracy: {100*np.mean([item[1] for item in results]):.2f}%\")\n",
    "print(f\"Loss: {100*np.mean([item[0] for item in results]):.2f}%\")"
   ],
   "metadata": {
    "collapsed": false
   },
   "id": "6b24f531bd0128fa"
  },
  {
   "cell_type": "markdown",
   "source": [
    "Load training info"
   ],
   "metadata": {
    "collapsed": false
   },
   "id": "84c8bb42f2136b27"
  },
  {
   "cell_type": "code",
   "execution_count": null,
   "outputs": [],
   "source": [
    "tot_acc = []\n",
    "tot_res = []\n",
    "tot_loss = []\n",
    "info_path = \"../models/lstm/training_info/\"\n",
    "for i in range(1,13):\n",
    "    with open(f\"{info_path}/EFFaccuracy_{i}.pkl\", \"rb\") as a:\n",
    "        tot_acc.append(pickle.load(a))\n",
    "    with open(f\"{info_path}/EFFresults_{i}.pkl\", \"rb\") as r:\n",
    "        tot_res.append(pickle.load(r))\n",
    "    with open(f\"{info_path}/EFFloss_{i}.pkl\", \"rb\") as l:\n",
    "        tot_loss.append(pickle.load(l))\n",
    "\n",
    "tot_res = np.concatenate(tot_res)\n",
    "tot_acc = np.concatenate(tot_acc)\n",
    "tot_loss = np.concatenate(tot_loss)\n",
    "\n",
    "print(f\"Evaluation: {np.mean(tot_res[:,1])*100}%\")\n",
    "print(f\"Accuracy: {np.mean(tot_acc)*100}%\")\n",
    "print(f\"Loss: {np.mean(tot_res[:,0])*100}%\")"
   ],
   "metadata": {
    "collapsed": false
   },
   "id": "1c2deea29d3351e4"
  },
  {
   "cell_type": "code",
   "execution_count": null,
   "outputs": [],
   "source": [],
   "metadata": {
    "collapsed": false
   },
   "id": "4d9cdc9bcec6ee6"
  }
 ],
 "metadata": {
  "kernelspec": {
   "display_name": "Python 3",
   "language": "python",
   "name": "python3"
  },
  "language_info": {
   "codemirror_mode": {
    "name": "ipython",
    "version": 2
   },
   "file_extension": ".py",
   "mimetype": "text/x-python",
   "name": "python",
   "nbconvert_exporter": "python",
   "pygments_lexer": "ipython2",
   "version": "2.7.6"
  }
 },
 "nbformat": 4,
 "nbformat_minor": 5
}
