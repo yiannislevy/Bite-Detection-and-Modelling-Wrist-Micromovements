{
 "cells": [
  {
   "cell_type": "code",
   "execution_count": null,
   "id": "initial_id",
   "metadata": {
    "collapsed": true
   },
   "outputs": [],
   "source": [
    "import os\n",
    "import pickle as pkl\n",
    "import json"
   ]
  },
  {
   "cell_type": "code",
   "execution_count": null,
   "outputs": [],
   "source": [
    "def find_common_timeframe(signals_session, mm_gt_session):\n",
    "    start_time = max(signals_session[0, 0], mm_gt_session[0, 0])\n",
    "    end_time = min(signals_session[-1, 0], mm_gt_session[-1, 1])\n",
    "\n",
    "    signals_session_common = signals_session[(signals_session[:, 0] >= start_time) & (signals_session[:, 0] <= end_time)]\n",
    "    mm_gt_session_common = mm_gt_session[(mm_gt_session[:, 0] >= start_time) & (mm_gt_session[:, 1] <= end_time)]\n",
    "\n",
    "    return signals_session_common, mm_gt_session_common"
   ],
   "metadata": {
    "collapsed": false
   },
   "id": "4b2b6eea17606fca"
  },
  {
   "cell_type": "code",
   "execution_count": null,
   "outputs": [],
   "source": [
    "def process_all_sessions(signals, labels):\n",
    "    session_start_times = {}\n",
    "    i = 1\n",
    "    for signal_session, label_session in zip(signals, labels):\n",
    "        session_data, label_data = find_common_timeframe(signal_session, label_session)\n",
    "        start_time = session_data[0, 0]\n",
    "        session_start_times[i] = start_time\n",
    "        i += 1\n",
    "    return session_start_times"
   ],
   "metadata": {
    "collapsed": false
   },
   "id": "53eec4a0d7558b50"
  },
  {
   "cell_type": "code",
   "execution_count": null,
   "outputs": [],
   "source": [
    "with open(\"../data/FIC.pkl\", 'rb') as f:\n",
    "    FIC = pkl.load(f)\n",
    "\n",
    "data = FIC['signals_proc']\n",
    "labels = FIC['mm_gt']\n"
   ],
   "metadata": {
    "collapsed": false
   },
   "id": "4ae8da8d019e0854"
  },
  {
   "cell_type": "code",
   "execution_count": null,
   "outputs": [],
   "source": [
    "# subject_ids = FIC[\"subject_id\"]\n",
    "# subject_to_indices = {subject: [] for subject in set(subject_ids)}\n",
    "# for i, subject_id in enumerate(subject_ids):\n",
    "#     subject_to_indices[subject_id].append(i)"
   ],
   "metadata": {
    "collapsed": false
   },
   "id": "479d2b922f6afeb3"
  },
  {
   "cell_type": "code",
   "execution_count": null,
   "outputs": [],
   "source": [
    "session_start_times = process_all_sessions(data, labels)\n"
   ],
   "metadata": {
    "collapsed": false
   },
   "id": "63b42c0681530ceb"
  },
  {
   "cell_type": "code",
   "execution_count": null,
   "outputs": [],
   "source": [
    "import json\n",
    "with open('../../data/dataset-info-json/signal_start_times.json', 'w') as json_file:\n",
    "    json.dump(session_start_times, json_file)"
   ],
   "metadata": {
    "collapsed": false
   },
   "id": "5eaa08513bba373e"
  },
  {
   "cell_type": "code",
   "execution_count": null,
   "outputs": [],
   "source": [
    "labels[20]"
   ],
   "metadata": {
    "collapsed": false
   },
   "id": "61959a1793c765a4"
  },
  {
   "cell_type": "code",
   "execution_count": null,
   "outputs": [],
   "source": [],
   "metadata": {
    "collapsed": false
   },
   "id": "f44f3f220537c82c"
  }
 ],
 "metadata": {
  "kernelspec": {
   "display_name": "Python 3",
   "language": "python",
   "name": "python3"
  },
  "language_info": {
   "codemirror_mode": {
    "name": "ipython",
    "version": 2
   },
   "file_extension": ".py",
   "mimetype": "text/x-python",
   "name": "python",
   "nbconvert_exporter": "python",
   "pygments_lexer": "ipython2",
   "version": "2.7.6"
  }
 },
 "nbformat": 4,
 "nbformat_minor": 5
}
