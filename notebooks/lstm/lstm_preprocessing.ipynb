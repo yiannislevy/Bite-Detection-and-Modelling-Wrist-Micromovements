{
 "cells": [
  {
   "cell_type": "code",
   "execution_count": 1,
   "outputs": [],
   "source": [
    "import pickle\n",
    "import json\n",
    "import numpy as np\n",
    "import pickle as pkl\n",
    "import os\n",
    "from src.utils.data_transform import *\n",
    "from src.utils.data_io import *\n",
    "import importlib\n",
    "from src.utils.cnn_steps import *\n",
    "from src.utils.preprocessing import *\n",
    "from src.utils.lstm_steps import *\n",
    "from src.utils.stats import *"
   ],
   "metadata": {
    "collapsed": false,
    "ExecuteTime": {
     "end_time": "2024-02-08T17:43:39.943251Z",
     "start_time": "2024-02-08T17:43:39.266854Z"
    }
   },
   "id": "33e9cbea0d27045f"
  },
  {
   "cell_type": "markdown",
   "source": [
    "**Environment data setup**"
   ],
   "metadata": {
    "collapsed": false
   },
   "id": "21857b45c02322a6"
  },
  {
   "cell_type": "code",
   "execution_count": null,
   "outputs": [],
   "source": [],
   "metadata": {
    "collapsed": false
   },
   "id": "2e68451b3ac9a40b"
  },
  {
   "cell_type": "code",
   "execution_count": null,
   "outputs": [],
   "source": [],
   "metadata": {
    "collapsed": false
   },
   "id": "a797ca3768448ff2"
  },
  {
   "cell_type": "code",
   "execution_count": null,
   "outputs": [],
   "source": [],
   "metadata": {
    "collapsed": false
   },
   "id": "661884b2170df20e"
  },
  {
   "cell_type": "code",
   "execution_count": 2,
   "outputs": [],
   "source": [
    "with open(\"../data/dataset-info-json/subject_to_indices.json\", \"r\") as f:\n",
    "    subject_to_indices = json.load(f)\n",
    "subject_to_indices = {int(k): v for k, v in subject_to_indices.items()}\n",
    "\n",
    "predictions_path = \"../data/cnn_predictions/full/timestamped/\"\n",
    "predictions = load_cnn_predictions(subject_to_indices, predictions_path)\n",
    "\n",
    "with open(\"../data/original/FIC.pkl\", \"rb\") as f:\n",
    "    fic = pickle.load(f)\n",
    "mm_gt = fic[\"mm_gt\"]\n",
    "sig = fic[\"signals_proc\"]\n",
    "bite_gt = fic[\"bite_gt\"]"
   ],
   "metadata": {
    "collapsed": false,
    "ExecuteTime": {
     "end_time": "2024-02-08T17:43:42.042985Z",
     "start_time": "2024-02-08T17:43:41.963129Z"
    }
   },
   "id": "47c6544dd9886d2c"
  },
  {
   "cell_type": "code",
   "execution_count": null,
   "outputs": [],
   "source": [],
   "metadata": {
    "collapsed": false
   },
   "id": "12a5101e25a65f31"
  },
  {
   "cell_type": "code",
   "execution_count": null,
   "outputs": [],
   "source": [],
   "metadata": {
    "collapsed": false
   },
   "id": "91bede72f1464273"
  },
  {
   "cell_type": "code",
   "execution_count": null,
   "outputs": [],
   "source": [],
   "metadata": {
    "collapsed": false
   },
   "id": "141c743d5db91922"
  },
  {
   "cell_type": "markdown",
   "source": [
    "**Extract information on bites**"
   ],
   "metadata": {
    "collapsed": false
   },
   "id": "53b2ae4e5d1f71b5"
  },
  {
   "cell_type": "code",
   "execution_count": null,
   "outputs": [],
   "source": [],
   "metadata": {
    "collapsed": false
   },
   "id": "eeb40986e54c3c6"
  },
  {
   "cell_type": "code",
   "execution_count": null,
   "outputs": [],
   "source": [],
   "metadata": {
    "collapsed": false
   },
   "id": "ac91611ea57fee46"
  },
  {
   "cell_type": "code",
   "execution_count": null,
   "outputs": [],
   "source": [],
   "metadata": {
    "collapsed": false
   },
   "id": "7b292a6df601826b"
  },
  {
   "cell_type": "code",
   "execution_count": 3,
   "outputs": [],
   "source": [
    "bite_lengths = []\n",
    "for meal in bite_gt:\n",
    "    for bite in meal:\n",
    "        bite_lengths.append(bite[1] - bite[0])"
   ],
   "metadata": {
    "collapsed": false,
    "ExecuteTime": {
     "end_time": "2024-02-08T17:33:47.491838Z",
     "start_time": "2024-02-08T17:33:47.488350Z"
    }
   },
   "id": "528a0b637d692e56"
  },
  {
   "cell_type": "code",
   "execution_count": 4,
   "outputs": [],
   "source": [
    "bite_lengths = np.array(bite_lengths)"
   ],
   "metadata": {
    "collapsed": false,
    "ExecuteTime": {
     "end_time": "2024-02-08T17:33:47.913927Z",
     "start_time": "2024-02-08T17:33:47.910486Z"
    }
   },
   "id": "2cb74b126e7c291b"
  },
  {
   "cell_type": "code",
   "execution_count": 5,
   "outputs": [
    {
     "name": "stdout",
     "output_type": "stream",
     "text": [
      "Average bite length: 4.521831081081081\n",
      "Min bite length: 1.2100000000000364\n",
      "Max bite length: 41.19\n"
     ]
    }
   ],
   "source": [
    "print(f'Average bite length: {np.mean(bite_lengths)}')\n",
    "print(f'Min bite length: {np.min(bite_lengths)}')\n",
    "print(f'Max bite length: {np.max(bite_lengths)}')"
   ],
   "metadata": {
    "collapsed": false,
    "ExecuteTime": {
     "end_time": "2024-02-08T17:33:48.319776Z",
     "start_time": "2024-02-08T17:33:48.316377Z"
    }
   },
   "id": "81da91e56ca5893c"
  },
  {
   "cell_type": "code",
   "execution_count": 7,
   "outputs": [
    {
     "name": "stdout",
     "output_type": "stream",
     "text": [
      "{'Original Mean': 4.521831081081081, 'Original Std Dev': 3.226590120242883, 'Lower Bound': -1.023499999999986, 'Upper Bound': 8.844499999999995, 'Filtered Mean': 3.807725122349102, 'Filtered Std Dev': 1.595918424274311, 'Filtered Median': 3.390999999999991, 'Filtered Min': 1.2100000000000364, 'Filtered Max': 8.742999999999995}\n"
     ]
    }
   ],
   "source": [
    "print(calculate_bite_stats(bite_gt))"
   ],
   "metadata": {
    "collapsed": false,
    "ExecuteTime": {
     "end_time": "2024-02-08T17:34:38.390558Z",
     "start_time": "2024-02-08T17:34:38.375909Z"
    }
   },
   "id": "8b9729b9e0f869e0"
  },
  {
   "cell_type": "code",
   "execution_count": null,
   "outputs": [],
   "source": [],
   "metadata": {
    "collapsed": false
   },
   "id": "17e83c6cbfa11eeb"
  },
  {
   "cell_type": "code",
   "execution_count": null,
   "outputs": [],
   "source": [],
   "metadata": {
    "collapsed": false
   },
   "id": "211c54e3b06df8b9"
  },
  {
   "cell_type": "code",
   "execution_count": null,
   "outputs": [],
   "source": [],
   "metadata": {
    "collapsed": false
   },
   "id": "7db0b63e48f6b040"
  },
  {
   "cell_type": "markdown",
   "source": [
    "**Create positive example bites**"
   ],
   "metadata": {
    "collapsed": false
   },
   "id": "e74bf02f922d3886"
  },
  {
   "cell_type": "code",
   "execution_count": null,
   "outputs": [],
   "source": [],
   "metadata": {
    "collapsed": false
   },
   "id": "6dbbb46ae2a3b934"
  },
  {
   "cell_type": "code",
   "execution_count": null,
   "outputs": [],
   "source": [],
   "metadata": {
    "collapsed": false
   },
   "id": "edf65d7ad1f31745"
  },
  {
   "cell_type": "code",
   "execution_count": null,
   "outputs": [],
   "source": [],
   "metadata": {
    "collapsed": false
   },
   "id": "b0cd419c8fa32173"
  },
  {
   "cell_type": "code",
   "execution_count": 42,
   "outputs": [
    {
     "name": "stdout",
     "output_type": "stream",
     "text": [
      "Session: 0\n",
      "\n",
      "Error in making bite windows. Expected length: 90, actual length: 132.\n",
      "Info on window:\t\tStart time: 1817) 188.856\tEnd time: 1949) 202.052.\n",
      "\n",
      "\n",
      "Error in making bite windows. Expected length: 90, actual length: 91.\n",
      "Info on window:\t\tStart time: 2321) 239.20600000000002\tEnd time: 2412) 248.299.\n",
      "\n",
      "\n",
      "Error in making bite windows. Expected length: 90, actual length: 102.\n",
      "Info on window:\t\tStart time: 2603) 267.422\tEnd time: 2705) 277.677.\n",
      "\n",
      "\n",
      "Error in making bite windows. Expected length: 90, actual length: 412.\n",
      "Info on window:\t\tStart time: 2932) 300.384\tEnd time: 3344) 341.574.\n",
      "\n",
      "\n",
      "Error in making bite windows. Expected length: 90, actual length: 125.\n",
      "Info on window:\t\tStart time: 4006) 407.774\tEnd time: 4131) 420.204.\n",
      "\n",
      "\n",
      "Error in making bite windows. Expected length: 90, actual length: 93.\n",
      "Info on window:\t\tStart time: 4131) 420.204\tEnd time: 4224) 429.514.\n",
      "\n",
      "\n",
      "Error in making bite windows. Expected length: 90, actual length: 91.\n",
      "Info on window:\t\tStart time: 4488) 455.922\tEnd time: 4579) 465.052.\n",
      "\n",
      "\n",
      "Error in making bite windows. Expected length: 90, actual length: 117.\n",
      "Info on window:\t\tStart time: 5931) 600.266\tEnd time: 6048) 611.927.\n",
      "\n",
      "\n",
      "Error in making bite windows. Expected length: 90, actual length: 98.\n",
      "Info on window:\t\tStart time: 6048) 611.927\tEnd time: 6146) 621.787.\n",
      "\n",
      "\n",
      "Error in making bite windows. Expected length: 90, actual length: 103.\n",
      "Info on window:\t\tStart time: 7165) 723.64\tEnd time: 7268) 733.972.\n",
      "\n",
      "\n",
      "Error in making bite windows. Expected length: 90, actual length: 144.\n",
      "Info on window:\t\tStart time: 7692) 776.393\tEnd time: 7836) 790.7230000000001.\n",
      "\n",
      "\n",
      "Error in making bite windows. Expected length: 90, actual length: 174.\n",
      "Info on window:\t\tStart time: 8769) 884.083\tEnd time: 8943) 901.467.\n",
      "\n",
      "\n",
      "Removed 12 bites.\n",
      "Session: 1\n",
      "\n",
      "Error in making bite windows. Expected length: 90, actual length: 108.\n",
      "Info on window:\t\tStart time: 358) 50.277\tEnd time: 466) 61.129.\n",
      "\n",
      "\n",
      "Error in making bite windows. Expected length: 90, actual length: 129.\n",
      "Info on window:\t\tStart time: 560) 70.476\tEnd time: 689) 83.382.\n",
      "\n",
      "\n",
      "Error in making bite windows. Expected length: 90, actual length: 100.\n",
      "Info on window:\t\tStart time: 1278) 142.252\tEnd time: 1378) 152.3.\n",
      "\n",
      "\n",
      "Error in making bite windows. Expected length: 90, actual length: 294.\n",
      "Info on window:\t\tStart time: 2159) 230.445\tEnd time: 2453) 259.81600000000003.\n",
      "\n",
      "\n",
      "Error in making bite windows. Expected length: 90, actual length: 233.\n",
      "Info on window:\t\tStart time: 2688) 283.345\tEnd time: 2921) 306.563.\n",
      "\n",
      "\n",
      "Error in making bite windows. Expected length: 90, actual length: 94.\n",
      "Info on window:\t\tStart time: 3595) 374.026\tEnd time: 3689) 383.428.\n",
      "\n",
      "\n",
      "Error in making bite windows. Expected length: 90, actual length: 130.\n",
      "Info on window:\t\tStart time: 4261) 440.625\tEnd time: 4391) 453.60200000000003.\n",
      "\n",
      "\n",
      "Error in making bite windows. Expected length: 90, actual length: 236.\n",
      "Info on window:\t\tStart time: 4395) 454.017\tEnd time: 4631) 477.63100000000003.\n",
      "\n",
      "\n",
      "Error in making bite windows. Expected length: 90, actual length: 210.\n",
      "Info on window:\t\tStart time: 5100) 524.493\tEnd time: 5310) 545.547.\n",
      "\n",
      "\n",
      "Error in making bite windows. Expected length: 90, actual length: 100.\n",
      "Info on window:\t\tStart time: 5510) 565.456\tEnd time: 5610) 575.548.\n",
      "\n",
      "\n",
      "Error in making bite windows. Expected length: 90, actual length: 99.\n",
      "Info on window:\t\tStart time: 5707) 585.181\tEnd time: 5806) 595.054.\n",
      "\n",
      "\n",
      "Error in making bite windows. Expected length: 90, actual length: 114.\n",
      "Info on window:\t\tStart time: 6012) 615.684\tEnd time: 6126) 627.056.\n",
      "\n",
      "\n",
      "Error in making bite windows. Expected length: 90, actual length: 99.\n",
      "Info on window:\t\tStart time: 6767) 691.24\tEnd time: 6866) 701.095.\n",
      "\n",
      "\n",
      "Error in making bite windows. Expected length: 90, actual length: 134.\n",
      "Info on window:\t\tStart time: 6866) 701.095\tEnd time: 7000) 714.479.\n",
      "\n",
      "\n",
      "Error in making bite windows. Expected length: 90, actual length: 98.\n",
      "Info on window:\t\tStart time: 8825) 897.039\tEnd time: 8923) 906.791.\n",
      "\n",
      "\n",
      "Error in making bite windows. Expected length: 90, actual length: 163.\n",
      "Info on window:\t\tStart time: 9144) 928.929\tEnd time: 9307) 945.201.\n",
      "\n",
      "\n",
      "Error in making bite windows. Expected length: 90, actual length: 95.\n",
      "Info on window:\t\tStart time: 10066) 1021.092\tEnd time: 10161) 1030.555.\n",
      "\n",
      "\n",
      "Removed 29 bites.\n",
      "Session: 2\n",
      "\n",
      "Session: 3\n",
      "\n",
      "Session: 4\n",
      "\n",
      "Error in making bite windows. Expected length: 90, actual length: 94.\n",
      "Info on window:\t\tStart time: 404) 50.234\tEnd time: 498) 59.624.\n",
      "\n",
      "\n",
      "Error in making bite windows. Expected length: 90, actual length: 134.\n",
      "Info on window:\t\tStart time: 1889) 198.728\tEnd time: 2023) 212.125.\n",
      "\n",
      "\n",
      "Error in making bite windows. Expected length: 90, actual length: 129.\n",
      "Info on window:\t\tStart time: 2049) 214.762\tEnd time: 2178) 227.685.\n",
      "\n",
      "\n",
      "Error in making bite windows. Expected length: 90, actual length: 102.\n",
      "Info on window:\t\tStart time: 2260) 235.869\tEnd time: 2362) 246.095.\n",
      "\n",
      "\n",
      "Error in making bite windows. Expected length: 90, actual length: 93.\n",
      "Info on window:\t\tStart time: 2370) 246.854\tEnd time: 2463) 256.2.\n",
      "\n",
      "\n",
      "Error in making bite windows. Expected length: 90, actual length: 91.\n",
      "Info on window:\t\tStart time: 2463) 256.2\tEnd time: 2554) 265.295.\n",
      "\n",
      "\n",
      "Error in making bite windows. Expected length: 90, actual length: 257.\n",
      "Info on window:\t\tStart time: 2783) 288.199\tEnd time: 3040) 313.84000000000003.\n",
      "\n",
      "\n",
      "Error in making bite windows. Expected length: 90, actual length: 133.\n",
      "Info on window:\t\tStart time: 3040) 313.84000000000003\tEnd time: 3173) 327.198.\n",
      "\n",
      "\n",
      "Error in making bite windows. Expected length: 90, actual length: 109.\n",
      "Info on window:\t\tStart time: 3551) 364.955\tEnd time: 3660) 375.907.\n",
      "\n",
      "\n",
      "Error in making bite windows. Expected length: 90, actual length: 137.\n",
      "Info on window:\t\tStart time: 4045) 414.334\tEnd time: 4182) 428.094.\n",
      "\n",
      "\n",
      "Error in making bite windows. Expected length: 90, actual length: 112.\n",
      "Info on window:\t\tStart time: 6607) 670.5980000000001\tEnd time: 6719) 681.748.\n",
      "\n",
      "\n",
      "Error in making bite windows. Expected length: 90, actual length: 153.\n",
      "Info on window:\t\tStart time: 6881) 697.962\tEnd time: 7034) 713.216.\n",
      "\n",
      "\n",
      "Error in making bite windows. Expected length: 90, actual length: 143.\n",
      "Info on window:\t\tStart time: 7647) 774.595\tEnd time: 7790) 788.837.\n",
      "\n",
      "\n",
      "Error in making bite windows. Expected length: 90, actual length: 107.\n",
      "Info on window:\t\tStart time: 8507) 860.566\tEnd time: 8614) 871.274.\n",
      "\n",
      "\n",
      "Error in making bite windows. Expected length: 90, actual length: 138.\n",
      "Info on window:\t\tStart time: 8749) 884.721\tEnd time: 8887) 898.585.\n",
      "\n",
      "\n",
      "Removed 44 bites.\n",
      "Session: 5\n",
      "\n",
      "Error in making bite windows. Expected length: 90, actual length: 135.\n",
      "Info on window:\t\tStart time: 891) 94.194\tEnd time: 1026) 107.73100000000001.\n",
      "\n",
      "\n",
      "Error in making bite windows. Expected length: 90, actual length: 93.\n",
      "Info on window:\t\tStart time: 1784) 183.5\tEnd time: 1877) 192.793.\n",
      "\n",
      "\n",
      "Error in making bite windows. Expected length: 90, actual length: 93.\n",
      "Info on window:\t\tStart time: 3734) 378.528\tEnd time: 3827) 387.754.\n",
      "\n",
      "\n",
      "Error in making bite windows. Expected length: 90, actual length: 136.\n",
      "Info on window:\t\tStart time: 6282) 633.267\tEnd time: 6418) 646.913.\n",
      "\n",
      "\n",
      "Removed 48 bites.\n",
      "Session: 6\n",
      "\n",
      "Error in making bite windows. Expected length: 90, actual length: 96.\n",
      "Info on window:\t\tStart time: 487) 66.938\tEnd time: 583) 76.586.\n",
      "\n",
      "\n",
      "Removed 49 bites.\n",
      "Session: 7\n",
      "\n",
      "Error in making bite windows. Expected length: 90, actual length: 95.\n",
      "Info on window:\t\tStart time: 5006) 511.91200000000003\tEnd time: 5101) 521.405.\n",
      "\n",
      "\n",
      "Error in making bite windows. Expected length: 90, actual length: 109.\n",
      "Info on window:\t\tStart time: 5130) 524.2760000000001\tEnd time: 5239) 535.232.\n",
      "\n",
      "\n",
      "Error in making bite windows. Expected length: 90, actual length: 103.\n",
      "Info on window:\t\tStart time: 5347) 545.979\tEnd time: 5450) 556.307.\n",
      "\n",
      "\n",
      "Removed 52 bites.\n",
      "Session: 8\n",
      "\n",
      "Session: 9\n",
      "\n",
      "Session: 10\n",
      "\n",
      "Error in making bite windows. Expected length: 90, actual length: 96.\n",
      "Info on window:\t\tStart time: 7092) 718.285\tEnd time: 7188) 727.862.\n",
      "\n",
      "\n",
      "Removed 53 bites.\n",
      "Session: 11\n",
      "\n",
      "Session: 12\n",
      "\n",
      "Error in making bite windows. Expected length: 90, actual length: 110.\n",
      "Info on window:\t\tStart time: 458) 48.442\tEnd time: 568) 59.489000000000004.\n",
      "\n",
      "\n",
      "Removed 54 bites.\n",
      "Session: 13\n",
      "\n",
      "Session: 14\n",
      "\n",
      "Error in making bite windows. Expected length: 90, actual length: 120.\n",
      "Info on window:\t\tStart time: 3421) 347.764\tEnd time: 3541) 359.743.\n",
      "\n",
      "\n",
      "Error in making bite windows. Expected length: 90, actual length: 99.\n",
      "Info on window:\t\tStart time: 4024) 408.059\tEnd time: 4123) 418.0.\n",
      "\n",
      "\n",
      "Error in making bite windows. Expected length: 90, actual length: 99.\n",
      "Info on window:\t\tStart time: 7256) 731.264\tEnd time: 7355) 741.141.\n",
      "\n",
      "\n",
      "Removed 57 bites.\n",
      "Session: 15\n",
      "\n",
      "Session: 16\n",
      "\n",
      "Error in making bite windows. Expected length: 90, actual length: 130.\n",
      "Info on window:\t\tStart time: 3984) 416.39\tEnd time: 4114) 429.427.\n",
      "\n",
      "\n",
      "Removed 58 bites.\n",
      "Session: 17\n",
      "\n",
      "Error in making bite windows. Expected length: 90, actual length: 98.\n",
      "Info on window:\t\tStart time: 735) 80.633\tEnd time: 833) 90.357.\n",
      "\n",
      "\n",
      "Error in making bite windows. Expected length: 90, actual length: 94.\n",
      "Info on window:\t\tStart time: 2615) 268.636\tEnd time: 2709) 278.012.\n",
      "\n",
      "\n",
      "Error in making bite windows. Expected length: 90, actual length: 103.\n",
      "Info on window:\t\tStart time: 3368) 343.928\tEnd time: 3471) 354.24.\n",
      "\n",
      "\n",
      "Error in making bite windows. Expected length: 90, actual length: 154.\n",
      "Info on window:\t\tStart time: 3916) 398.69800000000004\tEnd time: 4070) 414.13100000000003.\n",
      "\n",
      "\n",
      "Removed 62 bites.\n",
      "Session: 18\n",
      "\n",
      "Error in making bite windows. Expected length: 90, actual length: 93.\n",
      "Info on window:\t\tStart time: 536) 59.051\tEnd time: 629) 68.295.\n",
      "\n",
      "\n",
      "Error in making bite windows. Expected length: 90, actual length: 110.\n",
      "Info on window:\t\tStart time: 905) 95.907\tEnd time: 1015) 106.917.\n",
      "\n",
      "\n",
      "Error in making bite windows. Expected length: 90, actual length: 102.\n",
      "Info on window:\t\tStart time: 2493) 254.761\tEnd time: 2595) 264.902.\n",
      "\n",
      "\n",
      "Error in making bite windows. Expected length: 90, actual length: 134.\n",
      "Info on window:\t\tStart time: 3047) 310.171\tEnd time: 3181) 323.482.\n",
      "\n",
      "\n",
      "Error in making bite windows. Expected length: 90, actual length: 115.\n",
      "Info on window:\t\tStart time: 3268) 332.181\tEnd time: 3383) 343.737.\n",
      "\n",
      "\n",
      "Removed 67 bites.\n",
      "Session: 19\n",
      "\n",
      "Error in making bite windows. Expected length: 90, actual length: 96.\n",
      "Info on window:\t\tStart time: 1484) 151.343\tEnd time: 1580) 160.988.\n",
      "\n",
      "\n",
      "Error in making bite windows. Expected length: 90, actual length: 112.\n",
      "Info on window:\t\tStart time: 1907) 193.63400000000001\tEnd time: 2019) 204.828.\n",
      "\n",
      "\n",
      "Error in making bite windows. Expected length: 90, actual length: 148.\n",
      "Info on window:\t\tStart time: 3011) 304.045\tEnd time: 3159) 318.83.\n",
      "\n",
      "\n",
      "Error in making bite windows. Expected length: 90, actual length: 113.\n",
      "Info on window:\t\tStart time: 4021) 405.005\tEnd time: 4134) 416.38.\n",
      "\n",
      "\n",
      "Error in making bite windows. Expected length: 90, actual length: 97.\n",
      "Info on window:\t\tStart time: 4686) 471.505\tEnd time: 4783) 481.278.\n",
      "\n",
      "\n",
      "Error in making bite windows. Expected length: 90, actual length: 105.\n",
      "Info on window:\t\tStart time: 4810) 483.983\tEnd time: 4915) 494.444.\n",
      "\n",
      "\n",
      "Error in making bite windows. Expected length: 90, actual length: 201.\n",
      "Info on window:\t\tStart time: 5814) 584.378\tEnd time: 6015) 604.429.\n",
      "\n",
      "\n",
      "Removed 74 bites.\n",
      "Session: 20\n",
      "\n",
      "Error in making bite windows. Expected length: 90, actual length: 102.\n",
      "Info on window:\t\tStart time: 262) 33.306\tEnd time: 364) 43.524.\n",
      "\n",
      "\n",
      "Error in making bite windows. Expected length: 90, actual length: 111.\n",
      "Info on window:\t\tStart time: 364) 43.524\tEnd time: 475) 54.559000000000005.\n",
      "\n",
      "\n",
      "Error in making bite windows. Expected length: 90, actual length: 93.\n",
      "Info on window:\t\tStart time: 1162) 123.33200000000001\tEnd time: 1255) 132.59.\n",
      "\n",
      "\n",
      "Error in making bite windows. Expected length: 90, actual length: 225.\n",
      "Info on window:\t\tStart time: 2048) 211.883\tEnd time: 2273) 234.358.\n",
      "\n",
      "\n",
      "Error in making bite windows. Expected length: 90, actual length: 154.\n",
      "Info on window:\t\tStart time: 2991) 306.224\tEnd time: 3145) 321.588.\n",
      "\n",
      "\n",
      "Error in making bite windows. Expected length: 90, actual length: 109.\n",
      "Info on window:\t\tStart time: 3377) 344.778\tEnd time: 3486) 355.706.\n",
      "\n",
      "\n",
      "Error in making bite windows. Expected length: 90, actual length: 144.\n",
      "Info on window:\t\tStart time: 3553) 362.39300000000003\tEnd time: 3697) 376.836.\n",
      "\n",
      "\n",
      "Error in making bite windows. Expected length: 90, actual length: 115.\n",
      "Info on window:\t\tStart time: 3731) 380.223\tEnd time: 3846) 391.641.\n",
      "\n",
      "\n",
      "Error in making bite windows. Expected length: 90, actual length: 157.\n",
      "Info on window:\t\tStart time: 3901) 397.18\tEnd time: 4058) 412.93.\n",
      "\n",
      "\n",
      "Error in making bite windows. Expected length: 90, actual length: 114.\n",
      "Info on window:\t\tStart time: 4058) 412.93\tEnd time: 4172) 424.252.\n",
      "\n",
      "\n",
      "Error in making bite windows. Expected length: 90, actual length: 92.\n",
      "Info on window:\t\tStart time: 4241) 431.16200000000003\tEnd time: 4333) 440.365.\n",
      "\n",
      "\n",
      "Error in making bite windows. Expected length: 90, actual length: 91.\n",
      "Info on window:\t\tStart time: 4400) 447.082\tEnd time: 4491) 456.149.\n",
      "\n",
      "\n",
      "Error in making bite windows. Expected length: 90, actual length: 104.\n",
      "Info on window:\t\tStart time: 4517) 458.74600000000004\tEnd time: 4621) 469.17900000000003.\n",
      "\n",
      "\n",
      "Error in making bite windows. Expected length: 90, actual length: 138.\n",
      "Info on window:\t\tStart time: 4636) 470.716\tEnd time: 4774) 484.527.\n",
      "\n",
      "\n",
      "Error in making bite windows. Expected length: 90, actual length: 344.\n",
      "Info on window:\t\tStart time: 4787) 485.81\tEnd time: 5131) 520.17.\n",
      "\n",
      "\n",
      "Error in making bite windows. Expected length: 90, actual length: 109.\n",
      "Info on window:\t\tStart time: 5147) 521.808\tEnd time: 5256) 532.716.\n",
      "\n",
      "\n",
      "Error in making bite windows. Expected length: 90, actual length: 178.\n",
      "Info on window:\t\tStart time: 5531) 560.141\tEnd time: 5709) 577.993.\n",
      "\n",
      "\n",
      "Error in making bite windows. Expected length: 90, actual length: 125.\n",
      "Info on window:\t\tStart time: 5755) 582.574\tEnd time: 5880) 595.045.\n",
      "\n",
      "\n",
      "Error in making bite windows. Expected length: 90, actual length: 110.\n",
      "Info on window:\t\tStart time: 5945) 601.575\tEnd time: 6055) 612.6030000000001.\n",
      "\n",
      "\n",
      "Error in making bite windows. Expected length: 90, actual length: 92.\n",
      "Info on window:\t\tStart time: 6061) 613.234\tEnd time: 6153) 622.378.\n",
      "\n",
      "\n",
      "Error in making bite windows. Expected length: 90, actual length: 147.\n",
      "Info on window:\t\tStart time: 6196) 626.726\tEnd time: 6343) 641.38.\n",
      "\n",
      "\n",
      "Error in making bite windows. Expected length: 90, actual length: 142.\n",
      "Info on window:\t\tStart time: 6343) 641.38\tEnd time: 6485) 655.545.\n",
      "\n",
      "\n",
      "Error in making bite windows. Expected length: 90, actual length: 179.\n",
      "Info on window:\t\tStart time: 6564) 663.477\tEnd time: 6743) 681.416.\n",
      "\n",
      "\n",
      "Error in making bite windows. Expected length: 90, actual length: 204.\n",
      "Info on window:\t\tStart time: 7101) 717.167\tEnd time: 7305) 737.581.\n",
      "\n",
      "\n",
      "Error in making bite windows. Expected length: 90, actual length: 105.\n",
      "Info on window:\t\tStart time: 7305) 737.581\tEnd time: 7410) 748.039.\n",
      "\n",
      "\n",
      "Removed 99 bites.\n"
     ]
    }
   ],
   "source": [
    "# OG\n",
    "positive_examples = {}\n",
    "removed_bites = 0\n",
    "for session_id in range(len(bite_gt)):\n",
    "    print(f\"Session: {session_id}\\n\")\n",
    "    positive_examples[session_id], counter = create_positive_example_bites(predictions[session_id+1], bite_gt[session_id])\n",
    "    removed_bites += counter\n",
    "    if counter > 0:\n",
    "        print(f\"Removed {removed_bites} bites.\")"
   ],
   "metadata": {
    "collapsed": false,
    "ExecuteTime": {
     "end_time": "2024-02-08T18:51:20.889714Z",
     "start_time": "2024-02-08T18:51:20.867944Z"
    }
   },
   "id": "616709cef26860df"
  },
  {
   "cell_type": "code",
   "execution_count": 43,
   "outputs": [
    {
     "name": "stdout",
     "output_type": "stream",
     "text": [
      "1233\n"
     ]
    }
   ],
   "source": [
    "counter = 0\n",
    "for i in range(21):\n",
    "    counter = counter+len(positive_examples[i])\n",
    "print(counter)"
   ],
   "metadata": {
    "collapsed": false,
    "ExecuteTime": {
     "end_time": "2024-02-08T18:51:23.052728Z",
     "start_time": "2024-02-08T18:51:23.048132Z"
    }
   },
   "id": "48f16c407e1bdc90"
  },
  {
   "cell_type": "code",
   "execution_count": null,
   "outputs": [],
   "source": [],
   "metadata": {
    "collapsed": false
   },
   "id": "e7466933846d52d7"
  },
  {
   "cell_type": "code",
   "execution_count": null,
   "outputs": [],
   "source": [],
   "metadata": {
    "collapsed": false
   },
   "id": "f47d9dc2a4c586a2"
  },
  {
   "cell_type": "markdown",
   "source": [
    "**Create negative example bites**"
   ],
   "metadata": {
    "collapsed": false
   },
   "id": "c0233b045df445a8"
  },
  {
   "cell_type": "code",
   "execution_count": 2,
   "outputs": [],
   "source": [],
   "metadata": {
    "collapsed": false,
    "ExecuteTime": {
     "end_time": "2024-02-08T17:40:35.801649Z",
     "start_time": "2024-02-08T17:40:35.785550Z"
    }
   },
   "id": "3dc850bd5d92bf92"
  },
  {
   "cell_type": "code",
   "execution_count": null,
   "outputs": [],
   "source": [],
   "metadata": {
    "collapsed": false
   },
   "id": "e9303178a46e55f3"
  },
  {
   "cell_type": "code",
   "execution_count": null,
   "outputs": [],
   "source": [],
   "metadata": {
    "collapsed": false
   },
   "id": "a22605d976964b96"
  },
  {
   "cell_type": "code",
   "execution_count": 3,
   "outputs": [
    {
     "name": "stdout",
     "output_type": "stream",
     "text": [
      "Session: 0\n",
      "\n",
      "Session: 1\n",
      "\n",
      "Session: 2\n",
      "\n",
      "Session: 3\n",
      "\n",
      "Session: 4\n",
      "\n",
      "Session: 5\n",
      "\n",
      "Session: 6\n",
      "\n",
      "Session: 7\n",
      "\n",
      "Session: 8\n",
      "\n",
      "Session: 9\n",
      "\n",
      "Session: 10\n",
      "\n",
      "Session: 11\n",
      "\n",
      "Session: 12\n",
      "\n",
      "Session: 13\n",
      "\n",
      "Session: 14\n",
      "\n",
      "Session: 15\n",
      "\n",
      "Session: 16\n",
      "\n",
      "Session: 17\n",
      "\n",
      "Session: 18\n",
      "\n",
      "Session: 19\n",
      "\n",
      "Session: 20\n"
     ]
    }
   ],
   "source": [
    "negative_examples = {}\n",
    "for session_id in range(len(bite_gt)):\n",
    "    print(f\"Session: {session_id}\\n\")\n",
    "    negative_examples[session_id] = create_negative_example_bites(predictions[session_id+1], bite_gt[session_id])"
   ],
   "metadata": {
    "collapsed": false,
    "ExecuteTime": {
     "end_time": "2024-02-08T17:43:47.862748Z",
     "start_time": "2024-02-08T17:43:47.611778Z"
    }
   },
   "id": "9f670dbb6ce4dc98"
  },
  {
   "cell_type": "code",
   "execution_count": 40,
   "outputs": [
    {
     "name": "stdout",
     "output_type": "stream",
     "text": [
      "41222\n"
     ]
    }
   ],
   "source": [
    "counter = 0\n",
    "for i in range(21):\n",
    "    counter = counter+len(negative_examples[i])\n",
    "print(counter)"
   ],
   "metadata": {
    "collapsed": false,
    "ExecuteTime": {
     "end_time": "2024-02-08T18:51:01.050147Z",
     "start_time": "2024-02-08T18:51:01.038546Z"
    }
   },
   "id": "660b8ba5b45956e6"
  },
  {
   "cell_type": "code",
   "execution_count": 27,
   "outputs": [],
   "source": [
    "timestamps = [window[0][0, 5] for window in negative_examples[0]]"
   ],
   "metadata": {
    "collapsed": false,
    "ExecuteTime": {
     "end_time": "2024-02-08T17:55:35.753389Z",
     "start_time": "2024-02-08T17:55:35.742605Z"
    }
   },
   "id": "bb2725b9dcad541e"
  },
  {
   "cell_type": "markdown",
   "source": [
    "note: 114, 115 are all zeroes with label = 0. Why not just skip? investigate."
   ],
   "metadata": {
    "collapsed": false
   },
   "id": "f20b6e3e36636f84"
  },
  {
   "cell_type": "code",
   "execution_count": 38,
   "outputs": [
    {
     "data": {
      "text/plain": "array([[0., 0., 0., 0., 0., 0.],\n       [0., 0., 0., 0., 0., 0.],\n       [0., 0., 0., 0., 0., 0.],\n       [0., 0., 0., 0., 0., 0.],\n       [0., 0., 0., 0., 0., 0.],\n       [0., 0., 0., 0., 0., 0.],\n       [0., 0., 0., 0., 0., 0.],\n       [0., 0., 0., 0., 0., 0.],\n       [0., 0., 0., 0., 0., 0.],\n       [0., 0., 0., 0., 0., 0.],\n       [0., 0., 0., 0., 0., 0.],\n       [0., 0., 0., 0., 0., 0.],\n       [0., 0., 0., 0., 0., 0.],\n       [0., 0., 0., 0., 0., 0.],\n       [0., 0., 0., 0., 0., 0.],\n       [0., 0., 0., 0., 0., 0.],\n       [0., 0., 0., 0., 0., 0.],\n       [0., 0., 0., 0., 0., 0.],\n       [0., 0., 0., 0., 0., 0.],\n       [0., 0., 0., 0., 0., 0.],\n       [0., 0., 0., 0., 0., 0.],\n       [0., 0., 0., 0., 0., 0.],\n       [0., 0., 0., 0., 0., 0.],\n       [0., 0., 0., 0., 0., 0.],\n       [0., 0., 0., 0., 0., 0.],\n       [0., 0., 0., 0., 0., 0.],\n       [0., 0., 0., 0., 0., 0.],\n       [0., 0., 0., 0., 0., 0.],\n       [0., 0., 0., 0., 0., 0.],\n       [0., 0., 0., 0., 0., 0.],\n       [0., 0., 0., 0., 0., 0.],\n       [0., 0., 0., 0., 0., 0.],\n       [0., 0., 0., 0., 0., 0.],\n       [0., 0., 0., 0., 0., 0.],\n       [0., 0., 0., 0., 0., 0.],\n       [0., 0., 0., 0., 0., 0.],\n       [0., 0., 0., 0., 0., 0.],\n       [0., 0., 0., 0., 0., 0.],\n       [0., 0., 0., 0., 0., 0.],\n       [0., 0., 0., 0., 0., 0.],\n       [0., 0., 0., 0., 0., 0.],\n       [0., 0., 0., 0., 0., 0.],\n       [0., 0., 0., 0., 0., 0.],\n       [0., 0., 0., 0., 0., 0.],\n       [0., 0., 0., 0., 0., 0.],\n       [0., 0., 0., 0., 0., 0.],\n       [0., 0., 0., 0., 0., 0.],\n       [0., 0., 0., 0., 0., 0.],\n       [0., 0., 0., 0., 0., 0.],\n       [0., 0., 0., 0., 0., 0.],\n       [0., 0., 0., 0., 0., 0.],\n       [0., 0., 0., 0., 0., 0.],\n       [0., 0., 0., 0., 0., 0.],\n       [0., 0., 0., 0., 0., 0.],\n       [0., 0., 0., 0., 0., 0.],\n       [0., 0., 0., 0., 0., 0.],\n       [0., 0., 0., 0., 0., 0.],\n       [0., 0., 0., 0., 0., 0.],\n       [0., 0., 0., 0., 0., 0.],\n       [0., 0., 0., 0., 0., 0.],\n       [0., 0., 0., 0., 0., 0.],\n       [0., 0., 0., 0., 0., 0.],\n       [0., 0., 0., 0., 0., 0.],\n       [0., 0., 0., 0., 0., 0.],\n       [0., 0., 0., 0., 0., 0.],\n       [0., 0., 0., 0., 0., 0.],\n       [0., 0., 0., 0., 0., 0.],\n       [0., 0., 0., 0., 0., 0.],\n       [0., 0., 0., 0., 0., 0.],\n       [0., 0., 0., 0., 0., 0.],\n       [0., 0., 0., 0., 0., 0.],\n       [0., 0., 0., 0., 0., 0.],\n       [0., 0., 0., 0., 0., 0.],\n       [0., 0., 0., 0., 0., 0.],\n       [0., 0., 0., 0., 0., 0.],\n       [0., 0., 0., 0., 0., 0.],\n       [0., 0., 0., 0., 0., 0.],\n       [0., 0., 0., 0., 0., 0.],\n       [0., 0., 0., 0., 0., 0.],\n       [0., 0., 0., 0., 0., 0.],\n       [0., 0., 0., 0., 0., 0.],\n       [0., 0., 0., 0., 0., 0.],\n       [0., 0., 0., 0., 0., 0.],\n       [0., 0., 0., 0., 0., 0.],\n       [0., 0., 0., 0., 0., 0.],\n       [0., 0., 0., 0., 0., 0.],\n       [0., 0., 0., 0., 0., 0.],\n       [0., 0., 0., 0., 0., 0.],\n       [0., 0., 0., 0., 0., 0.],\n       [0., 0., 0., 0., 0., 0.]])"
     },
     "execution_count": 38,
     "metadata": {},
     "output_type": "execute_result"
    }
   ],
   "source": [
    "negative_examples[0][2715][0]"
   ],
   "metadata": {
    "collapsed": false,
    "ExecuteTime": {
     "end_time": "2024-02-08T18:48:40.905526Z",
     "start_time": "2024-02-08T18:48:40.891520Z"
    }
   },
   "id": "79cc20fc94b315e1"
  },
  {
   "cell_type": "code",
   "execution_count": 28,
   "outputs": [
    {
     "data": {
      "text/plain": "array([   7.195,    7.295,    7.395, ..., 1143.895, 1143.995, 1144.095])"
     },
     "execution_count": 28,
     "metadata": {},
     "output_type": "execute_result"
    }
   ],
   "source": [
    "np.array(timestamps)"
   ],
   "metadata": {
    "collapsed": false,
    "ExecuteTime": {
     "end_time": "2024-02-08T17:55:36.315724Z",
     "start_time": "2024-02-08T17:55:36.313576Z"
    }
   },
   "id": "62d5e3e6826216ce"
  },
  {
   "cell_type": "code",
   "execution_count": 7,
   "outputs": [
    {
     "data": {
      "text/plain": "array([[  27.462,   29.88 ],\n       [  29.88 ,   32.459],\n       [  32.459,   35.019],\n       [  36.069,   38.906],\n       [  38.906,   41.659],\n       [  41.659,   44.427],\n       [  44.427,   47.626],\n       [  47.626,   55.807],\n       [  55.807,   58.776],\n       [  58.776,   61.746],\n       [  69.102,   72.475],\n       [  83.216,   85.501],\n       [  85.501,   88.355],\n       [  91.875,   95.295],\n       [  95.295,   99.014],\n       [  99.014,  102.086],\n       [ 106.307,  110.011],\n       [ 151.219,  153.938],\n       [ 153.938,  158.275],\n       [ 158.275,  160.444],\n       [ 161.729,  163.612],\n       [ 163.612,  165.462],\n       [ 165.462,  167.151],\n       [ 179.58 ,  183.149],\n       [ 188.856,  202.052],\n       [ 231.499,  239.206],\n       [ 239.206,  248.299],\n       [ 267.422,  277.677],\n       [ 300.384,  341.574],\n       [ 360.412,  366.788],\n       [ 366.788,  368.919],\n       [ 383.402,  388.405],\n       [ 389.452,  396.031],\n       [ 397.263,  402.302],\n       [ 407.774,  420.204],\n       [ 420.204,  429.514],\n       [ 455.922,  465.052],\n       [ 467.601,  476.344],\n       [ 478.161,  487.091],\n       [ 488.688,  490.706],\n       [ 490.706,  492.308],\n       [ 492.308,  495.662],\n       [ 500.817,  502.64 ],\n       [ 502.869,  509.644],\n       [ 535.609,  543.377],\n       [ 547.564,  556.157],\n       [ 557.841,  566.4  ],\n       [ 571.254,  573.306],\n       [ 573.306,  577.928],\n       [ 579.78 ,  581.432],\n       [ 581.432,  588.154],\n       [ 600.266,  611.927],\n       [ 611.927,  621.787],\n       [ 624.491,  625.792],\n       [ 625.792,  628.928],\n       [ 630.746,  635.952],\n       [ 659.742,  661.695],\n       [ 661.695,  667.218],\n       [ 667.218,  673.508],\n       [ 673.508,  678.229],\n       [ 678.928,  687.926],\n       [ 719.536,  723.64 ],\n       [ 723.64 ,  733.972],\n       [ 769.719,  774.168],\n       [ 774.774,  776.393],\n       [ 776.393,  790.723],\n       [ 790.723,  792.993],\n       [ 809.032,  814.547],\n       [ 819.903,  822.021],\n       [ 823.857,  827.193],\n       [ 827.193,  829.044],\n       [ 829.044,  832.114],\n       [ 832.966,  836.502],\n       [ 836.502,  838.389],\n       [ 876.143,  879.696],\n       [ 879.696,  884.083],\n       [ 884.083,  901.467],\n       [ 901.467,  903.987],\n       [ 903.987,  908.14 ],\n       [ 909.592,  911.544],\n       [ 911.544,  913.913],\n       [ 913.913,  916.299],\n       [ 916.299,  921.008],\n       [ 932.317,  933.984],\n       [ 933.984,  938.137],\n       [ 939.66 ,  942.276],\n       [ 942.276,  945.963],\n       [ 945.963,  951.818],\n       [ 968.367,  971.588],\n       [ 971.588,  974.089],\n       [ 974.089,  975.858],\n       [ 975.858,  978.963],\n       [ 993.926,  996.929],\n       [ 997.98 , 1001.   ],\n       [1001.   , 1004.504],\n       [1005.22 , 1008.173],\n       [1008.876, 1010.776],\n       [1010.776, 1013.527],\n       [1026.859, 1031.447],\n       [1033.682, 1036.085],\n       [1039.64 , 1041.207],\n       [1041.207, 1043.446],\n       [1043.446, 1047.297],\n       [1053.003, 1055.088]])"
     },
     "execution_count": 7,
     "metadata": {},
     "output_type": "execute_result"
    }
   ],
   "source": [
    "bite_gt[0]"
   ],
   "metadata": {
    "collapsed": false,
    "ExecuteTime": {
     "end_time": "2024-02-08T17:44:17.514094Z",
     "start_time": "2024-02-08T17:44:17.497929Z"
    }
   },
   "id": "675c84918251bf91"
  },
  {
   "cell_type": "code",
   "execution_count": null,
   "outputs": [],
   "source": [],
   "metadata": {
    "collapsed": false
   },
   "id": "d96438588c480a25"
  },
  {
   "cell_type": "markdown",
   "source": [
    "**Testing**"
   ],
   "metadata": {
    "collapsed": false
   },
   "id": "3c2d1a82c2ff41bb"
  },
  {
   "cell_type": "code",
   "execution_count": null,
   "outputs": [],
   "source": [],
   "metadata": {
    "collapsed": false
   },
   "id": "9beb97fff8bae332"
  },
  {
   "cell_type": "code",
   "execution_count": null,
   "outputs": [],
   "source": [],
   "metadata": {
    "collapsed": false
   },
   "id": "342146e8fa19ed3b"
  },
  {
   "cell_type": "code",
   "execution_count": null,
   "outputs": [],
   "source": [],
   "metadata": {
    "collapsed": false
   },
   "id": "cba5ea080336378f"
  },
  {
   "cell_type": "code",
   "execution_count": null,
   "outputs": [],
   "source": [
    "for i in range(0,21):\n",
    "    print(f\"True bite length: {len(bite_gt[i])}\\tCalculated bite length: {len(positive_examples[i])}\")"
   ],
   "metadata": {
    "collapsed": false
   },
   "id": "871b244547717248"
  },
  {
   "cell_type": "code",
   "execution_count": null,
   "outputs": [],
   "source": [
    "true_bites_left_21 = [(bite[1]-bite[0]) for bite in bite_gt[20] if bite[1]- bite[0] <= 9]"
   ],
   "metadata": {
    "collapsed": false
   },
   "id": "57bcfd4cab515f88"
  },
  {
   "cell_type": "code",
   "execution_count": null,
   "outputs": [],
   "source": [
    "# Sessioned bite lengths\n",
    "bites_per_session = {}\n",
    "session_id = 0\n",
    "for session in bite_gt:\n",
    "    bite_lengths = []  # Initialize list to store bite lengths for the current meal\n",
    "    for bite in session:\n",
    "        bite_lengths.append(bite[1] - bite[0])\n",
    "    bites_per_session[session_id] = bite_lengths  # Use meal ID as key\n",
    "    session_id += 1  # Increment meal ID for the next meal"
   ],
   "metadata": {
    "collapsed": false
   },
   "id": "af216c3ec57553ae"
  },
  {
   "cell_type": "code",
   "execution_count": null,
   "outputs": [],
   "source": [
    "true_bites_per_session_less_than_9 = {}\n",
    "for session_id, bite_length in bites_per_session.items():\n",
    "    counter = sum([1 for bite in bite_length if bite <= 9])\n",
    "    true_bites_per_session_less_than_9[session_id] = counter"
   ],
   "metadata": {
    "collapsed": false
   },
   "id": "adf1b5e9f968d115"
  },
  {
   "cell_type": "code",
   "execution_count": null,
   "outputs": [],
   "source": [
    "calculated_bites_per_session_less_than_9 = {}\n",
    "for session_id, windows in positive_examples.items():\n",
    "    calculated_bites_per_session_less_than_9[session_id] = len(windows)"
   ],
   "metadata": {
    "collapsed": false
   },
   "id": "1cb0d96c64bc506f"
  },
  {
   "cell_type": "code",
   "execution_count": null,
   "outputs": [],
   "source": [
    "bites_comparison = []\n",
    "\n",
    "# Iterate through the session IDs in the true bites per session dictionary\n",
    "for session_id, true_count in true_bites_per_session_less_than_9.items():\n",
    "    calculated_count = calculated_bites_per_session_less_than_9.get(session_id, 0)\n",
    "    # Append session ID, true count, and calculated count to the session data list\n",
    "    bites_comparison.append([session_id, true_count, calculated_count])\n",
    "\n",
    "# Convert the session data list into a NumPy array\n",
    "bites_comparison = np.array(bites_comparison)"
   ],
   "metadata": {
    "collapsed": false
   },
   "id": "be1442439f151a09"
  },
  {
   "cell_type": "code",
   "execution_count": null,
   "outputs": [],
   "source": [
    "positive_examples[17][23][0]"
   ],
   "metadata": {
    "collapsed": false
   },
   "id": "c160ba946bef7895"
  },
  {
   "cell_type": "code",
   "execution_count": null,
   "outputs": [],
   "source": [
    "np.vstack((bite_gt[17].T,[bite[1] - bite[0] for bite in bite_gt[17]])).T"
   ],
   "metadata": {
    "collapsed": false
   },
   "id": "ab3cb56a46ecead6"
  },
  {
   "cell_type": "code",
   "execution_count": null,
   "outputs": [],
   "source": [],
   "metadata": {
    "collapsed": false
   },
   "id": "660430fe2edf8b0c"
  }
 ],
 "metadata": {
  "kernelspec": {
   "display_name": "Python 3",
   "language": "python",
   "name": "python3"
  },
  "language_info": {
   "codemirror_mode": {
    "name": "ipython",
    "version": 2
   },
   "file_extension": ".py",
   "mimetype": "text/x-python",
   "name": "python",
   "nbconvert_exporter": "python",
   "pygments_lexer": "ipython2",
   "version": "2.7.6"
  }
 },
 "nbformat": 4,
 "nbformat_minor": 5
}
