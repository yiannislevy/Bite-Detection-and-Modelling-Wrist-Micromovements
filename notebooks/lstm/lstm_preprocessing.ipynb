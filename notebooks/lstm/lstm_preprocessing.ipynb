{
 "cells": [
  {
   "cell_type": "code",
   "execution_count": null,
   "outputs": [],
   "source": [
    "import pickle\n",
    "import json\n",
    "import numpy as np\n",
    "import pickle as pkl\n",
    "import os\n",
    "from src.utils.data_transform import *\n",
    "from src.utils.data_io import *\n",
    "import importlib\n",
    "from src.cnn.cnn_steps import *\n",
    "# from src.utils.preprocessing import *\n",
    "from src.lstm.lstm_steps import *\n",
    "from src.analysis.stats import *\n",
    "from src.lstm.lstm_utils import *"
   ],
   "metadata": {
    "collapsed": false
   },
   "id": "33e9cbea0d27045f"
  },
  {
   "cell_type": "markdown",
   "source": [
    "**Environment data setup**"
   ],
   "metadata": {
    "collapsed": false
   },
   "id": "21857b45c02322a6"
  },
  {
   "cell_type": "code",
   "execution_count": null,
   "outputs": [],
   "source": [],
   "metadata": {
    "collapsed": false
   },
   "id": "2e68451b3ac9a40b"
  },
  {
   "cell_type": "code",
   "execution_count": null,
   "outputs": [],
   "source": [],
   "metadata": {
    "collapsed": false
   },
   "id": "a797ca3768448ff2"
  },
  {
   "cell_type": "code",
   "execution_count": null,
   "outputs": [],
   "source": [],
   "metadata": {
    "collapsed": false
   },
   "id": "661884b2170df20e"
  },
  {
   "cell_type": "code",
   "execution_count": null,
   "outputs": [],
   "source": [
    "with open(\"../../data/dataset-info-json/subject_to_indices.json\", \"r\") as f:\n",
    "    subject_to_indices = json.load(f)\n",
    "subject_to_indices = {int(k): v for k, v in subject_to_indices.items()}\n",
    "\n",
    "predictions_path = \"../../data/cnn_predictions/corrected/complete/timestamped\"\n",
    "predictions = load_cnn_predictions(subject_to_indices, predictions_path)\n",
    "\n",
    "with open(\"../../data/FIC/FIC.pkl\", \"rb\") as f:\n",
    "    fic = pickle.load(f)\n",
    "bite_gt = fic[\"bite_gt\"]"
   ],
   "metadata": {
    "collapsed": false
   },
   "id": "47c6544dd9886d2c"
  },
  {
   "cell_type": "code",
   "execution_count": null,
   "outputs": [],
   "source": [],
   "metadata": {
    "collapsed": false
   },
   "id": "12a5101e25a65f31"
  },
  {
   "cell_type": "code",
   "execution_count": null,
   "outputs": [],
   "source": [],
   "metadata": {
    "collapsed": false
   },
   "id": "91bede72f1464273"
  },
  {
   "cell_type": "code",
   "execution_count": null,
   "outputs": [],
   "source": [],
   "metadata": {
    "collapsed": false
   },
   "id": "141c743d5db91922"
  },
  {
   "cell_type": "markdown",
   "source": [
    "**Extract information on bites**"
   ],
   "metadata": {
    "collapsed": false
   },
   "id": "53b2ae4e5d1f71b5"
  },
  {
   "cell_type": "code",
   "execution_count": null,
   "outputs": [],
   "source": [],
   "metadata": {
    "collapsed": false
   },
   "id": "eeb40986e54c3c6"
  },
  {
   "cell_type": "code",
   "execution_count": null,
   "outputs": [],
   "source": [],
   "metadata": {
    "collapsed": false
   },
   "id": "ac91611ea57fee46"
  },
  {
   "cell_type": "code",
   "execution_count": null,
   "outputs": [],
   "source": [],
   "metadata": {
    "collapsed": false
   },
   "id": "7b292a6df601826b"
  },
  {
   "cell_type": "code",
   "execution_count": null,
   "outputs": [],
   "source": [
    "bite_lengths = []\n",
    "for meal in bite_gt:\n",
    "    for bite in meal:\n",
    "        bite_lengths.append(bite[1] - bite[0])"
   ],
   "metadata": {
    "collapsed": false
   },
   "id": "528a0b637d692e56"
  },
  {
   "cell_type": "code",
   "execution_count": null,
   "outputs": [],
   "source": [
    "bite_lengths = np.array(bite_lengths)"
   ],
   "metadata": {
    "collapsed": false
   },
   "id": "2cb74b126e7c291b"
  },
  {
   "cell_type": "code",
   "execution_count": null,
   "outputs": [],
   "source": [
    "print(f'Average bite length: {np.mean(bite_lengths)}')\n",
    "print(f'Min bite length: {np.min(bite_lengths)}')\n",
    "print(f'Max bite length: {np.max(bite_lengths)}')"
   ],
   "metadata": {
    "collapsed": false
   },
   "id": "81da91e56ca5893c"
  },
  {
   "cell_type": "code",
   "execution_count": null,
   "outputs": [],
   "source": [
    "print(calculate_bite_stats(bite_gt))"
   ],
   "metadata": {
    "collapsed": false
   },
   "id": "8b9729b9e0f869e0"
  },
  {
   "cell_type": "code",
   "execution_count": null,
   "outputs": [],
   "source": [],
   "metadata": {
    "collapsed": false
   },
   "id": "17e83c6cbfa11eeb"
  },
  {
   "cell_type": "code",
   "execution_count": null,
   "outputs": [],
   "source": [],
   "metadata": {
    "collapsed": false
   },
   "id": "211c54e3b06df8b9"
  },
  {
   "cell_type": "code",
   "execution_count": null,
   "outputs": [],
   "source": [],
   "metadata": {
    "collapsed": false
   },
   "id": "7db0b63e48f6b040"
  },
  {
   "cell_type": "markdown",
   "source": [
    "**Create positive example bites**"
   ],
   "metadata": {
    "collapsed": false
   },
   "id": "e74bf02f922d3886"
  },
  {
   "cell_type": "code",
   "execution_count": null,
   "outputs": [],
   "source": [],
   "metadata": {
    "collapsed": false
   },
   "id": "6dbbb46ae2a3b934"
  },
  {
   "cell_type": "code",
   "execution_count": null,
   "outputs": [],
   "source": [],
   "metadata": {
    "collapsed": false
   },
   "id": "edf65d7ad1f31745"
  },
  {
   "cell_type": "code",
   "execution_count": null,
   "outputs": [],
   "source": [],
   "metadata": {
    "collapsed": false
   },
   "id": "b0cd419c8fa32173"
  },
  {
   "cell_type": "code",
   "execution_count": null,
   "outputs": [],
   "source": [
    "positive_examples = {}\n",
    "for session_id in range(len(bite_gt)):\n",
    "    positive_examples[session_id], counter = create_positive_example_bites(predictions[session_id+1], bite_gt[session_id])"
   ],
   "metadata": {
    "collapsed": false
   },
   "id": "616709cef26860df"
  },
  {
   "cell_type": "code",
   "execution_count": null,
   "outputs": [],
   "source": [],
   "metadata": {
    "collapsed": false
   },
   "id": "48f16c407e1bdc90"
  },
  {
   "cell_type": "code",
   "execution_count": null,
   "outputs": [],
   "source": [],
   "metadata": {
    "collapsed": false
   },
   "id": "e7466933846d52d7"
  },
  {
   "cell_type": "code",
   "execution_count": null,
   "outputs": [],
   "source": [],
   "metadata": {
    "collapsed": false
   },
   "id": "f47d9dc2a4c586a2"
  },
  {
   "cell_type": "markdown",
   "source": [
    "**Create negative example bites**"
   ],
   "metadata": {
    "collapsed": false
   },
   "id": "c0233b045df445a8"
  },
  {
   "cell_type": "code",
   "execution_count": null,
   "outputs": [],
   "source": [],
   "metadata": {
    "collapsed": false
   },
   "id": "3dc850bd5d92bf92"
  },
  {
   "cell_type": "code",
   "execution_count": null,
   "outputs": [],
   "source": [],
   "metadata": {
    "collapsed": false
   },
   "id": "e9303178a46e55f3"
  },
  {
   "cell_type": "code",
   "execution_count": null,
   "outputs": [],
   "source": [],
   "metadata": {
    "collapsed": false
   },
   "id": "a22605d976964b96"
  },
  {
   "cell_type": "code",
   "execution_count": null,
   "outputs": [],
   "source": [
    "negative_examples = {}\n",
    "for session_id in range(len(bite_gt)):\n",
    "    negative_examples[session_id] = create_negative_example_bites(predictions[session_id+1], bite_gt[session_id])"
   ],
   "metadata": {
    "collapsed": false
   },
   "id": "9f670dbb6ce4dc98"
  },
  {
   "cell_type": "code",
   "execution_count": null,
   "outputs": [],
   "source": [],
   "metadata": {
    "collapsed": false
   },
   "id": "d96438588c480a25"
  },
  {
   "cell_type": "code",
   "execution_count": null,
   "outputs": [],
   "source": [],
   "metadata": {
    "collapsed": false
   },
   "id": "f8c78985e4b37df7"
  },
  {
   "cell_type": "code",
   "execution_count": null,
   "outputs": [],
   "source": [],
   "metadata": {
    "collapsed": false
   },
   "id": "4c06a9bf56179631"
  },
  {
   "cell_type": "markdown",
   "source": [
    "**Combine and Save both**"
   ],
   "metadata": {
    "collapsed": false
   },
   "id": "a6e3bccea75efde0"
  },
  {
   "cell_type": "code",
   "execution_count": null,
   "outputs": [],
   "source": [],
   "metadata": {
    "collapsed": false
   },
   "id": "2b2c222516e9191e"
  },
  {
   "cell_type": "code",
   "execution_count": null,
   "outputs": [],
   "source": [],
   "metadata": {
    "collapsed": false
   },
   "id": "5d74518d4544dc53"
  },
  {
   "cell_type": "code",
   "execution_count": null,
   "outputs": [],
   "source": [],
   "metadata": {
    "collapsed": false
   },
   "id": "90ea5ca9a889e26f"
  },
  {
   "cell_type": "code",
   "execution_count": null,
   "outputs": [],
   "source": [
    "combined_sessions = {}\n",
    "combined_sessions = combine_and_balance_examples(positive_examples, negative_examples, combined_sessions)\n",
    "combined_sessions = shuffle_examples(combined_sessions)\n",
    "training_data = [combined_sessions[session_id] for session_id in sorted(combined_sessions.keys())]"
   ],
   "metadata": {
    "collapsed": false
   },
   "id": "18d404b9f1e15c31"
  },
  {
   "cell_type": "code",
   "execution_count": null,
   "outputs": [],
   "source": [
    "save_data(training_data, \"../../data/lstm_training_data/\", \"corrected_balanced_training_data\")"
   ],
   "metadata": {
    "collapsed": false
   },
   "id": "393955cb2ae78a3d"
  },
  {
   "cell_type": "code",
   "outputs": [],
   "source": [],
   "metadata": {
    "collapsed": false
   },
   "id": "153c316eb9f743d0"
  },
  {
   "cell_type": "code",
   "execution_count": null,
   "outputs": [],
   "source": [],
   "metadata": {
    "collapsed": false
   },
   "id": "29dd4d7f35ba31cd"
  },
  {
   "cell_type": "code",
   "outputs": [],
   "source": [],
   "metadata": {
    "collapsed": false
   },
   "id": "157e4de30c2ac23b"
  },
  {
   "cell_type": "markdown",
   "source": [
    "**Testing**"
   ],
   "metadata": {
    "collapsed": false
   },
   "id": "3c2d1a82c2ff41bb"
  },
  {
   "cell_type": "code",
   "execution_count": null,
   "outputs": [],
   "source": [],
   "metadata": {
    "collapsed": false
   },
   "id": "9beb97fff8bae332"
  },
  {
   "cell_type": "code",
   "execution_count": null,
   "outputs": [],
   "source": [],
   "metadata": {
    "collapsed": false
   },
   "id": "342146e8fa19ed3b"
  },
  {
   "cell_type": "code",
   "execution_count": null,
   "outputs": [],
   "source": [],
   "metadata": {
    "collapsed": false
   },
   "id": "cba5ea080336378f"
  },
  {
   "cell_type": "code",
   "execution_count": null,
   "outputs": [],
   "source": [
    "for i in range(0,21):\n",
    "    print(f\"True bite length: {len(bite_gt[i])}\\tCalculated bite length: {len(positive_examples[i])}\")"
   ],
   "metadata": {
    "collapsed": false
   },
   "id": "871b244547717248"
  },
  {
   "cell_type": "code",
   "execution_count": null,
   "outputs": [],
   "source": [
    "true_bites_left_21 = [(bite[1]-bite[0]) for bite in bite_gt[20] if bite[1]- bite[0] <= 9]"
   ],
   "metadata": {
    "collapsed": false
   },
   "id": "57bcfd4cab515f88"
  },
  {
   "cell_type": "code",
   "execution_count": null,
   "outputs": [],
   "source": [
    "# Sessioned bite lengths\n",
    "bites_per_session = {}\n",
    "session_id = 0\n",
    "for session in bite_gt:\n",
    "    bite_lengths = []  # Initialize list to store bite lengths for the current meal\n",
    "    for bite in session:\n",
    "        bite_lengths.append(bite[1] - bite[0])\n",
    "    bites_per_session[session_id] = bite_lengths  # Use meal ID as key\n",
    "    session_id += 1  # Increment meal ID for the next meal"
   ],
   "metadata": {
    "collapsed": false
   },
   "id": "af216c3ec57553ae"
  },
  {
   "cell_type": "code",
   "execution_count": null,
   "outputs": [],
   "source": [
    "true_bites_per_session_less_than_9 = {}\n",
    "for session_id, bite_length in bites_per_session.items():\n",
    "    counter = sum([1 for bite in bite_length if bite <= 9])\n",
    "    true_bites_per_session_less_than_9[session_id] = counter"
   ],
   "metadata": {
    "collapsed": false
   },
   "id": "adf1b5e9f968d115"
  },
  {
   "cell_type": "code",
   "execution_count": null,
   "outputs": [],
   "source": [
    "calculated_bites_per_session_less_than_9 = {}\n",
    "for session_id, windows in positive_examples.items():\n",
    "    calculated_bites_per_session_less_than_9[session_id] = len(windows)"
   ],
   "metadata": {
    "collapsed": false
   },
   "id": "1cb0d96c64bc506f"
  },
  {
   "cell_type": "code",
   "execution_count": null,
   "outputs": [],
   "source": [
    "bites_comparison = []\n",
    "\n",
    "# Iterate through the session IDs in the true bites per session dictionary\n",
    "for session_id, true_count in true_bites_per_session_less_than_9.items():\n",
    "    calculated_count = calculated_bites_per_session_less_than_9.get(session_id, 0)\n",
    "    # Append session ID, true count, and calculated count to the session data list\n",
    "    bites_comparison.append([session_id, true_count, calculated_count])\n",
    "\n",
    "# Convert the session data list into a NumPy array\n",
    "bites_comparison = np.array(bites_comparison)"
   ],
   "metadata": {
    "collapsed": false
   },
   "id": "be1442439f151a09"
  },
  {
   "cell_type": "code",
   "execution_count": null,
   "outputs": [],
   "source": [
    "positive_examples[17][23][0]"
   ],
   "metadata": {
    "collapsed": false
   },
   "id": "c160ba946bef7895"
  },
  {
   "cell_type": "code",
   "execution_count": null,
   "outputs": [],
   "source": [
    "np.vstack((bite_gt[17].T,[bite[1] - bite[0] for bite in bite_gt[17]])).T"
   ],
   "metadata": {
    "collapsed": false
   },
   "id": "ab3cb56a46ecead6"
  },
  {
   "cell_type": "code",
   "execution_count": null,
   "outputs": [],
   "source": [],
   "metadata": {
    "collapsed": false
   },
   "id": "660430fe2edf8b0c"
  }
 ],
 "metadata": {
  "kernelspec": {
   "display_name": "Python 3",
   "language": "python",
   "name": "python3"
  },
  "language_info": {
   "codemirror_mode": {
    "name": "ipython",
    "version": 2
   },
   "file_extension": ".py",
   "mimetype": "text/x-python",
   "name": "python",
   "nbconvert_exporter": "python",
   "pygments_lexer": "ipython2",
   "version": "2.7.6"
  }
 },
 "nbformat": 4,
 "nbformat_minor": 5
}
