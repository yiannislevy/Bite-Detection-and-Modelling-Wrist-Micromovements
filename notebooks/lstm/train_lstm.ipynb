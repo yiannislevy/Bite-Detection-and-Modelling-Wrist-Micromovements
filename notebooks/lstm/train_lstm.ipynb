{
 "cells": [
  {
   "cell_type": "code",
   "execution_count": null,
   "id": "initial_id",
   "metadata": {
    "collapsed": true
   },
   "outputs": [],
   "source": [
    "from tensorflow.keras.models import Sequential\n",
    "from tensorflow.keras.layers import LSTM, Dense, Dropout, Masking\n",
    "from tensorflow.keras.optimizers.legacy import RMSprop\n",
    "\n",
    "from sklearn.model_selection import train_test_split\n",
    "from sklearn.metrics import accuracy_score\n",
    "import numpy as np\n",
    "import pickle as pkl\n",
    "from src.utils.data_transform import *\n",
    "import pandas as pd\n",
    "import os \n",
    "import pickle \n",
    "import json\n",
    "from src.utils.data_io import *"
   ]
  },
  {
   "cell_type": "code",
   "execution_count": null,
   "outputs": [],
   "source": [
    "def build_model():    \n",
    "    model = Sequential([\n",
    "        Masking(mask_value=0., input_shape=(90, 5)),  # Masking layer to ignore padded zeros\n",
    "        LSTM(64, activation='tanh', recurrent_activation='hard_sigmoid', return_sequences=True),\n",
    "        LSTM(64, activation='tanh', recurrent_activation='hard_sigmoid'),\n",
    "        Dropout(0.5),\n",
    "        Dense(1, activation='sigmoid')\n",
    "    ])\n",
    "    \n",
    "    # Compile the model\n",
    "    model.compile(optimizer=RMSprop(learning_rate=1e-3), loss='binary_crossentropy', metrics=['accuracy'])\n",
    "    return model"
   ],
   "metadata": {
    "collapsed": false
   },
   "id": "7a116021d3eaefd1"
  },
  {
   "cell_type": "code",
   "execution_count": null,
   "outputs": [],
   "source": [
    "def build_model_2():\n",
    "    model = Sequential([\n",
    "        Masking(mask_value=0., input_shape=(90, 5)),  # Masking layer to ignore padded zeros\n",
    "        LSTM(64, activation='tanh', recurrent_activation='sigmoid', use_bias=True, recurrent_dropout=0, unroll=False, return_sequences=True),\n",
    "        LSTM(64, activation='tanh', recurrent_activation='sigmoid', use_bias=True, recurrent_dropout=0, unroll=False),\n",
    "        Dropout(0.5),\n",
    "        Dense(1, activation='sigmoid')\n",
    "    ])\n",
    "    \n",
    "    # Compile the model\n",
    "    model.compile(optimizer=RMSprop(learning_rate=1e-3), loss='binary_crossentropy', metrics=['accuracy'])\n",
    "    return model"
   ],
   "metadata": {
    "collapsed": false
   },
   "id": "4921d036ddee1458"
  },
  {
   "cell_type": "code",
   "execution_count": null,
   "outputs": [],
   "source": [
    "with open(\"../../data/dataset-info-json/subject_to_indices.json\", \"r\") as f:\n",
    "    subject_to_indices = json.load(f)\n",
    "\n",
    "subject_to_indices = {int(k): v for k, v in subject_to_indices.items()}"
   ],
   "metadata": {
    "collapsed": false
   },
   "id": "a089d1367743ab8a"
  },
  {
   "cell_type": "code",
   "execution_count": null,
   "outputs": [],
   "source": [
    "with open(\"../../data/lstm_training_data/processed/balanced_training_data.pkl\", \"rb\") as f:\n",
    "    data = pickle.load(f)"
   ],
   "metadata": {
    "collapsed": false
   },
   "id": "ad7c95f9b9339663"
  },
  {
   "cell_type": "markdown",
   "source": [
    "**Train in non academic loso**"
   ],
   "metadata": {
    "collapsed": false
   },
   "id": "a744f084f49b6f98"
  },
  {
   "cell_type": "code",
   "execution_count": null,
   "outputs": [],
   "source": [
    "for test_subject in subject_to_indices.keys():\n",
    "    print(f\"Processing test subject {test_subject}...\")\n",
    "    results = []\n",
    "    accuracy = []\n",
    "    loss = []\n",
    "    # Load data for the current LOSO split\n",
    "    training_data, training_labels, testing_data, testing_labels = load_data(test_subject, subject_to_indices, data)\n",
    "    model = build_model_2()\n",
    "    history = model.fit(training_data, training_labels, epochs=6, batch_size=32)\n",
    "    results.append(model.evaluate(testing_data, testing_labels))\n",
    "    accuracy.append(history.history['accuracy'])\n",
    "    loss.append(history.history['loss'])\n",
    "    \n",
    "    model.save(f\"../../models/lstm/EFF_model_{test_subject}.keras\")\n",
    "    \n",
    "    training_info_path = \"../../models/lstm/training_info/\"\n",
    "    os.makedirs(training_info_path, exist_ok=True)\n",
    "    save_data(results, training_info_path, f\"EFFresults_{test_subject}\")\n",
    "    save_data(accuracy, training_info_path, f\"EFFaccuracy_{test_subject}\")\n",
    "    save_data(loss, training_info_path, f\"EFFloss_{test_subject}\")"
   ],
   "metadata": {
    "collapsed": false
   },
   "id": "743e227612880982"
  },
  {
   "cell_type": "markdown",
   "source": [
    "**Tuning with callbacks**"
   ],
   "metadata": {
    "collapsed": false
   },
   "id": "bf46bbfcebea21fc"
  },
  {
   "cell_type": "code",
   "execution_count": null,
   "outputs": [],
   "source": [
    "import os\n",
    "import numpy as np\n",
    "import datetime\n",
    "from tensorflow.keras.callbacks import TensorBoard, ModelCheckpoint\n",
    "from tensorflow.keras.models import load_model\n",
    "\n",
    "subject = 1\n",
    "training_data, training_labels, testing_data, testing_labels = load_prediction_data(subject, subject_to_indices, data)\n",
    "full_data = np.concatenate((training_data, testing_data), axis=0)\n",
    "full_labels = np.concatenate((training_labels, testing_labels), axis=0)\n",
    "\n",
    "model_tune = build_model_2()\n",
    "\n",
    "# Callbacks setup\n",
    "path = \"../../models/lstm/tuning/100/\"\n",
    "log_dir = os.path.join(path, \"logs\", datetime.datetime.now().strftime(\"%Y%m%d-%H%M%S\"))\n",
    "checkpoint_dir = os.path.join(path, \"checkpoints\")\n",
    "os.makedirs(log_dir, exist_ok=True)\n",
    "os.makedirs(checkpoint_dir, exist_ok=True)\n",
    "checkpoint_path = os.path.join(checkpoint_dir, \"cp-{epoch:04d}.ckpt\")\n",
    "\n",
    "tensorboard_callback = TensorBoard(\n",
    "    log_dir=log_dir,\n",
    "    histogram_freq=1,\n",
    "    write_graph=True,\n",
    "    write_images=True,\n",
    "    update_freq='epoch',\n",
    "    profile_batch=2,\n",
    "    embeddings_freq=1,\n",
    ")\n",
    "\n",
    "model_checkpoint_callback = ModelCheckpoint(\n",
    "    filepath=checkpoint_path,\n",
    "    save_weights_only=True,\n",
    "    verbose=1,\n",
    "    save_freq='epoch',\n",
    "    monitor='accuracy',\n",
    "    save_best_only=True,\n",
    "    mode='max'\n",
    ")\n",
    "\n",
    "# Model training with callbacks\n",
    "history_tune = model_tune.fit(\n",
    "    full_data,\n",
    "    full_labels,\n",
    "    epochs=100,\n",
    "    batch_size=32,\n",
    "    callbacks=[tensorboard_callback, model_checkpoint_callback]\n",
    ")\n",
    "\n",
    "model_tune.save(f\"{path}/model_100.keras\")\n",
    "\n",
    "accuracy_tune = history_tune.history[\"accuracy\"]\n",
    "loss_tune = history_tune.history[\"loss\"]\n",
    "\n",
    "save_data(accuracy_tune, f\"{path}/training_info\", \"accuracy_100\")\n",
    "save_data(loss_tune, f\"{path}/training_info\",  \"loss_100\")"
   ],
   "metadata": {
    "collapsed": false
   },
   "id": "9f497cce07074073"
  },
  {
   "cell_type": "markdown",
   "source": [
    "**Load checkpoint weights and save model**"
   ],
   "metadata": {
    "collapsed": false
   },
   "id": "282224469a8a9776"
  },
  {
   "cell_type": "code",
   "execution_count": null,
   "outputs": [],
   "source": [
    "checkpoint_dir = \"../../models/lstm/tuning/100/checkpoints/cp-0093.ckpt\"\n",
    "ckpt_model = build_model_2()\n",
    "ckpt_model.load_weights(checkpoint_dir)\n",
    "ckpt_model.save(f\"{path}/model_93.keras\")"
   ],
   "metadata": {
    "collapsed": false
   },
   "id": "e1de6753647c7d1d"
  },
  {
   "cell_type": "code",
   "execution_count": null,
   "outputs": [],
   "source": [
    "%matplotlib notebook\n",
    "path = \"../../models/lstm/tuning/100/\"\n",
    "\n",
    "plot_metric(accuracy_tune, \"Accuracy\", f\"{path}figs/training_accuracy.svg\")\n",
    "plot_metric(loss_tune, \"Loss\", f\"{path}figs/training_loss.svg\")\n"
   ],
   "metadata": {
    "collapsed": false
   },
   "id": "ebba8958504e19e2"
  }
 ],
 "metadata": {
  "kernelspec": {
   "display_name": "Python 3",
   "language": "python",
   "name": "python3"
  },
  "language_info": {
   "codemirror_mode": {
    "name": "ipython",
    "version": 2
   },
   "file_extension": ".py",
   "mimetype": "text/x-python",
   "name": "python",
   "nbconvert_exporter": "python",
   "pygments_lexer": "ipython2",
   "version": "2.7.6"
  }
 },
 "nbformat": 4,
 "nbformat_minor": 5
}
