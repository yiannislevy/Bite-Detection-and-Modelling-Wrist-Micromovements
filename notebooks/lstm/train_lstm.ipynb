{
 "cells": [
  {
   "cell_type": "code",
   "execution_count": 1,
   "id": "initial_id",
   "metadata": {
    "collapsed": true,
    "ExecuteTime": {
     "end_time": "2024-01-20T20:40:41.201702Z",
     "start_time": "2024-01-20T20:40:38.989459Z"
    }
   },
   "outputs": [],
   "source": [
    "from tensorflow.keras.models import Sequential\n",
    "from tensorflow.keras.layers import Conv1D, MaxPooling1D, Flatten, Dense, Dropout\n",
    "from keras.optimizers import Adam\n",
    "\n",
    "from keras.optimizers.legacy import Adam as LegacyAdam\n",
    "\n",
    "from sklearn.model_selection import train_test_split\n",
    "from sklearn.metrics import accuracy_score\n",
    "import numpy as np\n",
    "import pickle as pkl\n",
    "from src.utils.data_transform import *\n",
    "import pandas as pd\n",
    "import os \n",
    "import pickle \n",
    "import json"
   ]
  },
  {
   "cell_type": "code",
   "execution_count": 2,
   "outputs": [],
   "source": [
    "def binary_cross_entropy_loss(y_true, y_pred):\n",
    "    return -K.sum((y_true * K.log(y_pred)) - ((1 - y_true) * K.log(1 - y_pred)))"
   ],
   "metadata": {
    "collapsed": false,
    "ExecuteTime": {
     "end_time": "2024-01-20T20:40:41.698878Z",
     "start_time": "2024-01-20T20:40:41.695505Z"
    }
   },
   "id": "ebc60506ca9660c0"
  },
  {
   "cell_type": "code",
   "execution_count": null,
   "outputs": [],
   "source": [
    "def build_model():\n",
    "    model = Sequential()\n",
    "    model.add(LSTM(64, input_shape=(35, 5), recurrent_activation='hard_sigmoid', activation='tanh', return_sequences=True))\n",
    "    model.add(LSTM(64, recurrent_activation='hard_sigmoid', activation='tanh'))\n",
    "    model.add(Dense(1, activation='sigmoid'))\n",
    "    model.add(Dropout(0.5))\n",
    "    optimizer = RMSprop(learning_rate=1e-3)\n",
    "    model.compile(loss=binary_cross_entropy_loss, optimizer=optimizer)\n",
    "    \n",
    "    return model\n",
    "\n",
    "# στο training εχω true return sequences\n",
    "# για prediction δε θα εχει true, \n",
    "# ----\n",
    "# @prediction i use time distributed & return sequences true\n",
    "# @training \n",
    "# \n",
    "# μπορω να εκπαιδευσω το end to end (convolution lstm το εκπαιδευω για μπουκιες)\n",
    "# γνωριζω το micromecents 1.\n",
    "# \n",
    "# ----\n",
    "# @training != prediction lstm network\n",
    "# time\n",
    "# \n",
    "# εκπαιδευω με νορμαλ μπουκιες,\n",
    "# \n",
    "# κανω prediciton με 3.5 sliding window\n"
   ],
   "metadata": {
    "collapsed": false
   },
   "id": "6e548b332f55693c"
  },
  {
   "cell_type": "code",
   "execution_count": null,
   "outputs": [],
   "source": [
    "#data loading/splitting etc\n",
    "with open(\"../data/lstm_training_data/x_3.pkl\", \"rb\") as f:\n",
    "    x_train = pickle.load(f)\n",
    "y_train = []"
   ],
   "metadata": {
    "collapsed": false
   },
   "id": "4ae75264644c9830"
  },
  {
   "cell_type": "code",
   "execution_count": null,
   "outputs": [],
   "source": [
    "with open(\"../data/FIC.pkl\", \"rb\") as f:\n",
    "    FIC = pickle.load(f)"
   ],
   "metadata": {
    "collapsed": false
   },
   "id": "1e6b7ba888daf3db"
  },
  {
   "cell_type": "code",
   "execution_count": null,
   "outputs": [],
   "source": [
    "FIC.keys()"
   ],
   "metadata": {
    "collapsed": false
   },
   "id": "cf3f7b73dfe212f9"
  },
  {
   "cell_type": "code",
   "execution_count": null,
   "outputs": [],
   "source": [
    "lstm_label = FIC[\"bite_gt\"]\n",
    "print(lstm_label)"
   ],
   "metadata": {
    "collapsed": false
   },
   "id": "81a14a34b7dfe21"
  },
  {
   "cell_type": "code",
   "execution_count": null,
   "outputs": [],
   "source": [
    "mm_gt = FIC[\"mm_gt\"]"
   ],
   "metadata": {
    "collapsed": false
   },
   "id": "bbbc99b3db7f3a4"
  },
  {
   "cell_type": "code",
   "execution_count": null,
   "outputs": [],
   "source": [
    "len(lstm_label[0])\n",
    "# len(mm_gt[0])"
   ],
   "metadata": {
    "collapsed": false
   },
   "id": "c01bc2e209c3b4dc"
  },
  {
   "cell_type": "code",
   "execution_count": null,
   "outputs": [],
   "source": [
    "model.fit(x_train, y_train, epochs=6, batch_size=32)"
   ],
   "metadata": {
    "collapsed": false
   },
   "id": "49bf992b59601d9f"
  }
 ],
 "metadata": {
  "kernelspec": {
   "display_name": "Python 3",
   "language": "python",
   "name": "python3"
  },
  "language_info": {
   "codemirror_mode": {
    "name": "ipython",
    "version": 2
   },
   "file_extension": ".py",
   "mimetype": "text/x-python",
   "name": "python",
   "nbconvert_exporter": "python",
   "pygments_lexer": "ipython2",
   "version": "2.7.6"
  }
 },
 "nbformat": 4,
 "nbformat_minor": 5
}
