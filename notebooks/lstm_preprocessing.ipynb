{
 "cells": [
  {
   "cell_type": "code",
   "execution_count": null,
   "outputs": [],
   "source": [
    "import numpy as np\n",
    "import pickle as pkl\n",
    "import os\n",
    "from src.utils.data_transform import *\n",
    "from src.utils.data_io import *\n",
    "import importlib\n",
    "from src.utils.cnn_steps import *\n",
    "from src.utils.preprocessing import *\n",
    "from src.utils.lstm_steps import *"
   ],
   "metadata": {
    "collapsed": false
   },
   "id": "33e9cbea0d27045f"
  },
  {
   "cell_type": "code",
   "execution_count": null,
   "outputs": [],
   "source": [
    "with open(\"../data/dataset-info-json/subject_to_indices.json\", \"r\") as f:\n",
    "    subject_to_indices = json.load(f)\n",
    "\n",
    "subject_to_indices = {int(k): v for k, v in subject_to_indices.items()}"
   ],
   "metadata": {
    "collapsed": false
   },
   "id": "661884b2170df20e"
  },
  {
   "cell_type": "code",
   "execution_count": null,
   "outputs": [],
   "source": [
    "predictions_path = \"../data/cnn_predictions/non-majority/timestamped/in_sessions\"\n",
    "bite_gt_path = '../data/bite_gt.pkl'\n",
    "start_time_json_path = '../data/dataset-info-json/signal_start_times.json'"
   ],
   "metadata": {
    "collapsed": false
   },
   "id": "47c6544dd9886d2c"
  },
  {
   "cell_type": "code",
   "execution_count": null,
   "outputs": [],
   "source": [
    "predictions = load_cnn_predictions(subject_to_indices, predictions_path)"
   ],
   "metadata": {
    "collapsed": false
   },
   "id": "12a5101e25a65f31"
  },
  {
   "cell_type": "code",
   "execution_count": null,
   "outputs": [],
   "source": [
    "bite_gt = load_bite_gt_data(bite_gt_path)"
   ],
   "metadata": {
    "collapsed": false
   },
   "id": "90c9712c7ada3bc0"
  },
  {
   "cell_type": "code",
   "execution_count": null,
   "outputs": [],
   "source": [
    "positive_examples = {}\n",
    "for session_id, (prediction, bite_gt_x) in enumerate(zip(predictions.values(), bite_gt), start=1):\n",
    "    positive_examples[session_id] = create_positive_example_bites(prediction, bite_gt_x)"
   ],
   "metadata": {
    "collapsed": false
   },
   "id": "e4dd52b8717fbf76"
  },
  {
   "cell_type": "markdown",
   "source": [
    "Extract information on bites"
   ],
   "metadata": {
    "collapsed": false
   },
   "id": "53b2ae4e5d1f71b5"
  },
  {
   "cell_type": "code",
   "execution_count": null,
   "outputs": [],
   "source": [
    "bite_lengths = []\n",
    "with open('../data/bite_gt.pkl', 'rb') as f:\n",
    "    bite_gt = pkl.load(f)\n",
    "for meal in bite_gt:\n",
    "    for bite in meal:\n",
    "        bite_lengths.append(bite[1] - bite[0])"
   ],
   "metadata": {
    "collapsed": false
   },
   "id": "528a0b637d692e56"
  },
  {
   "cell_type": "code",
   "execution_count": null,
   "outputs": [],
   "source": [
    "bite_lengths = np.array(bite_lengths)"
   ],
   "metadata": {
    "collapsed": false
   },
   "id": "2cb74b126e7c291b"
  },
  {
   "cell_type": "code",
   "execution_count": null,
   "outputs": [],
   "source": [
    "print(f'Average bite length: {np.mean(bite_lengths)}')\n",
    "print(f'Min bite length: {np.min(bite_lengths)}')\n",
    "print(f'Max bite length: {np.max(bite_lengths)}')"
   ],
   "metadata": {
    "collapsed": false
   },
   "id": "81da91e56ca5893c"
  },
  {
   "cell_type": "code",
   "execution_count": null,
   "outputs": [],
   "source": [
    "bite_lengths"
   ],
   "metadata": {
    "collapsed": false
   },
   "id": "70c30a645fd8d1bd"
  },
  {
   "cell_type": "code",
   "execution_count": null,
   "outputs": [],
   "source": [
    "from src.utils.stats import *"
   ],
   "metadata": {
    "collapsed": false
   },
   "id": "497decc2ca24a31a"
  },
  {
   "cell_type": "code",
   "execution_count": null,
   "outputs": [],
   "source": [
    "stats = calculate_bite_stats(bite_gt)"
   ],
   "metadata": {
    "collapsed": false
   },
   "id": "8b9729b9e0f869e0"
  },
  {
   "cell_type": "code",
   "execution_count": null,
   "outputs": [],
   "source": [
    "stats"
   ],
   "metadata": {
    "collapsed": false
   },
   "id": "853d1bfcd91f556"
  },
  {
   "cell_type": "code",
   "execution_count": null,
   "outputs": [],
   "source": [
    "with open('../data/cnn_predictions/predictions_1.pkl', 'rb') as f:\n",
    "    predictions = pkl.load(f)"
   ],
   "metadata": {
    "collapsed": false
   },
   "id": "b6726dc87d08a28f"
  },
  {
   "cell_type": "code",
   "execution_count": null,
   "outputs": [],
   "source": [
    "type(predictions)"
   ],
   "metadata": {
    "collapsed": false
   },
   "id": "d2c91aef41aa268f"
  },
  {
   "cell_type": "code",
   "execution_count": null,
   "outputs": [],
   "source": [
    "predictions[0]"
   ],
   "metadata": {
    "collapsed": false
   },
   "id": "b089007bdefecda9"
  },
  {
   "cell_type": "code",
   "execution_count": null,
   "outputs": [],
   "source": [],
   "metadata": {
    "collapsed": false
   },
   "id": "c93616d184fda5e6"
  }
 ],
 "metadata": {
  "kernelspec": {
   "display_name": "Python 3",
   "language": "python",
   "name": "python3"
  },
  "language_info": {
   "codemirror_mode": {
    "name": "ipython",
    "version": 2
   },
   "file_extension": ".py",
   "mimetype": "text/x-python",
   "name": "python",
   "nbconvert_exporter": "python",
   "pygments_lexer": "ipython2",
   "version": "2.7.6"
  }
 },
 "nbformat": 4,
 "nbformat_minor": 5
}
