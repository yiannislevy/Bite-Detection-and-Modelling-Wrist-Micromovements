{
 "cells": [
  {
   "cell_type": "code",
   "execution_count": 1,
   "outputs": [],
   "source": [
    "import numpy as np\n",
    "import pickle as pkl\n",
    "import os\n",
    "from src.utils.data_transform import *\n",
    "from src.utils.data_io import *\n",
    "import importlib\n",
    "from src.utils.cnn_steps import *\n",
    "from src.utils.preprocessing import *\n",
    "from src.utils.lstm_steps import *"
   ],
   "metadata": {
    "collapsed": false,
    "ExecuteTime": {
     "end_time": "2024-01-21T20:41:55.854811Z",
     "start_time": "2024-01-21T20:41:55.645876Z"
    }
   },
   "id": "33e9cbea0d27045f"
  },
  {
   "cell_type": "code",
   "execution_count": 2,
   "outputs": [],
   "source": [
    "subject = '1'"
   ],
   "metadata": {
    "collapsed": false,
    "ExecuteTime": {
     "end_time": "2024-01-21T20:41:55.879877Z",
     "start_time": "2024-01-21T20:41:55.866075Z"
    }
   },
   "id": "661884b2170df20e"
  },
  {
   "cell_type": "code",
   "execution_count": 3,
   "outputs": [],
   "source": [
    "prediction_path = f'../data/cnn_predictions/predictions_{subject}.pkl'\n",
    "bite_gt_path = '../data/bite_gt.pkl'\n",
    "start_time_json_path = '../data/dataset-info-json/signal_start_times.json'"
   ],
   "metadata": {
    "collapsed": false,
    "ExecuteTime": {
     "end_time": "2024-01-21T20:41:55.921020Z",
     "start_time": "2024-01-21T20:41:55.898548Z"
    }
   },
   "id": "47c6544dd9886d2c"
  },
  {
   "cell_type": "code",
   "execution_count": 4,
   "outputs": [],
   "source": [
    "predictions, bite_gt_x = load_data(prediction_path, bite_gt_path, subject)"
   ],
   "metadata": {
    "collapsed": false,
    "ExecuteTime": {
     "end_time": "2024-01-21T20:41:55.929900Z",
     "start_time": "2024-01-21T20:41:55.921319Z"
    }
   },
   "id": "12a5101e25a65f31"
  },
  {
   "cell_type": "code",
   "execution_count": 5,
   "outputs": [],
   "source": [
    "start_time = load_start_time(start_time_json_path, subject)"
   ],
   "metadata": {
    "collapsed": false,
    "ExecuteTime": {
     "end_time": "2024-01-21T20:41:55.932775Z",
     "start_time": "2024-01-21T20:41:55.931170Z"
    }
   },
   "id": "9c285aa4fbccd85b"
  },
  {
   "cell_type": "code",
   "execution_count": 6,
   "outputs": [],
   "source": [
    "windows, timestamps = create_windows(predictions, start_time)"
   ],
   "metadata": {
    "collapsed": false,
    "ExecuteTime": {
     "end_time": "2024-01-21T20:41:55.943352Z",
     "start_time": "2024-01-21T20:41:55.935054Z"
    }
   },
   "id": "7f6d390af238a05c"
  }
 ],
 "metadata": {
  "kernelspec": {
   "display_name": "Python 3",
   "language": "python",
   "name": "python3"
  },
  "language_info": {
   "codemirror_mode": {
    "name": "ipython",
    "version": 2
   },
   "file_extension": ".py",
   "mimetype": "text/x-python",
   "name": "python",
   "nbconvert_exporter": "python",
   "pygments_lexer": "ipython2",
   "version": "2.7.6"
  }
 },
 "nbformat": 4,
 "nbformat_minor": 5
}
