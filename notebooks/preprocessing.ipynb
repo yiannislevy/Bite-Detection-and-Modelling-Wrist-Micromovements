{
 "cells": [
  {
   "cell_type": "code",
   "execution_count": 1,
   "id": "initial_id",
   "metadata": {
    "collapsed": true,
    "ExecuteTime": {
     "end_time": "2024-01-08T17:01:04.296151Z",
     "start_time": "2024-01-08T17:01:04.240055Z"
    }
   },
   "outputs": [],
   "source": [
    "import numpy as np\n",
    "import pickle as pkl\n",
    "import os\n",
    "from src.utils.data_transform import *\n",
    "from src.utils.data_io import *\n",
    "import importlib\n",
    "from src.utils.steps import *\n",
    "from src.utils.preprocessing import *"
   ]
  },
  {
   "cell_type": "code",
   "execution_count": 2,
   "outputs": [],
   "source": [
    "with open(\"../data/FIC.pkl\", 'rb') as f:\n",
    "    FIC = pkl.load(f)"
   ],
   "metadata": {
    "collapsed": false,
    "ExecuteTime": {
     "end_time": "2024-01-08T17:01:04.957350Z",
     "start_time": "2024-01-08T17:01:04.913276Z"
    }
   },
   "id": "4b7ca4fa8cc23d52"
  },
  {
   "cell_type": "code",
   "execution_count": 3,
   "outputs": [],
   "source": [
    "data = FIC['signals_proc']"
   ],
   "metadata": {
    "collapsed": false,
    "ExecuteTime": {
     "end_time": "2024-01-08T17:01:05.336938Z",
     "start_time": "2024-01-08T17:01:05.334475Z"
    }
   },
   "id": "b6124727fce6ef83"
  },
  {
   "cell_type": "code",
   "execution_count": 4,
   "outputs": [],
   "source": [
    "labels = FIC['mm_gt']"
   ],
   "metadata": {
    "collapsed": false,
    "ExecuteTime": {
     "end_time": "2024-01-08T17:01:05.733356Z",
     "start_time": "2024-01-08T17:01:05.730440Z"
    }
   },
   "id": "ab04eaadd10e595b"
  },
  {
   "cell_type": "code",
   "execution_count": 5,
   "outputs": [],
   "source": [
    "final_data = process_all_sessions(data, labels)"
   ],
   "metadata": {
    "collapsed": false,
    "ExecuteTime": {
     "end_time": "2024-01-08T17:01:18.318364Z",
     "start_time": "2024-01-08T17:01:06.286565Z"
    }
   },
   "id": "55b1269a4655a098"
  },
  {
   "cell_type": "code",
   "execution_count": 7,
   "outputs": [],
   "source": [
    "save_data(final_data, \"../data/processed.nosync/all_final\", \"all_final\")"
   ],
   "metadata": {
    "collapsed": false,
    "ExecuteTime": {
     "end_time": "2024-01-08T17:01:38.465399Z",
     "start_time": "2024-01-08T17:01:38.029695Z"
    }
   },
   "id": "b55ab6d2d02663b7"
  }
 ],
 "metadata": {
  "kernelspec": {
   "display_name": "Python 3",
   "language": "python",
   "name": "python3"
  },
  "language_info": {
   "codemirror_mode": {
    "name": "ipython",
    "version": 2
   },
   "file_extension": ".py",
   "mimetype": "text/x-python",
   "name": "python",
   "nbconvert_exporter": "python",
   "pygments_lexer": "ipython2",
   "version": "2.7.6"
  }
 },
 "nbformat": 4,
 "nbformat_minor": 5
}
