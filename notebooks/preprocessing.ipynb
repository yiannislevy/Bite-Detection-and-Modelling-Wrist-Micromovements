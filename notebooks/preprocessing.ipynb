{
 "cells": [
  {
   "cell_type": "code",
   "execution_count": null,
   "id": "initial_id",
   "metadata": {
    "collapsed": true
   },
   "outputs": [],
   "source": [
    "import numpy as np\n",
    "import pickle as pkl\n",
    "import os\n",
    "from src.utils.data_transform import *\n",
    "from src.utils.data_io import *\n",
    "import importlib\n",
    "from src.utils.steps import *\n",
    "from src.utils.preprocessing import *"
   ]
  },
  {
   "cell_type": "code",
   "execution_count": null,
   "outputs": [],
   "source": [
    "with open(\"../data/FIC.pkl\", 'rb') as f:\n",
    "    FIC = pkl.load(f)"
   ],
   "metadata": {
    "collapsed": false
   },
   "id": "4b7ca4fa8cc23d52"
  },
  {
   "cell_type": "code",
   "execution_count": null,
   "outputs": [],
   "source": [
    "data = FIC['signals_proc']"
   ],
   "metadata": {
    "collapsed": false
   },
   "id": "b6124727fce6ef83"
  },
  {
   "cell_type": "code",
   "execution_count": null,
   "outputs": [],
   "source": [
    "labels = FIC['mm_gt']"
   ],
   "metadata": {
    "collapsed": false
   },
   "id": "ab04eaadd10e595b"
  },
  {
   "cell_type": "code",
   "execution_count": null,
   "outputs": [],
   "source": [
    "final_data = process_all_sessions(data, labels)"
   ],
   "metadata": {
    "collapsed": false
   },
   "id": "55b1269a4655a098"
  },
  {
   "cell_type": "code",
   "execution_count": null,
   "outputs": [],
   "source": [
    "save_data(final_data, \"../data/processed.nosync/all_final\", \"all_final\")"
   ],
   "metadata": {
    "collapsed": false
   },
   "id": "b55ab6d2d02663b7"
  }
 ],
 "metadata": {
  "kernelspec": {
   "display_name": "Python 3",
   "language": "python",
   "name": "python3"
  },
  "language_info": {
   "codemirror_mode": {
    "name": "ipython",
    "version": 2
   },
   "file_extension": ".py",
   "mimetype": "text/x-python",
   "name": "python",
   "nbconvert_exporter": "python",
   "pygments_lexer": "ipython2",
   "version": "2.7.6"
  }
 },
 "nbformat": 4,
 "nbformat_minor": 5
}
