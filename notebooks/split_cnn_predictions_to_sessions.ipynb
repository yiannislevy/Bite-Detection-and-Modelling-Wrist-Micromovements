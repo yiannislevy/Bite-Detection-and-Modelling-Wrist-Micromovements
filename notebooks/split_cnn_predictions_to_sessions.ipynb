{
 "cells": [
  {
   "cell_type": "code",
   "execution_count": null,
   "id": "initial_id",
   "metadata": {
    "collapsed": true
   },
   "outputs": [],
   "source": [
    "import json\n",
    "from src.utils.data_io import save_data\n",
    "from src.utils.utilities import *"
   ]
  },
  {
   "cell_type": "code",
   "execution_count": null,
   "outputs": [],
   "source": [
    "with open(\"../data/dataset-info-json/subject_to_indices.json\", \"r\") as f:\n",
    "    subject_to_indices = json.load(f)\n",
    "\n",
    "subject_to_indices = {int(k): v for k, v in subject_to_indices.items()}"
   ],
   "metadata": {
    "collapsed": false
   },
   "id": "cc0d31b60d30565a"
  },
  {
   "cell_type": "code",
   "execution_count": null,
   "outputs": [],
   "source": [
    "with open(\"../data/dataset-info-json/signal_start_times.json\", \"r\") as f:\n",
    "    session_start_time_and_length = json.load(f)\n",
    "session_length = [value[1] for value in session_start_time_and_length.values()]"
   ],
   "metadata": {
    "collapsed": false
   },
   "id": "ea0a166a400c9a23"
  },
  {
   "cell_type": "code",
   "execution_count": null,
   "outputs": [],
   "source": [
    "path_to_load = \"../data/cnn_predictions/non-majority/un-timestamped/full\"\n",
    "path_to_save = \"../data/cnn_predictions/non-majority/un-timestamped/in_sessions\""
   ],
   "metadata": {
    "collapsed": false
   },
   "id": "5b853073bbc25120"
  },
  {
   "cell_type": "code",
   "execution_count": null,
   "outputs": [],
   "source": [
    "predictions_in_sessions = split_predictions_to_sessions(path_to_load, subject_to_indices, session_length)"
   ],
   "metadata": {
    "collapsed": false
   },
   "id": "df3ada23f70fe92f"
  },
  {
   "cell_type": "code",
   "execution_count": null,
   "outputs": [],
   "source": [
    "counter = 0\n",
    "for subject, sessions in subject_to_indices.items():\n",
    "    for session in sessions:\n",
    "        save_data(predictions_in_sessions[counter], path_to_save, f\"prediction_{subject}_{session}\")\n",
    "        counter += 1"
   ],
   "metadata": {
    "collapsed": false
   },
   "id": "601cd790ab551183"
  }
 ],
 "metadata": {
  "kernelspec": {
   "display_name": "Python 3",
   "language": "python",
   "name": "python3"
  },
  "language_info": {
   "codemirror_mode": {
    "name": "ipython",
    "version": 2
   },
   "file_extension": ".py",
   "mimetype": "text/x-python",
   "name": "python",
   "nbconvert_exporter": "python",
   "pygments_lexer": "ipython2",
   "version": "2.7.6"
  }
 },
 "nbformat": 4,
 "nbformat_minor": 5
}
