{
 "cells": [
  {
   "cell_type": "code",
   "execution_count": null,
   "id": "initial_id",
   "metadata": {
    "collapsed": true
   },
   "outputs": [],
   "source": [
    "from tensorflow.keras.models import Sequential\n",
    "from tensorflow.keras.layers import Conv1D, MaxPooling1D, Flatten, Dense, Dropout\n",
    "from sklearn.model_selection import train_test_split\n",
    "import numpy as np\n",
    "import pickle as pkl\n",
    "from src.utils.data_transform import *\n",
    "import pandas as pd"
   ]
  },
  {
   "cell_type": "code",
   "execution_count": null,
   "outputs": [],
   "source": [
    "def load_data(file_path):\n",
    "    data = pd.read_pickle(file_path)\n",
    "    signal_data = np.array([item[0] for item in data])\n",
    "    label_data = np.array([item[1] for item in data])\n",
    "    return signal_data, label_data"
   ],
   "metadata": {
    "collapsed": false
   },
   "id": "6bf9be48179ef32"
  },
  {
   "cell_type": "code",
   "execution_count": null,
   "outputs": [],
   "source": [
    "def split_data(signal_data, label_data, test_size=0.2):\n",
    "    # Convert to numpy arrays for compatibility with train_test_split\n",
    "    signal_data_np = np.array(signal_data)\n",
    "    label_data_np = np.array(label_data)\n",
    "    # Split data into training and validation sets\n",
    "    return train_test_split(signal_data_np, label_data_np, test_size=test_size, random_state=42)"
   ],
   "metadata": {
    "collapsed": false
   },
   "id": "73b06524751671b"
  },
  {
   "cell_type": "code",
   "execution_count": null,
   "outputs": [],
   "source": [
    "def build_model(input_shape):\n",
    "    model = Sequential()\n",
    "    model.add(Conv1D(filters=64, kernel_size=10, activation='relu', input_shape=input_shape, padding='same'))\n",
    "    model.add(MaxPooling1D(pool_size=2))\n",
    "    model.add(Conv1D(filters=128, kernel_size=10, activation='relu', padding='same'))\n",
    "    model.add(MaxPooling1D(pool_size=2))\n",
    "    model.add(Flatten())\n",
    "    model.add(Dropout(0.5))\n",
    "    model.add(Dense(5, activation='softmax'))  # Assuming 5 classes for the output layer\n",
    "\n",
    "    model.compile(optimizer='adam', loss='categorical_crossentropy', metrics=['accuracy'])\n",
    "    return model"
   ],
   "metadata": {
    "collapsed": false
   },
   "id": "bd23a6c2f6f0f64b"
  },
  {
   "cell_type": "code",
   "execution_count": null,
   "outputs": [],
   "source": [
    "# Load the data\n",
    "file_path = '../data/processed.nosync/all_final/all_final.pkl'  # Replace with your file path\n",
    "signals, labels = load_data(file_path)"
   ],
   "metadata": {
    "collapsed": false
   },
   "id": "b912cf1a257f3be4"
  },
  {
   "cell_type": "code",
   "execution_count": null,
   "outputs": [],
   "source": [
    "X_train, X_val, y_train, y_val = split_data(signals, labels)\n"
   ],
   "metadata": {
    "collapsed": false
   },
   "id": "de36eb68e9bf91ba"
  },
  {
   "cell_type": "code",
   "execution_count": null,
   "outputs": [],
   "source": [
    "# y_train_cat = to_categorical(y_train)\n",
    "# y_val_cat = to_categorical(y_val)"
   ],
   "metadata": {
    "collapsed": false
   },
   "id": "999ed5c4d496c48b"
  },
  {
   "cell_type": "code",
   "execution_count": null,
   "outputs": [],
   "source": [
    "print(f\"X_train shape: {X_train.shape}, y_train shape: {y_train.shape}\")\n",
    "print(f\"X_val shape: {X_val.shape}, y_val shape: {y_val.shape}\")\n"
   ],
   "metadata": {
    "collapsed": false
   },
   "id": "2f2e97fb4cdddf94"
  },
  {
   "cell_type": "code",
   "execution_count": null,
   "outputs": [],
   "source": [
    "model = build_model(input_shape=(20, 6))"
   ],
   "metadata": {
    "collapsed": false
   },
   "id": "a5d1e92826096847"
  },
  {
   "cell_type": "code",
   "execution_count": null,
   "outputs": [],
   "source": [
    "history = model.fit(X_train, y_t4rain, validation_data=(X_val, y_val), epochs=32, batch_size=32)"
   ],
   "metadata": {
    "collapsed": false
   },
   "id": "debbba9f277be78d"
  },
  {
   "cell_type": "code",
   "execution_count": null,
   "outputs": [],
   "source": [
    " "
   ],
   "metadata": {
    "collapsed": false
   },
   "id": "733222424dfd2b2e"
  }
 ],
 "metadata": {
  "kernelspec": {
   "display_name": "Python 3",
   "language": "python",
   "name": "python3"
  },
  "language_info": {
   "codemirror_mode": {
    "name": "ipython",
    "version": 2
   },
   "file_extension": ".py",
   "mimetype": "text/x-python",
   "name": "python",
   "nbconvert_exporter": "python",
   "pygments_lexer": "ipython2",
   "version": "2.7.6"
  }
 },
 "nbformat": 4,
 "nbformat_minor": 5
}
