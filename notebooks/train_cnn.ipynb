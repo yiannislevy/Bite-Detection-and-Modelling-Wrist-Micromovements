{
 "cells": [
  {
   "cell_type": "code",
   "execution_count": 1,
   "id": "initial_id",
   "metadata": {
    "collapsed": true,
    "ExecuteTime": {
     "end_time": "2024-02-02T20:01:05.873530Z",
     "start_time": "2024-02-02T20:01:03.704397Z"
    }
   },
   "outputs": [],
   "source": [
    "from tensorflow.keras.models import Sequential\n",
    "from tensorflow.keras.layers import Conv1D, MaxPooling1D, Flatten, Dense, Dropout\n",
    "from keras.optimizers import Adam\n",
    "\n",
    "from keras.optimizers.legacy import Adam as LegacyAdam\n",
    "\n",
    "from sklearn.model_selection import train_test_split\n",
    "from sklearn.metrics import accuracy_score\n",
    "import numpy as np\n",
    "import pickle as pkl\n",
    "from src.utils.data_transform import *\n",
    "from src.utils.preprocessing import load_split_data\n",
    "import pandas as pd\n",
    "import os \n",
    "import pickle \n",
    "import json\n",
    "from src.utils.data_io import save_data"
   ]
  },
  {
   "cell_type": "code",
   "execution_count": 2,
   "outputs": [],
   "source": [
    "def load_data(test_subject, subject_to_indices):\n",
    "    training_data, testing_data = [], []\n",
    "    training_labels, testing_labels = [], []\n",
    "\n",
    "    # Load data by sessions based on subject_to_indices mapping\n",
    "    for subject, sessions in subject_to_indices.items():\n",
    "        subject_data, subject_labels = [], []\n",
    "        for session_id in sessions:\n",
    "            session_data, session_labels = load_session_data(f\"../data/ProcessedSubjects/MajorityLabel/sessions/full/session_{session_id}.pkl\")\n",
    "            subject_data.append(session_data)\n",
    "            subject_labels.append(session_labels)\n",
    "        \n",
    "        # Aggregate data for each subject\n",
    "        subject_data = np.concatenate(subject_data, axis=0)\n",
    "        subject_labels = np.concatenate(subject_labels, axis=0)\n",
    "        \n",
    "        # Distribute data into training or testing based on subject ID\n",
    "        if str(subject) == str(test_subject):\n",
    "            testing_data.append(subject_data)\n",
    "            testing_labels.append(subject_labels)\n",
    "        else:\n",
    "            training_data.append(subject_data)\n",
    "            training_labels.append(subject_labels)\n",
    "\n",
    "    # Combine all training and testing data and labels\n",
    "    training_data = np.concatenate(training_data, axis=0)\n",
    "    training_labels = np.concatenate(training_labels, axis=0)\n",
    "    testing_data = np.concatenate(testing_data, axis=0)\n",
    "    testing_labels = np.concatenate(testing_labels, axis=0)\n",
    "\n",
    "    return training_data, training_labels, testing_data, testing_labels"
   ],
   "metadata": {
    "collapsed": false,
    "ExecuteTime": {
     "end_time": "2024-02-02T20:01:06.367284Z",
     "start_time": "2024-02-02T20:01:06.363317Z"
    }
   },
   "id": "e6db3b735e7aab70"
  },
  {
   "cell_type": "code",
   "execution_count": 3,
   "outputs": [],
   "source": [
    "def load_session_data(path):\n",
    "    data = pd.read_pickle(path)\n",
    "    signal_data = np.array([item[0] for item in data])\n",
    "    signal_data = signal_data[:, :, 1:]  # Exclude the timestamps column\n",
    "    label_data = np.array([item[1] for item in data])\n",
    "    return signal_data, label_data"
   ],
   "metadata": {
    "collapsed": false,
    "ExecuteTime": {
     "end_time": "2024-02-02T20:01:06.706030Z",
     "start_time": "2024-02-02T20:01:06.690071Z"
    }
   },
   "id": "6bf9be48179ef32"
  },
  {
   "cell_type": "code",
   "execution_count": 4,
   "outputs": [],
   "source": [
    "def build_model(input_shape):\n",
    "    model = Sequential()\n",
    "    model.add(Conv1D(filters=64, kernel_size=10, activation='relu', input_shape=input_shape, padding='same'))\n",
    "    model.add(MaxPooling1D(pool_size=2))\n",
    "    model.add(Conv1D(filters=128, kernel_size=10, activation='relu', padding='same'))\n",
    "    model.add(MaxPooling1D(pool_size=2))\n",
    "    model.add(Flatten())\n",
    "    model.add(Dropout(0.5))\n",
    "    model.add(Dense(5, activation='softmax'))  # Assuming 5 classes for the output layer\n",
    "    # optimizer = Adam(learning_rate=1e-3)\n",
    "    optimizer = LegacyAdam(learning_rate=1e-3)\n",
    "    model.compile(optimizer=optimizer, loss='categorical_crossentropy', metrics=[\"accuracy\"])\n",
    "    return model"
   ],
   "metadata": {
    "collapsed": false,
    "ExecuteTime": {
     "end_time": "2024-02-02T20:01:07.020213Z",
     "start_time": "2024-02-02T20:01:07.015784Z"
    }
   },
   "id": "bd23a6c2f6f0f64b"
  },
  {
   "cell_type": "code",
   "execution_count": 5,
   "outputs": [],
   "source": [
    "with open(\"../data/dataset-info-json/subject_to_indices.json\", \"r\") as f:\n",
    "    subject_to_indices = json.load(f)\n",
    "\n",
    "subject_to_indices = {int(k): v for k, v in subject_to_indices.items()}"
   ],
   "metadata": {
    "collapsed": false,
    "ExecuteTime": {
     "end_time": "2024-02-02T20:01:07.401263Z",
     "start_time": "2024-02-02T20:01:07.397495Z"
    }
   },
   "id": "22ff591737b11994"
  },
  {
   "cell_type": "code",
   "execution_count": null,
   "outputs": [
    {
     "name": "stdout",
     "output_type": "stream",
     "text": [
      "Training without 1\n"
     ]
    },
    {
     "name": "stderr",
     "output_type": "stream",
     "text": [
      "2024-02-02 21:01:07.933288: I metal_plugin/src/device/metal_device.cc:1154] Metal device set to: Apple M1 Max\n",
      "2024-02-02 21:01:07.933344: I metal_plugin/src/device/metal_device.cc:296] systemMemory: 32.00 GB\n",
      "2024-02-02 21:01:07.933356: I metal_plugin/src/device/metal_device.cc:313] maxCacheSize: 10.67 GB\n",
      "2024-02-02 21:01:07.933425: I tensorflow/core/common_runtime/pluggable_device/pluggable_device_factory.cc:306] Could not identify NUMA node of platform GPU ID 0, defaulting to 0. Your kernel may not have been built with NUMA support.\n",
      "2024-02-02 21:01:07.933448: I tensorflow/core/common_runtime/pluggable_device/pluggable_device_factory.cc:272] Created TensorFlow device (/job:localhost/replica:0/task:0/device:GPU:0 with 0 MB memory) -> physical PluggableDevice (device: 0, name: METAL, pci bus id: <undefined>)\n"
     ]
    },
    {
     "name": "stdout",
     "output_type": "stream",
     "text": [
      "Epoch 1/32\n"
     ]
    },
    {
     "name": "stderr",
     "output_type": "stream",
     "text": [
      "2024-02-02 21:01:08.458243: I tensorflow/core/grappler/optimizers/custom_graph_optimizer_registry.cc:117] Plugin optimizer for device_type GPU is enabled.\n"
     ]
    },
    {
     "name": "stdout",
     "output_type": "stream",
     "text": [
      "882/882 [==============================] - 10s 11ms/step - loss: 0.7249 - accuracy: 0.7477\n",
      "Epoch 2/32\n",
      "882/882 [==============================] - 10s 12ms/step - loss: 0.6488 - accuracy: 0.7783\n",
      "Epoch 3/32\n",
      "882/882 [==============================] - 10s 11ms/step - loss: 0.6280 - accuracy: 0.7856\n",
      "Epoch 4/32\n",
      "882/882 [==============================] - 10s 11ms/step - loss: 0.6147 - accuracy: 0.7896\n",
      "Epoch 5/32\n",
      "882/882 [==============================] - 10s 11ms/step - loss: 0.6035 - accuracy: 0.7950\n",
      "Epoch 6/32\n",
      "882/882 [==============================] - 9s 11ms/step - loss: 0.5955 - accuracy: 0.7961\n",
      "Epoch 7/32\n",
      "882/882 [==============================] - 9s 11ms/step - loss: 0.5873 - accuracy: 0.7964\n",
      "Epoch 8/32\n",
      "882/882 [==============================] - 10s 11ms/step - loss: 0.5818 - accuracy: 0.7995\n",
      "Epoch 9/32\n",
      "882/882 [==============================] - 10s 11ms/step - loss: 0.5758 - accuracy: 0.8012\n",
      "Epoch 10/32\n",
      "882/882 [==============================] - 10s 11ms/step - loss: 0.5709 - accuracy: 0.8034\n",
      "Epoch 11/32\n",
      "882/882 [==============================] - 10s 11ms/step - loss: 0.5669 - accuracy: 0.8032\n",
      "Epoch 12/32\n",
      "882/882 [==============================] - 10s 11ms/step - loss: 0.5639 - accuracy: 0.8053\n",
      "Epoch 13/32\n",
      "882/882 [==============================] - 10s 11ms/step - loss: 0.5575 - accuracy: 0.8062\n",
      "Epoch 14/32\n",
      "882/882 [==============================] - 10s 11ms/step - loss: 0.5558 - accuracy: 0.8090\n",
      "Epoch 15/32\n",
      "882/882 [==============================] - 10s 11ms/step - loss: 0.5514 - accuracy: 0.8082\n",
      "Epoch 16/32\n",
      "882/882 [==============================] - 10s 11ms/step - loss: 0.5491 - accuracy: 0.8093\n",
      "Epoch 17/32\n",
      "882/882 [==============================] - 10s 11ms/step - loss: 0.5450 - accuracy: 0.8109\n",
      "Epoch 18/32\n",
      "882/882 [==============================] - 10s 11ms/step - loss: 0.5412 - accuracy: 0.8116\n",
      "Epoch 19/32\n",
      "882/882 [==============================] - 9s 10ms/step - loss: 0.5372 - accuracy: 0.8127\n",
      "Epoch 20/32\n",
      "882/882 [==============================] - 9s 10ms/step - loss: 0.5361 - accuracy: 0.8127\n",
      "Epoch 21/32\n",
      "882/882 [==============================] - 9s 10ms/step - loss: 0.5312 - accuracy: 0.8144\n",
      "Epoch 22/32\n",
      "882/882 [==============================] - 9s 10ms/step - loss: 0.5294 - accuracy: 0.8154\n",
      "Epoch 23/32\n",
      "882/882 [==============================] - 9s 10ms/step - loss: 0.5266 - accuracy: 0.8154\n",
      "Epoch 24/32\n",
      "882/882 [==============================] - 9s 10ms/step - loss: 0.5240 - accuracy: 0.8171\n",
      "Epoch 25/32\n",
      "882/882 [==============================] - 9s 10ms/step - loss: 0.5217 - accuracy: 0.8179\n",
      "Epoch 26/32\n",
      "882/882 [==============================] - 9s 10ms/step - loss: 0.5198 - accuracy: 0.8203\n",
      "Epoch 27/32\n",
      "882/882 [==============================] - 9s 10ms/step - loss: 0.5169 - accuracy: 0.8201\n",
      "Epoch 28/32\n",
      "882/882 [==============================] - 9s 11ms/step - loss: 0.5144 - accuracy: 0.8216\n",
      "Epoch 29/32\n",
      "882/882 [==============================] - 9s 10ms/step - loss: 0.5109 - accuracy: 0.8216\n",
      "Epoch 30/32\n",
      "882/882 [==============================] - 9s 11ms/step - loss: 0.5102 - accuracy: 0.8213\n",
      "Epoch 31/32\n",
      "882/882 [==============================] - 9s 10ms/step - loss: 0.5067 - accuracy: 0.8209\n",
      "Epoch 32/32\n",
      "882/882 [==============================] - 9s 10ms/step - loss: 0.5057 - accuracy: 0.8229\n",
      "262/262 [==============================] - 2s 8ms/step - loss: 0.6088 - accuracy: 0.7939\n",
      "Training without 2\n",
      "Epoch 1/32\n",
      "904/904 [==============================] - 10s 11ms/step - loss: 0.7345 - accuracy: 0.7438\n",
      "Epoch 2/32\n",
      "904/904 [==============================] - 10s 11ms/step - loss: 0.6584 - accuracy: 0.7704\n",
      "Epoch 3/32\n",
      "904/904 [==============================] - 9s 10ms/step - loss: 0.6377 - accuracy: 0.7793\n",
      "Epoch 4/32\n",
      "904/904 [==============================] - 10s 11ms/step - loss: 0.6276 - accuracy: 0.7835\n",
      "Epoch 5/32\n",
      "904/904 [==============================] - 10s 11ms/step - loss: 0.6198 - accuracy: 0.7864\n",
      "Epoch 6/32\n",
      "904/904 [==============================] - 10s 11ms/step - loss: 0.6117 - accuracy: 0.7885\n",
      "Epoch 7/32\n",
      "904/904 [==============================] - 10s 11ms/step - loss: 0.6050 - accuracy: 0.7909\n",
      "Epoch 8/32\n",
      "904/904 [==============================] - 10s 11ms/step - loss: 0.5986 - accuracy: 0.7914\n",
      "Epoch 9/32\n",
      "904/904 [==============================] - 10s 11ms/step - loss: 0.5942 - accuracy: 0.7933\n",
      "Epoch 10/32\n",
      "904/904 [==============================] - 10s 11ms/step - loss: 0.5899 - accuracy: 0.7953\n",
      "Epoch 11/32\n",
      "904/904 [==============================] - 10s 11ms/step - loss: 0.5844 - accuracy: 0.7965\n",
      "Epoch 12/32\n",
      "904/904 [==============================] - 10s 11ms/step - loss: 0.5800 - accuracy: 0.7976\n",
      "Epoch 13/32\n",
      "904/904 [==============================] - 10s 11ms/step - loss: 0.5774 - accuracy: 0.7972\n",
      "Epoch 14/32\n",
      "904/904 [==============================] - 10s 11ms/step - loss: 0.5722 - accuracy: 0.8007\n",
      "Epoch 15/32\n",
      "904/904 [==============================] - 10s 11ms/step - loss: 0.5697 - accuracy: 0.8011\n",
      "Epoch 16/32\n",
      "904/904 [==============================] - 10s 11ms/step - loss: 0.5658 - accuracy: 0.8031\n",
      "Epoch 17/32\n",
      "904/904 [==============================] - 10s 12ms/step - loss: 0.5625 - accuracy: 0.8038\n",
      "Epoch 18/32\n",
      "904/904 [==============================] - 10s 11ms/step - loss: 0.5599 - accuracy: 0.8035\n",
      "Epoch 19/32\n",
      "904/904 [==============================] - 10s 12ms/step - loss: 0.5571 - accuracy: 0.8056\n",
      "Epoch 20/32\n",
      "904/904 [==============================] - 10s 12ms/step - loss: 0.5525 - accuracy: 0.8062\n",
      "Epoch 21/32\n",
      "904/904 [==============================] - 10s 11ms/step - loss: 0.5518 - accuracy: 0.8066\n",
      "Epoch 22/32\n",
      "904/904 [==============================] - 10s 11ms/step - loss: 0.5470 - accuracy: 0.8081\n",
      "Epoch 23/32\n",
      "904/904 [==============================] - 10s 12ms/step - loss: 0.5460 - accuracy: 0.8073\n",
      "Epoch 24/32\n",
      "904/904 [==============================] - 10s 11ms/step - loss: 0.5418 - accuracy: 0.8100\n",
      "Epoch 25/32\n",
      "904/904 [==============================] - 10s 11ms/step - loss: 0.5392 - accuracy: 0.8112\n",
      "Epoch 26/32\n",
      "904/904 [==============================] - 10s 11ms/step - loss: 0.5384 - accuracy: 0.8107\n",
      "Epoch 27/32\n",
      "904/904 [==============================] - 10s 11ms/step - loss: 0.5357 - accuracy: 0.8100\n",
      "Epoch 28/32\n",
      "904/904 [==============================] - 10s 11ms/step - loss: 0.5359 - accuracy: 0.8102\n",
      "Epoch 29/32\n",
      "904/904 [==============================] - 10s 11ms/step - loss: 0.5298 - accuracy: 0.8134\n",
      "Epoch 30/32\n",
      "904/904 [==============================] - 10s 11ms/step - loss: 0.5277 - accuracy: 0.8123\n",
      "Epoch 31/32\n",
      "904/904 [==============================] - 10s 11ms/step - loss: 0.5257 - accuracy: 0.8150\n",
      "Epoch 32/32\n",
      "787/904 [=========================>....] - ETA: 1s - loss: 0.5235 - accuracy: 0.8151"
     ]
    }
   ],
   "source": [
    "for test_subject in subject_to_indices.keys():\n",
    "    # Load the data\n",
    "    print(f\"Training without {test_subject}\")\n",
    "    results = []\n",
    "    accuracy = []\n",
    "    loss = []\n",
    "    model = build_model(input_shape=(20,6))\n",
    "    train_data, train_labels, test_data, test_labels = load_data(test_subject, subject_to_indices)\n",
    "    history = model.fit(train_data, train_labels, epochs=32, batch_size=64)\n",
    "    results.append(model.evaluate(test_data, test_labels))\n",
    "    accuracy.append(history.history['accuracy'])\n",
    "    loss.append(history.history['loss'])\n",
    "    model.save(f\"../models/full_loso/majority_label/processed/model_{test_subject}.keras\")\n",
    "    \n",
    "    save_data(results, \"../models/full_loso/majority_label/processed/training_info/\", f\"results_{test_subject}\")\n",
    "    save_data(accuracy, \"../models/full_loso/majority_label/processed/training_info/\", f\"accuracy_{test_subject}\")\n",
    "    save_data(loss, \"../models/full_loso/majority_label/processed/training_info/\", f\"loss_{test_subject}\")\n"
   ],
   "metadata": {
    "collapsed": false,
    "is_executing": true,
    "ExecuteTime": {
     "start_time": "2024-02-02T20:01:07.930231Z"
    }
   },
   "id": "b82674018ad09163"
  },
  {
   "cell_type": "code",
   "execution_count": null,
   "outputs": [],
   "source": [
    "history.history['accuracy']"
   ],
   "metadata": {
    "collapsed": false
   },
   "id": "dec99c1826009149"
  },
  {
   "cell_type": "code",
   "execution_count": null,
   "outputs": [],
   "source": [
    "# epochs = range(len(acc))  # Number of epochs"
   ],
   "metadata": {
    "collapsed": false
   },
   "id": "e9c598c094e26a58"
  },
  {
   "cell_type": "code",
   "execution_count": null,
   "outputs": [],
   "source": [
    "np.mean(accuracy[0][:])\n",
    "avg_accuracy = [np.mean(sublist) for sublist in accuracy]\n",
    "avg_accuracy"
   ],
   "metadata": {
    "collapsed": false
   },
   "id": "aaa1c03bb8f28e2e"
  },
  {
   "cell_type": "code",
   "execution_count": null,
   "outputs": [],
   "source": [
    "np.mean(avg_accuracy)"
   ],
   "metadata": {
    "collapsed": false
   },
   "id": "ebf9824f9689a3f1"
  },
  {
   "cell_type": "code",
   "execution_count": null,
   "outputs": [],
   "source": [
    "np.mean(loss)"
   ],
   "metadata": {
    "collapsed": false
   },
   "id": "7e8b31f6634ab50c"
  },
  {
   "cell_type": "code",
   "execution_count": null,
   "outputs": [],
   "source": [
    "# # Plotting training and validation accuracy\n",
    "# plt.figure(figsize=(12, 4))\n",
    "# plt.subplot(1, 2, 1)\n",
    "# plt.plot(epochs, acc, label='Training Accuracy')\n",
    "# # plt.plot(epochs, val_acc, label='Validation Accuracy')\n",
    "# plt.title('Training Accuracy')\n",
    "# plt.legend()\n",
    "# \n",
    "# # Plotting training and validation loss\n",
    "# plt.subplot(1, 2, 2)\n",
    "# plt.plot(epochs, loss, label='Training Loss')\n",
    "# # plt.plot(epochs, val_loss, label='Validation Loss')\n",
    "# plt.title('Training Loss')\n",
    "# plt.legend()\n",
    "# \n",
    "# plt.show()"
   ],
   "metadata": {
    "collapsed": false
   },
   "id": "313650f827ed77f3"
  },
  {
   "cell_type": "code",
   "execution_count": null,
   "outputs": [],
   "source": [
    "# def build_lstm():\n",
    "#     lstm_model = Sequential()\n",
    "#     lstm_model.add(TimeDistributed(cnn_model, input_shape=(35, input_shape[0], input_shape[1])))  # Assuming input_shape is (20, 6)\n",
    "#     lstm_model.add(LSTM(64, activation='tanh', recurrent_activation='hard_sigmoid', return_sequences=True))\n",
    "#     lstm_model.add(LSTM(64, activation='tanh', recurrent_activation='hard_sigmoid'))\n",
    "#     lstm_model.add(Dropout(0.5))\n",
    "#     lstm_model.add(Dense(1, activation='sigmoid'))  # Binary classification\n",
    "# \n",
    "#     lstm_model.compile(optimizer='rmsprop', loss='binary_crossentropy', metrics=['accuracy'])\n",
    "#     return lstm_model\n"
   ],
   "metadata": {
    "collapsed": false
   },
   "id": "2383932c09f077e2"
  }
 ],
 "metadata": {
  "kernelspec": {
   "display_name": "Python 3",
   "language": "python",
   "name": "python3"
  },
  "language_info": {
   "codemirror_mode": {
    "name": "ipython",
    "version": 2
   },
   "file_extension": ".py",
   "mimetype": "text/x-python",
   "name": "python",
   "nbconvert_exporter": "python",
   "pygments_lexer": "ipython2",
   "version": "2.7.6"
  }
 },
 "nbformat": 4,
 "nbformat_minor": 5
}
