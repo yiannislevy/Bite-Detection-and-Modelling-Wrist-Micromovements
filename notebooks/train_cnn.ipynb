{
 "cells": [
  {
   "cell_type": "code",
   "execution_count": 1,
   "id": "initial_id",
   "metadata": {
    "collapsed": true,
    "ExecuteTime": {
     "end_time": "2024-01-09T22:24:38.698975Z",
     "start_time": "2024-01-09T22:24:36.074851Z"
    }
   },
   "outputs": [],
   "source": [
    "from tensorflow.keras.models import Sequential\n",
    "from tensorflow.keras.layers import Conv1D, MaxPooling1D, Flatten, Dense, Dropout\n",
    "from sklearn.model_selection import train_test_split\n",
    "import numpy as np\n",
    "import pickle as pkl\n",
    "from src.utils.data_transform import *\n",
    "import pandas as pd\n",
    "import os \n",
    "import pickle "
   ]
  },
  {
   "cell_type": "code",
   "execution_count": 2,
   "outputs": [],
   "source": [
    "def load_data(path):\n",
    "    data = pd.read_pickle(path)\n",
    "    signal_data = np.array([item[0] for item in data])\n",
    "    label_data = np.array([item[1] for item in data])\n",
    "    return signal_data, label_data"
   ],
   "metadata": {
    "collapsed": false,
    "ExecuteTime": {
     "end_time": "2024-01-09T22:24:38.703801Z",
     "start_time": "2024-01-09T22:24:38.700431Z"
    }
   },
   "id": "6bf9be48179ef32"
  },
  {
   "cell_type": "code",
   "execution_count": 3,
   "outputs": [],
   "source": [
    "def build_model(input_shape):\n",
    "    model = Sequential()\n",
    "    model.add(Conv1D(filters=64, kernel_size=10, activation='relu', input_shape=input_shape, padding='same'))\n",
    "    model.add(MaxPooling1D(pool_size=2))\n",
    "    model.add(Conv1D(filters=128, kernel_size=10, activation='relu', padding='same'))\n",
    "    model.add(MaxPooling1D(pool_size=2))\n",
    "    model.add(Flatten())\n",
    "    model.add(Dropout(0.5))\n",
    "    model.add(Dense(5, activation='softmax'))  # Assuming 5 classes for the output layer\n",
    "\n",
    "    model.compile(optimizer='adam', loss='categorical_crossentropy', metrics=['accuracy'])\n",
    "    return model"
   ],
   "metadata": {
    "collapsed": false,
    "ExecuteTime": {
     "end_time": "2024-01-09T22:24:39.835581Z",
     "start_time": "2024-01-09T22:24:39.829591Z"
    }
   },
   "id": "bd23a6c2f6f0f64b"
  },
  {
   "cell_type": "code",
   "execution_count": 4,
   "outputs": [],
   "source": [
    "# Load the data\n",
    "file_path = '../data/LOSO.nosync/'  # Replace with your file path\n",
    "loso_results = []\n"
   ],
   "metadata": {
    "collapsed": false,
    "ExecuteTime": {
     "end_time": "2024-01-09T22:24:40.453088Z",
     "start_time": "2024-01-09T22:24:40.447753Z"
    }
   },
   "id": "b912cf1a257f3be4"
  },
  {
   "cell_type": "code",
   "execution_count": null,
   "outputs": [],
   "source": [
    "for subject in range(1, 13):\n",
    "    print(f\"Training on all but subject {subject}\")\n",
    "\n",
    "    # Load training and testing data\n",
    "    train_data_path = os.path.join(data_dir_path, f'all_but_{subject}', 'train_data.pkl')\n",
    "    test_data_path = os.path.join(data_dir_path, f'all_but_{subject}', 'test_data.pkl')\n",
    "    \n",
    "    X_train, y_train = load_data(train_data_path)\n",
    "    X_test, y_test = load_data(test_data_path)\n",
    "    \n",
    "    model = build_model(input_shape=X_train.shape[1:])\n",
    "    \n",
    "    model.fit(X_train, y_train,  epochs=32, batch_size=32)\n",
    "    \n",
    "    y_pred = model.predict(X_test)\n",
    "    y_pred_classes = np.argmax(y_pred, axis=1)\n",
    "    y_test_classes = np.argmax(y_test, axis=1)\n",
    "    \n",
    "    # Calculate accuracy\n",
    "    accuracy = accuracy_score(y_test_classes, y_pred_classes)\n",
    "    loso_results.append(accuracy)\n"
   ],
   "metadata": {
    "collapsed": false
   },
   "id": "3a3b586e201c69fc"
  },
  {
   "cell_type": "code",
   "execution_count": null,
   "outputs": [],
   "source": [
    " "
   ],
   "metadata": {
    "collapsed": false
   },
   "id": "733222424dfd2b2e"
  }
 ],
 "metadata": {
  "kernelspec": {
   "display_name": "Python 3",
   "language": "python",
   "name": "python3"
  },
  "language_info": {
   "codemirror_mode": {
    "name": "ipython",
    "version": 2
   },
   "file_extension": ".py",
   "mimetype": "text/x-python",
   "name": "python",
   "nbconvert_exporter": "python",
   "pygments_lexer": "ipython2",
   "version": "2.7.6"
  }
 },
 "nbformat": 4,
 "nbformat_minor": 5
}
