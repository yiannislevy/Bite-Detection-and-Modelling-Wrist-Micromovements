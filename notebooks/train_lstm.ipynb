{
 "cells": [
  {
   "cell_type": "code",
   "execution_count": null,
   "id": "initial_id",
   "metadata": {
    "collapsed": true
   },
   "outputs": [],
   "source": [
    "from tensorflow.keras.models import Sequential\n",
    "from tensorflow.keras.layers import Conv1D, MaxPooling1D, Flatten, Dense, Dropout\n",
    "from keras.optimizers import Adam\n",
    "\n",
    "from keras.optimizers.legacy import Adam as LegacyAdam\n",
    "\n",
    "from sklearn.model_selection import train_test_split\n",
    "from sklearn.metrics import accuracy_score\n",
    "import numpy as np\n",
    "import pickle as pkl\n",
    "from src.utils.data_transform import *\n",
    "import pandas as pd\n",
    "import os \n",
    "import pickle \n",
    "import json"
   ]
  },
  {
   "cell_type": "code",
   "execution_count": null,
   "outputs": [],
   "source": [
    "def binary_cross_entropy_loss(y_true, y_pred):\n",
    "    return -K.sum((y_true * K.log(y_pred)) + ((1 - y_true) * K.log(1 - y_pred)))"
   ],
   "metadata": {
    "collapsed": false
   },
   "id": "ebc60506ca9660c0"
  },
  {
   "cell_type": "code",
   "execution_count": null,
   "outputs": [],
   "source": [
    "def build_model():\n",
    "    model = Sequential()\n",
    "    model.add(LSTM(64, input_shape=(35, 5), \n",
    "                   recurrent_activation='hard_sigmoid', \n",
    "                   activation='tanh', \n",
    "                   return_sequences=True))\n",
    "    model.add(LSTM(64, recurrent_activation='hard_sigmoid', \n",
    "                   activation='tanh'))\n",
    "    model.add(Dense(1, activation='sigmoid'))\n",
    "    model.add(Dropout(0.5))\n",
    "    optimizer = RMSprop(learning_rate=1e-3)\n",
    "    model.compile(loss=binary_cross_entropy_loss, optimizer=optimizer)\n",
    "    \n",
    "    return model"
   ],
   "metadata": {
    "collapsed": false
   },
   "id": "6e548b332f55693c"
  },
  {
   "cell_type": "code",
   "execution_count": null,
   "outputs": [],
   "source": [
    "#data loading/splitting etc\n",
    "x_train, y_train = [], []"
   ],
   "metadata": {
    "collapsed": false
   },
   "id": "4ae75264644c9830"
  },
  {
   "cell_type": "code",
   "execution_count": null,
   "outputs": [],
   "source": [
    "model.fit(x_train, y_train, epochs=6, batch_size=32)"
   ],
   "metadata": {
    "collapsed": false
   },
   "id": "49bf992b59601d9f"
  }
 ],
 "metadata": {
  "kernelspec": {
   "display_name": "Python 3",
   "language": "python",
   "name": "python3"
  },
  "language_info": {
   "codemirror_mode": {
    "name": "ipython",
    "version": 2
   },
   "file_extension": ".py",
   "mimetype": "text/x-python",
   "name": "python",
   "nbconvert_exporter": "python",
   "pygments_lexer": "ipython2",
   "version": "2.7.6"
  }
 },
 "nbformat": 4,
 "nbformat_minor": 5
}
